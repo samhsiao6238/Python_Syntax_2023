{
 "cells": [
  {
   "attachments": {},
   "cell_type": "markdown",
   "metadata": {},
   "source": [
    "### 1. 表格\n",
    "\n",
    "在 Jupyter 的 Markdown 單元中繪製表格可以直接使用 Markdown 語法。例如：\n",
    "\n",
    "| 頭部1  | 頭部2  |\n",
    "|---|---|\n",
    "| 資料1  | 資料2  |\n",
    "| 資料3  | 資料4  |"
   ]
  },
  {
   "attachments": {},
   "cell_type": "markdown",
   "metadata": {},
   "source": [
    "### 2. 插入圖片\n",
    "\n",
    "![替代文字](github.jpg)"
   ]
  },
  {
   "attachments": {},
   "cell_type": "markdown",
   "metadata": {},
   "source": [
    "### 3. 建立超連結\n",
    "\n",
    "[連結 Google](https://www.google.com/)\n"
   ]
  },
  {
   "attachments": {},
   "cell_type": "markdown",
   "metadata": {},
   "source": [
    "### 4. 插入程式碼塊\n",
    "\n",
    "```python\n",
    "print('Hello, World!')\n",
    "\n",
    "注意：最外層的引號是用來顯示範例，實際使用時不需要加入。"
   ]
  },
  {
   "attachments": {},
   "cell_type": "markdown",
   "metadata": {},
   "source": [
    "### 5. **建立數學公式**\n",
    "\n",
    "Jupyter 的 Markdown 支持 LaTeX 數學公式。你可以使用兩個美元符號來建立一個獨立的公式：\n",
    "\n",
    "###### 5.1\n",
    "$$\n",
    "f(x) = x^2\n",
    "$$\n",
    "\n",
    "###### 5.2\n",
    "這是一個行內公式：\\($e^{i\\pi}$ + 1 = 0\\)\n",
    "\n",
    "###### 5.3\n",
    "或是：\n",
    "$$\n",
    "e^{i\\pi} + 1 = 0\n",
    "$$\n",
    "\n",
    "###### 5.4\n",
    "或者使用一個美元符號來建立內嵌的公式，在左右兩邊加上「$」\n",
    "$x^2$\n",
    "\n",
    "### 假如要忽略「$」或「&&」要加上「```markdown」裝飾字\n"
   ]
  },
  {
   "attachments": {},
   "cell_type": "markdown",
   "metadata": {},
   "source": []
  },
  {
   "attachments": {},
   "cell_type": "markdown",
   "metadata": {},
   "source": [
    "### 6. 建立列表\n",
    "\n",
    "可以使用星號、加號或是短橫線來建立無序列表，而建立有序列表則直接使用數字後面接上點號。\n",
    "\n",
    "- 列表項目1\n",
    "- 列表項目2\n",
    "- 列表項目3\n"
   ]
  },
  {
   "attachments": {},
   "cell_type": "markdown",
   "metadata": {},
   "source": []
  },
  {
   "attachments": {},
   "cell_type": "markdown",
   "metadata": {},
   "source": [
    "### 7. 建立待辦列表\n",
    "\n",
    "- [ ] 待辦事項1\n",
    "- [x] 已完成事項1"
   ]
  },
  {
   "attachments": {},
   "cell_type": "markdown",
   "metadata": {},
   "source": [
    "### 8. 插入 HTML\n",
    "\n",
    "Markdown 也支持直接插入 HTML。\n",
    "\n",
    "<div style=\"color: red\">這是紅色文字。</div>\n"
   ]
  },
  {
   "attachments": {},
   "cell_type": "markdown",
   "metadata": {},
   "source": [
    "### 9. 縮排\n",
    "\n",
    "&nbsp;&nbsp;(1)這是一段縮排的文字。\n",
    "\n",
    "<blockquote>\n",
    "(2)這是一段縮排的文字。\n",
    "</blockquote>\n",
    "\n",
    "\n",
    "\n",
    ">(3)這是一段縮排的文字。\n",
    "\n",
    "\n",
    "<p style=\"margin-left: 40px;\">\n",
    "(4)這是一段縮排的文字。\n",
    "</p>"
   ]
  },
  {
   "attachments": {},
   "cell_type": "markdown",
   "metadata": {},
   "source": []
  }
 ],
 "metadata": {
  "kernelspec": {
   "display_name": "Python 3",
   "language": "python",
   "name": "python3"
  },
  "language_info": {
   "name": "python",
   "version": "3.9.6"
  },
  "orig_nbformat": 4
 },
 "nbformat": 4,
 "nbformat_minor": 2
}
