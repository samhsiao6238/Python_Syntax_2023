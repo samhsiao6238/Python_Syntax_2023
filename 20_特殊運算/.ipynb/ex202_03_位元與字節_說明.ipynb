{
 "cells": [
  {
   "attachments": {},
   "cell_type": "markdown",
   "metadata": {},
   "source": [
    "# 位元（bit）\n",
    "\n",
    ">>1. 位元是最基本的數據單位，只有兩種值，0或1。\n",
    "\n",
    ">>2. 在 Python 中並沒有直接處理位元的資料類型，可透過「位元運算子」來操作整數的位元（如下表）。\n",
    "\n",
    ">>>| 符號 | 說明 |\n",
    ">>>|---|---|\n",
    ">>>| & | and |\n",
    ">>>| \\| | or |\n",
    ">>>| ^ | xor |\n",
    ">>>| ~ | not |\n",
    ">>>| << | 左移 |\n",
    ">>>| >> | 右移 |\n"
   ]
  },
  {
   "attachments": {},
   "cell_type": "markdown",
   "metadata": {},
   "source": [
    "1. and / or\n",
    ">>>這裡為何 12 & 10 的結果是 8？而 12 | 10 的結果是 14 呢？\n",
    "\n",
    ">>>要理解這點，我們需要將數字轉換為它們的二進位表示形式。在二進位中，12 可以表示為 1100，10 可以表示為 1010，而位元 AND 和位元 OR 就是對對這些位元數值進行運算。"
   ]
  },
  {
   "cell_type": "code",
   "execution_count": 7,
   "metadata": {},
   "outputs": [
    {
     "name": "stdout",
     "output_type": "stream",
     "text": [
      "12 & 10 表示 1100 與 1010 的位元運算 = 1000\n",
      "1000 的10進位 = 8\n",
      "------------------\n",
      "12 | 10 表示 1100 與 1010 的位元運算 = 1110\n",
      "1110 的10進位 = 14\n"
     ]
    }
   ],
   "source": [
    "# 位元 AND\n",
    "result = 12 & 10\n",
    "print(f'12 & 10 表示 {12:b} 與 {10:b} 的位元運算 = {result:b}') \n",
    "print(f'{result:b} 的10進位 = {result}')  # 輸出：8\n",
    "\n",
    "print('------------------')\n",
    "# 位元 OR\n",
    "result = 12 | 10\n",
    "print(f'12 | 10 表示 {12:b} 與 {10:b} 的位元運算 = {result:b}')\n",
    "print(f'{result:b} 的10進位 = {result}')  # 輸出：14\n"
   ]
  },
  {
   "attachments": {},
   "cell_type": "markdown",
   "metadata": {},
   "source": [
    "【補充說明】\n",
    "\n",
    ">>位元 AND（&）：兩個位元都是1，結果才為1，否則為0。\n",
    "\n",
    ">>12: 1100\n",
    ">>10: 1010\n",
    ">>----------\n",
    ">>&:   1000  # 這是二進位表示的 8\n",
    "\n",
    ">>位元 OR（|）：兩個位元其中一個為1，結果就為1，兩個都為0，結果才為0。\n",
    "\n",
    ">>12: 1100\n",
    ">>10: 1010\n",
    ">>----------\n",
    ">>|:   1110  # 這是二進位表示的 14\n"
   ]
  },
  {
   "attachments": {},
   "cell_type": "markdown",
   "metadata": {},
   "source": [
    "# 字節（byte）\n",
    "\n",
    "1. 一個 byte 等於8個位元(bit)，是存儲資訊的基本單位，也是最常見的電腦數據單位，因為8位元的組合可以表示256種不同的值，這對於創建更大的數字或者表示像字母和數字這樣的字符非常方便。\n",
    "\n",
    "2. 在 Python 中，我們可以用 bytes 類型來操作字節序列。bytes 對象是由 0 到 255 之間的整數所組成的不可變序列。\n",
    "\n",
    "3. 在字符編碼（如ASCII，UTF-8，UTF-16等）中，一個字符可能占用的位元數量可以變化。例如，在ASCII編碼中，一個字符只占用1個 byte（或8個 bit），而在UTF-16編碼中，一個字符可能占用2或4個 byte（也就是 16或32個 bit）。\n",
    "\n",
    "4. 另外，全形字符在很多編碼系統中，例如UTF-8或UTF-16，一般都是占用2個字節的。"
   ]
  },
  {
   "attachments": {},
   "cell_type": "markdown",
   "metadata": {},
   "source": [
    "### 下面的範例\n",
    "\n",
    "b 是一個 bytes 對象，它是由 5 個字節組成的。每個字節在這裡都被表示為一個介於 0 和 255 之間的整數。當我們印出 b 時，每個字節被顯示為它對應的 ASCII 字符（如果它有對應的可印字元）或其十六進位值（例如 \\x0c 和 \\xff）。"
   ]
  },
  {
   "cell_type": "code",
   "execution_count": 10,
   "metadata": {},
   "outputs": [
    {
     "name": "stdout",
     "output_type": "stream",
     "text": [
      "b'{\\x0c-N\\xff'\n",
      "\n",
      "===============\n",
      "b'{'\n",
      "b'\\x0c'\n",
      "b'-'\n",
      "b'N'\n",
      "b'\\xff'\n"
     ]
    }
   ],
   "source": [
    "b = bytes([123, 12, 45, 78, 255])\n",
    "print(b)  # 輸出：b'{\\x0c-|N\\xff}'\n",
    "print('\\n===============')\n",
    "print(bytes([123]))\n",
    "print(bytes([12]))\n",
    "print(bytes([45]))\n",
    "print(bytes([78]))\n",
    "print(bytes([255]))"
   ]
  },
  {
   "attachments": {},
   "cell_type": "markdown",
   "metadata": {},
   "source": [
    "---END---"
   ]
  }
 ],
 "metadata": {
  "kernelspec": {
   "display_name": "base",
   "language": "python",
   "name": "python3"
  },
  "language_info": {
   "codemirror_mode": {
    "name": "ipython",
    "version": 3
   },
   "file_extension": ".py",
   "mimetype": "text/x-python",
   "name": "python",
   "nbconvert_exporter": "python",
   "pygments_lexer": "ipython3",
   "version": "3.10.9"
  },
  "orig_nbformat": 4
 },
 "nbformat": 4,
 "nbformat_minor": 2
}
