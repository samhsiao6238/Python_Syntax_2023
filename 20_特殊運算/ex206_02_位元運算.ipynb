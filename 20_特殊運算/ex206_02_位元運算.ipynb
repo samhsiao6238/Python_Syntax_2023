{
 "cells": [
  {
   "attachments": {},
   "cell_type": "markdown",
   "metadata": {},
   "source": [
    "# 位元運算\n",
    "\n",
    ">Python 在一般語句中使用「&」「|」「~」代表的是位元運算，而不是邏輯運算。\n",
    "\n",
    ">特別注意「優先等級」，因為位元運算子「&」等級高於邏輯運算子「>」，所以要加上括號，不然會得到與預期未必相同得結果，就算相同也未必是原本要比較的內容。"
   ]
  },
  {
   "cell_type": "code",
   "execution_count": 1,
   "metadata": {},
   "outputs": [
    {
     "name": "stdout",
     "output_type": "stream",
     "text": [
      "0b1010\n",
      "0b101\n",
      "0b1\n",
      "0b1\n",
      "1010\n",
      "101\n",
      "1\n",
      "1\n",
      "==================\n",
      "兩個數字都是正數\n",
      "至少有一個數字是正數\n",
      "x 不是負數\n"
     ]
    }
   ],
   "source": [
    "x = 10\n",
    "y = 5\n",
    "# 透過 bin() 函式將數字轉換成二進位查看\n",
    "print(bin(x))\n",
    "print(bin(y))\n",
    "print(bin(True))\n",
    "print(bin(1))\n",
    "# 可以透過 [2:] 取得二進位的值\n",
    "print(bin(x)[2:])\n",
    "print(bin(y)[2:])\n",
    "print(bin(True)[2:])\n",
    "print(bin(1)[2:])\n",
    "print('==================')\n",
    "if (x > 0) & (y > 0):\n",
    "    print(\"兩個數字都是正數\")\n",
    "\n",
    "if x > 0 | y > 0:\n",
    "    print(\"至少有一個數字是正數\")\n",
    "\n",
    "if ~ x < 0:\n",
    "    print(\"x 不是負數\")"
   ]
  },
  {
   "attachments": {},
   "cell_type": "markdown",
   "metadata": {},
   "source": [
    "Python中的任何非零數字或非空對象都會被評估為 True，而零、空對象和特殊對象 None 會被評估為 False。因此，你可以在條件判斷中使用這些值。例如："
   ]
  },
  {
   "cell_type": "code",
   "execution_count": 3,
   "metadata": {},
   "outputs": [
    {
     "name": "stdout",
     "output_type": "stream",
     "text": [
      "The list is not empty\n",
      "The string is empty\n"
     ]
    }
   ],
   "source": [
    "lst = [1, 2, 3]\n",
    "\n",
    "if lst:\n",
    "    print(\"The list is not empty\")\n",
    "\n",
    "str = \"\"\n",
    "\n",
    "if not str:\n",
    "    print(\"The string is empty\")\n"
   ]
  },
  {
   "attachments": {},
   "cell_type": "markdown",
   "metadata": {},
   "source": [
    "### pandas 中的運算\n",
    "\n",
    ">在處理布林值或進行 pandas 條件查詢時，「&」可以作為邏輯 AND 運算符使用。這時，它將對兩個布林值進行 AND 運算，或對兩個條件查詢結果進行合併。以下是一個範例："
   ]
  },
  {
   "cell_type": "code",
   "execution_count": 19,
   "metadata": {},
   "outputs": [
    {
     "name": "stdout",
     "output_type": "stream",
     "text": [
      "   A  B  C\n",
      "0  1  5  a\n",
      "1  2  6  b\n",
      "2  3  7  c\n",
      "3  4  8  d\n",
      "------------------\n",
      "0    False\n",
      "1    False\n",
      "2     True\n",
      "3     True\n",
      "Name: A, dtype: bool\n",
      "------------------\n",
      "   A  B  C\n",
      "2  3  7  c\n",
      "3  4  8  d\n",
      "------------------\n",
      "   A  B  C\n",
      "0  1  5  a\n",
      "1  2  6  b\n",
      "2  3  7  c\n",
      "------------------\n",
      "   A  B  C\n",
      "2  3  7  c\n"
     ]
    }
   ],
   "source": [
    "import pandas as pd\n",
    "\n",
    "df = pd.DataFrame({\n",
    "    'A': [1, 2, 3, 4],\n",
    "    'B': [5, 6, 7, 8],\n",
    "    'C': ['a', 'b', 'c', 'd']\n",
    "})\n",
    "print(df)\n",
    "print('------------------')\n",
    "print(df['A'] > 2)\n",
    "print('------------------')\n",
    "print(df[(df['A'] > 2)])\n",
    "print('------------------')\n",
    "print(df[(df['B'] < 8)])\n",
    "print('------------------')\n",
    "# 使用 & 符號，表示 AND，兩個條件都要滿足\n",
    "print(df[(df['A'] > 2) & (df['B'] < 8)])\n"
   ]
  },
  {
   "attachments": {},
   "cell_type": "markdown",
   "metadata": {},
   "source": [
    "### pandas Series\n",
    "\n",
    ">在 pandas 中使用「&」作為邏輯 AND 運算符是可行的"
   ]
  },
  {
   "cell_type": "code",
   "execution_count": 22,
   "metadata": {},
   "outputs": [
    {
     "name": "stdout",
     "output_type": "stream",
     "text": [
      "0    True\n",
      "1    True\n",
      "dtype: bool\n",
      "------------------\n",
      "0     True\n",
      "1    False\n",
      "dtype: bool\n",
      "------------------\n",
      "0     True\n",
      "1    False\n",
      "dtype: bool\n"
     ]
    }
   ],
   "source": [
    "import pandas as pd\n",
    "\n",
    "s1 = pd.Series([True, True])\n",
    "s2 = pd.Series([True, False])\n",
    "s3 = s1 & s2\n",
    "\n",
    "print(s1)\n",
    "print('------------------')\n",
    "print(s2)\n",
    "print('------------------')\n",
    "print(s3)\n"
   ]
  },
  {
   "cell_type": "code",
   "execution_count": null,
   "metadata": {},
   "outputs": [],
   "source": []
  }
 ],
 "metadata": {
  "kernelspec": {
   "display_name": "base",
   "language": "python",
   "name": "python3"
  },
  "language_info": {
   "codemirror_mode": {
    "name": "ipython",
    "version": 3
   },
   "file_extension": ".py",
   "mimetype": "text/x-python",
   "name": "python",
   "nbconvert_exporter": "python",
   "pygments_lexer": "ipython3",
   "version": "3.10.9"
  },
  "orig_nbformat": 4
 },
 "nbformat": 4,
 "nbformat_minor": 2
}
