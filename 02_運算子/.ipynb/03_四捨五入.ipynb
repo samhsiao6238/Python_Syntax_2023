{
 "cells": [
  {
   "attachments": {},
   "cell_type": "markdown",
   "metadata": {},
   "source": [
    "# 四捨五入\n",
    "\n",
    ">- 在 Python 進行四捨五入時，可有三種模式選擇："
   ]
  },
  {
   "attachments": {},
   "cell_type": "markdown",
   "metadata": {},
   "source": [
    ">1. <font color='red'>Bankers' Rounding</font> 或稱 <font color='red'>Round Half To Even</font> (預設)\n",
    "\n",
    ">>>Python 內建預設的四捨五入 round() 功能，使用這個功能時要特別注意一點，當小數部分<font color='red'>剛好是 0.5 </font>的時候，Python round() 會將物件四捨五入到<font color='red'>最接近的偶數</font>。這種方法叫做<font color='red'>Bankers' Rounding</font>，也稱為<font color='red'>Round Half To Even</font>。其餘情況下的四捨五入與一般數如相同。\n",
    "\n",
    ">>>這種四捨五入方法在統計學中是常用的，因為它可以消除系統性偏差，尤其適用於需要對大量的數據進行四捨五入運算時。\n",
    "\n",
    ">2. <font color='red'>math.floor()</font> 及 <font color='red'>math.ceil()</font>\n",
    "\n",
    ">>>使用 math.floor() 和 math.ceil() 函數會進行一般數學上的無條件進位與無條件捨去。\n",
    "\n",
    ">3. <font color='red'>自定義四捨五入</font>\n",
    "\n",
    ">>>以上兩種方法無論怎麼結合都無法達成純數學上的「四捨五入」，所以要透過自訂函數來達到此目的。"
   ]
  },
  {
   "attachments": {},
   "cell_type": "markdown",
   "metadata": {},
   "source": [
    "### 1. Bankers' Rounding"
   ]
  },
  {
   "cell_type": "code",
   "execution_count": 2,
   "metadata": {},
   "outputs": [
    {
     "name": "stdout",
     "output_type": "stream",
     "text": [
      "3.5 進行 round =  4\n",
      "4.5 進行 round =  4\n",
      "3.4 進行 round =  3\n",
      "3.6 進行 round =  4\n",
      "4.4 進行 round =  4\n",
      "4.6 進行 round =  5\n",
      "3.1415926 進行 round 到小數點後三位 =  3.142\n"
     ]
    }
   ],
   "source": [
    "# 剛好是 0.5 的時候，會取偶數\n",
    "a = 3.5\n",
    "b = 4.5\n",
    "print('3.5 進行 round = ', round(a))\n",
    "print('4.5 進行 round = ', round(b))\n",
    "\n",
    "# 其他情況不是剛好是 0.5 的時候，與數學上的四捨五入相同，會取最近的整數\n",
    "a = 3.4\n",
    "b = 3.6\n",
    "c = 4.4\n",
    "d = 4.6\n",
    "print('剛好 0.5 的時候，會取偶數')\n",
    "print('3.4 進行 round = ', round(a))\n",
    "print('3.6 進行 round = ', round(b))\n",
    "print('4.4 進行 round = ', round(c))\n",
    "print('4.6 進行 round = ', round(d))\n",
    "\n",
    "# 進行四捨五入到小數點第二位\n",
    "a = 3.1415926\n",
    "print('3.1415926 進行 round 到小數點後三位 = ', round(a, 3))"
   ]
  },
  {
   "attachments": {},
   "cell_type": "markdown",
   "metadata": {},
   "source": [
    "### 2. math.floor() 及 math.ceil()\n"
   ]
  },
  {
   "cell_type": "code",
   "execution_count": 12,
   "metadata": {},
   "outputs": [
    {
     "name": "stdout",
     "output_type": "stream",
     "text": [
      "3.6 透過 math.floor 取值 =  3\n",
      "-3.6 透過 math.floor 取值 =  -4\n",
      "3.6 透過 math.ceil 取值 =  4\n",
      "-3.6 透過 math.ceil 取值 =  -3\n"
     ]
    }
   ],
   "source": [
    "import math\n",
    "\n",
    "# 透過 math.floor 取值\n",
    "a = 3.6\n",
    "b = -3.6\n",
    "print('3.6 透過 math.floor 取值 = ', math.floor(a))\n",
    "print('-3.6 透過 math.floor 取值 = ', math.floor(b))\n",
    "\n",
    "# 透過 math.ceil 取值\n",
    "a = 3.6\n",
    "b = -3.6\n",
    "print('3.6 透過 math.ceil 取值 = ', math.ceil(a))\n",
    "print('-3.6 透過 math.ceil 取值 = ', math.ceil(b))\n"
   ]
  },
  {
   "attachments": {},
   "cell_type": "markdown",
   "metadata": {},
   "source": [
    "### 3. 自定義"
   ]
  },
  {
   "cell_type": "code",
   "execution_count": 17,
   "metadata": {},
   "outputs": [
    {
     "name": "stdout",
     "output_type": "stream",
     "text": [
      "3.5 透過自定義四捨五入取值 =  4\n",
      "-3.5 透過自定義四捨五入取值 =  -4\n",
      "4.5 透過自定義四捨五入取值 =  5\n",
      "-4.5 透過自定義四捨五入取值 =  -5\n",
      "------------------------------------\n",
      "3.4 進行 round =  3\n",
      "-3.4 進行 round =  -3\n",
      "3.6 進行 round =  4\n",
      "-3.6 進行 round =  -4\n"
     ]
    }
   ],
   "source": [
    "# 自定義四捨五入，完成數學上的四捨五入\n",
    "def traditional_round(num):\n",
    "    # 先檢查數值是否大於或等於0\n",
    "    if num >= 0:\n",
    "        # 對數值加上0.5後進行無條件捨去\n",
    "        return math.floor(num + 0.5)\n",
    "    else:\n",
    "        # 對數值減去0.5後進行無條件進位\n",
    "        return math.ceil(num - 0.5)\n",
    "\n",
    "# 透過自定義四捨五入取值\n",
    "a = 3.5\n",
    "b = -3.5\n",
    "c = 4.5\n",
    "d = -4.5\n",
    "print('3.5 透過自定義四捨五入取值 = ', traditional_round(a))\n",
    "print('-3.5 透過自定義四捨五入取值 = ', traditional_round(b))\n",
    "print('4.5 透過自定義四捨五入取值 = ', traditional_round(c))\n",
    "print('-4.5 透過自定義四捨五入取值 = ', traditional_round(d))\n",
    "\n",
    "print('------------------------------------')\n",
    "a = 3.4\n",
    "b = -3.4\n",
    "print('3.4 進行 round = ', round(a))\n",
    "print('-3.4 進行 round = ', round(b))\n",
    "\n",
    "c = 3.6\n",
    "d = -3.6\n",
    "print('3.6 進行 round = ', round(c))\n",
    "print('-3.6 進行 round = ', round(d))\n"
   ]
  },
  {
   "attachments": {},
   "cell_type": "markdown",
   "metadata": {},
   "source": [
    "---END---"
   ]
  }
 ],
 "metadata": {
  "kernelspec": {
   "display_name": "Python 3",
   "language": "python",
   "name": "python3"
  },
  "language_info": {
   "codemirror_mode": {
    "name": "ipython",
    "version": 3
   },
   "file_extension": ".py",
   "mimetype": "text/x-python",
   "name": "python",
   "nbconvert_exporter": "python",
   "pygments_lexer": "ipython3",
   "version": "3.10.9"
  },
  "orig_nbformat": 4
 },
 "nbformat": 4,
 "nbformat_minor": 2
}
