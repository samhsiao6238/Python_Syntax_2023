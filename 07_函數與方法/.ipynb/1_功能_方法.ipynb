{
 "cells": [
  {
   "attachments": {},
   "cell_type": "markdown",
   "metadata": {},
   "source": [
    "1. 功能\n",
    "\n",
    ">>是獨立的程式區塊，可以直接調用"
   ]
  },
  {
   "cell_type": "code",
   "execution_count": null,
   "metadata": {},
   "outputs": [],
   "source": [
    "def greet(name):\n",
    "    return f\"Hello, {name}!\"\n",
    "\n",
    "print(greet(\"Alice\"))  # 輸出：Hello, Alice!"
   ]
  },
  {
   "attachments": {},
   "cell_type": "markdown",
   "metadata": {},
   "source": [
    "2. 方法\n",
    " \n",
    ">>是在類別中定義的，必須透過類的實體調用，方法中可以存取該物件的屬性和其他方法。"
   ]
  },
  {
   "cell_type": "code",
   "execution_count": null,
   "metadata": {},
   "outputs": [],
   "source": [
    "# 自定義類別\n",
    "class Person:\n",
    "    # 初始化方法\n",
    "    def __init__(self, name):\n",
    "        self.name = name\n",
    "    # 自定義方法\n",
    "    def greet(self):\n",
    "        return f\"Hello, {self.name}!\"\n",
    "# 建立物件\n",
    "alice = Person(\"Alice\")\n",
    "# 呼叫物件方法\n",
    "print(alice.greet())  # 輸出：Hello, Alice!\n"
   ]
  },
  {
   "attachments": {},
   "cell_type": "markdown",
   "metadata": {},
   "source": [
    "---END--"
   ]
  }
 ],
 "metadata": {
  "language_info": {
   "name": "python"
  },
  "orig_nbformat": 4
 },
 "nbformat": 4,
 "nbformat_minor": 2
}
