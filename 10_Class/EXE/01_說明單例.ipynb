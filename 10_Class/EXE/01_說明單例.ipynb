{
 "cells": [
  {
   "cell_type": "code",
   "execution_count": 8,
   "metadata": {},
   "outputs": [
    {
     "name": "stdout",
     "output_type": "stream",
     "text": [
      "<__main__.Singleton object at 0x10764ceb0>\n",
      "<__main__.Singleton object at 0x10764ceb0>\n",
      "True\n"
     ]
    },
    {
     "ename": "Exception",
     "evalue": "這個類 class 是一個單例",
     "output_type": "error",
     "traceback": [
      "\u001b[0;31m---------------------------------------------------------------------------\u001b[0m",
      "\u001b[0;31mException\u001b[0m                                 Traceback (most recent call last)",
      "\u001b[1;32m/Volumes/SSD_01/00_Python課程專用/Python_Syntax_2023/10_Class/EXE/01_說明單例.ipynb 儲存格 1\u001b[0m line \u001b[0;36m2\n\u001b[1;32m     <a href='vscode-notebook-cell:/Volumes/SSD_01/00_Python%E8%AA%B2%E7%A8%8B%E5%B0%88%E7%94%A8/Python_Syntax_2023/10_Class/EXE/01_%E8%AA%AA%E6%98%8E%E5%96%AE%E4%BE%8B.ipynb#W0sZmlsZQ%3D%3D?line=23'>24</a>\u001b[0m \u001b[39mprint\u001b[39m(singleton1 \u001b[39mis\u001b[39;00m singleton2)  \u001b[39m# True，確認兩者是同一個對象\u001b[39;00m\n\u001b[1;32m     <a href='vscode-notebook-cell:/Volumes/SSD_01/00_Python%E8%AA%B2%E7%A8%8B%E5%B0%88%E7%94%A8/Python_Syntax_2023/10_Class/EXE/01_%E8%AA%AA%E6%98%8E%E5%96%AE%E4%BE%8B.ipynb#W0sZmlsZQ%3D%3D?line=25'>26</a>\u001b[0m \u001b[39m# 試圖直接建立另一個物件\u001b[39;00m\n\u001b[0;32m---> <a href='vscode-notebook-cell:/Volumes/SSD_01/00_Python%E8%AA%B2%E7%A8%8B%E5%B0%88%E7%94%A8/Python_Syntax_2023/10_Class/EXE/01_%E8%AA%AA%E6%98%8E%E5%96%AE%E4%BE%8B.ipynb#W0sZmlsZQ%3D%3D?line=26'>27</a>\u001b[0m singleton3 \u001b[39m=\u001b[39m Singleton()  \u001b[39m# 會引發異常，因為這是一個單例類\u001b[39;00m\n",
      "\u001b[1;32m/Volumes/SSD_01/00_Python課程專用/Python_Syntax_2023/10_Class/EXE/01_說明單例.ipynb 儲存格 1\u001b[0m line \u001b[0;36m1\n\u001b[1;32m     <a href='vscode-notebook-cell:/Volumes/SSD_01/00_Python%E8%AA%B2%E7%A8%8B%E5%B0%88%E7%94%A8/Python_Syntax_2023/10_Class/EXE/01_%E8%AA%AA%E6%98%8E%E5%96%AE%E4%BE%8B.ipynb#W0sZmlsZQ%3D%3D?line=9'>10</a>\u001b[0m \u001b[39mdef\u001b[39;00m \u001b[39m__init__\u001b[39m(\u001b[39mself\u001b[39m):\n\u001b[1;32m     <a href='vscode-notebook-cell:/Volumes/SSD_01/00_Python%E8%AA%B2%E7%A8%8B%E5%B0%88%E7%94%A8/Python_Syntax_2023/10_Class/EXE/01_%E8%AA%AA%E6%98%8E%E5%96%AE%E4%BE%8B.ipynb#W0sZmlsZQ%3D%3D?line=10'>11</a>\u001b[0m     \u001b[39mif\u001b[39;00m Singleton\u001b[39m.\u001b[39m_instance:\n\u001b[0;32m---> <a href='vscode-notebook-cell:/Volumes/SSD_01/00_Python%E8%AA%B2%E7%A8%8B%E5%B0%88%E7%94%A8/Python_Syntax_2023/10_Class/EXE/01_%E8%AA%AA%E6%98%8E%E5%96%AE%E4%BE%8B.ipynb#W0sZmlsZQ%3D%3D?line=11'>12</a>\u001b[0m         \u001b[39mraise\u001b[39;00m \u001b[39mException\u001b[39;00m(\u001b[39m\"\u001b[39m\u001b[39m這個類 class 是一個單例\u001b[39m\u001b[39m\"\u001b[39m)\n\u001b[1;32m     <a href='vscode-notebook-cell:/Volumes/SSD_01/00_Python%E8%AA%B2%E7%A8%8B%E5%B0%88%E7%94%A8/Python_Syntax_2023/10_Class/EXE/01_%E8%AA%AA%E6%98%8E%E5%96%AE%E4%BE%8B.ipynb#W0sZmlsZQ%3D%3D?line=12'>13</a>\u001b[0m     \u001b[39melse\u001b[39;00m:\n\u001b[1;32m     <a href='vscode-notebook-cell:/Volumes/SSD_01/00_Python%E8%AA%B2%E7%A8%8B%E5%B0%88%E7%94%A8/Python_Syntax_2023/10_Class/EXE/01_%E8%AA%AA%E6%98%8E%E5%96%AE%E4%BE%8B.ipynb#W0sZmlsZQ%3D%3D?line=13'>14</a>\u001b[0m         Singleton\u001b[39m.\u001b[39m_instance \u001b[39m=\u001b[39m \u001b[39mself\u001b[39m\n",
      "\u001b[0;31mException\u001b[0m: 這個類 class 是一個單例"
     ]
    }
   ],
   "source": [
    "class Singleton:\n",
    "    _instance = None\n",
    "\n",
    "    @staticmethod\n",
    "    def get_instance():\n",
    "        if Singleton._instance is None:\n",
    "            Singleton._instance = Singleton()\n",
    "        return Singleton._instance\n",
    "\n",
    "    def __init__(self):\n",
    "        if Singleton._instance:\n",
    "            raise Exception(\"這個類 class 是一個單例\")\n",
    "        else:\n",
    "            Singleton._instance = self\n",
    "\n",
    "\n",
    "# 調用單例屬性\n",
    "singleton1 = Singleton.get_instance()\n",
    "singleton2 = Singleton.get_instance()\n",
    "\n",
    "print(singleton1)  # <__main__.Singleton object at 0x_______>\n",
    "print(singleton2)  # <__main__.Singleton object at 0x_______>\n",
    "\n",
    "print(singleton1 is singleton2)  # True，確認兩者是同一個對象\n",
    "\n",
    "# 試圖直接建立另一個物件\n",
    "singleton3 = Singleton()  # 會引發異常，因為這是一個單例類\n"
   ]
  },
  {
   "cell_type": "markdown",
   "metadata": {},
   "source": []
  },
  {
   "cell_type": "code",
   "execution_count": 6,
   "metadata": {},
   "outputs": [
    {
     "name": "stdout",
     "output_type": "stream",
     "text": [
      "<__main__.Singleton object at 0x107782be0>\n"
     ]
    },
    {
     "ename": "Exception",
     "evalue": "這個類 class 是一個單例",
     "output_type": "error",
     "traceback": [
      "\u001b[0;31m---------------------------------------------------------------------------\u001b[0m",
      "\u001b[0;31mException\u001b[0m                                 Traceback (most recent call last)",
      "\u001b[1;32m/Volumes/SSD_01/00_Python課程專用/Python_Syntax_2023/10_Class/EXE/01_說明單例.ipynb 儲存格 3\u001b[0m line \u001b[0;36m2\n\u001b[1;32m     <a href='vscode-notebook-cell:/Volumes/SSD_01/00_Python%E8%AA%B2%E7%A8%8B%E5%B0%88%E7%94%A8/Python_Syntax_2023/10_Class/EXE/01_%E8%AA%AA%E6%98%8E%E5%96%AE%E4%BE%8B.ipynb#W2sZmlsZQ%3D%3D?line=19'>20</a>\u001b[0m \u001b[39mprint\u001b[39m(singleton4)\n\u001b[1;32m     <a href='vscode-notebook-cell:/Volumes/SSD_01/00_Python%E8%AA%B2%E7%A8%8B%E5%B0%88%E7%94%A8/Python_Syntax_2023/10_Class/EXE/01_%E8%AA%AA%E6%98%8E%E5%96%AE%E4%BE%8B.ipynb#W2sZmlsZQ%3D%3D?line=20'>21</a>\u001b[0m \u001b[39m# 建立第二個物件\u001b[39;00m\n\u001b[0;32m---> <a href='vscode-notebook-cell:/Volumes/SSD_01/00_Python%E8%AA%B2%E7%A8%8B%E5%B0%88%E7%94%A8/Python_Syntax_2023/10_Class/EXE/01_%E8%AA%AA%E6%98%8E%E5%96%AE%E4%BE%8B.ipynb#W2sZmlsZQ%3D%3D?line=21'>22</a>\u001b[0m singleton5 \u001b[39m=\u001b[39m Singleton()\n",
      "\u001b[1;32m/Volumes/SSD_01/00_Python課程專用/Python_Syntax_2023/10_Class/EXE/01_說明單例.ipynb 儲存格 3\u001b[0m line \u001b[0;36m1\n\u001b[1;32m     <a href='vscode-notebook-cell:/Volumes/SSD_01/00_Python%E8%AA%B2%E7%A8%8B%E5%B0%88%E7%94%A8/Python_Syntax_2023/10_Class/EXE/01_%E8%AA%AA%E6%98%8E%E5%96%AE%E4%BE%8B.ipynb#W2sZmlsZQ%3D%3D?line=9'>10</a>\u001b[0m \u001b[39mdef\u001b[39;00m \u001b[39m__init__\u001b[39m(\u001b[39mself\u001b[39m):\n\u001b[1;32m     <a href='vscode-notebook-cell:/Volumes/SSD_01/00_Python%E8%AA%B2%E7%A8%8B%E5%B0%88%E7%94%A8/Python_Syntax_2023/10_Class/EXE/01_%E8%AA%AA%E6%98%8E%E5%96%AE%E4%BE%8B.ipynb#W2sZmlsZQ%3D%3D?line=10'>11</a>\u001b[0m     \u001b[39mif\u001b[39;00m Singleton\u001b[39m.\u001b[39m_instance:\n\u001b[0;32m---> <a href='vscode-notebook-cell:/Volumes/SSD_01/00_Python%E8%AA%B2%E7%A8%8B%E5%B0%88%E7%94%A8/Python_Syntax_2023/10_Class/EXE/01_%E8%AA%AA%E6%98%8E%E5%96%AE%E4%BE%8B.ipynb#W2sZmlsZQ%3D%3D?line=11'>12</a>\u001b[0m         \u001b[39mraise\u001b[39;00m \u001b[39mException\u001b[39;00m(\u001b[39m\"\u001b[39m\u001b[39m這個類 class 是一個單例\u001b[39m\u001b[39m\"\u001b[39m)\n\u001b[1;32m     <a href='vscode-notebook-cell:/Volumes/SSD_01/00_Python%E8%AA%B2%E7%A8%8B%E5%B0%88%E7%94%A8/Python_Syntax_2023/10_Class/EXE/01_%E8%AA%AA%E6%98%8E%E5%96%AE%E4%BE%8B.ipynb#W2sZmlsZQ%3D%3D?line=12'>13</a>\u001b[0m     \u001b[39melse\u001b[39;00m:\n\u001b[1;32m     <a href='vscode-notebook-cell:/Volumes/SSD_01/00_Python%E8%AA%B2%E7%A8%8B%E5%B0%88%E7%94%A8/Python_Syntax_2023/10_Class/EXE/01_%E8%AA%AA%E6%98%8E%E5%96%AE%E4%BE%8B.ipynb#W2sZmlsZQ%3D%3D?line=13'>14</a>\u001b[0m         Singleton\u001b[39m.\u001b[39m_instance \u001b[39m=\u001b[39m \u001b[39mself\u001b[39m\n",
      "\u001b[0;31mException\u001b[0m: 這個類 class 是一個單例"
     ]
    }
   ],
   "source": [
    "class Singleton:\n",
    "    _instance = None\n",
    "\n",
    "    @staticmethod\n",
    "    def get_instance():\n",
    "        if Singleton._instance is None:\n",
    "            Singleton._instance = Singleton()\n",
    "        return Singleton._instance\n",
    "\n",
    "    def __init__(self):\n",
    "        if Singleton._instance:\n",
    "            raise Exception(\"這個類 class 是一個單例\")\n",
    "        else:\n",
    "            Singleton._instance = self\n",
    "\n",
    "\n",
    "\n",
    "# 建立第一個物件\n",
    "singleton4 = Singleton()\n",
    "print(singleton4)\n",
    "# 建立第二個物件\n",
    "singleton5 = Singleton() # Exception: 這個類 class 是一個單例\n"
   ]
  }
 ],
 "metadata": {
  "kernelspec": {
   "display_name": ".venv",
   "language": "python",
   "name": "python3"
  },
  "language_info": {
   "codemirror_mode": {
    "name": "ipython",
    "version": 3
   },
   "file_extension": ".py",
   "mimetype": "text/x-python",
   "name": "python",
   "nbconvert_exporter": "python",
   "pygments_lexer": "ipython3",
   "version": "3.9.6"
  }
 },
 "nbformat": 4,
 "nbformat_minor": 2
}
