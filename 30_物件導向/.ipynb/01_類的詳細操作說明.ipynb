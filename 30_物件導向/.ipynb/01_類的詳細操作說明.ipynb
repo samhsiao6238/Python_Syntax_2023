{
 "cells": [
  {
   "cell_type": "markdown",
   "metadata": {},
   "source": [
    "1. 定義類"
   ]
  },
  {
   "cell_type": "code",
   "execution_count": 2,
   "metadata": {},
   "outputs": [],
   "source": [
    "# 關鍵字「class」\n",
    "class Dog:\n",
    "    pass"
   ]
  },
  {
   "cell_type": "code",
   "execution_count": null,
   "metadata": {},
   "outputs": [],
   "source": [
    "# 構造函數（初始化方法）\n",
    "# 建立物件的時候「__init__」會被調用\n",
    "# 在類的方法裡，都必須傳入一個「self」參數，只「物件自己」\n",
    "\n",
    "class Dog:\n",
    "    def __init__(self, name):\n",
    "        self.name = name"
   ]
  },
  {
   "cell_type": "markdown",
   "metadata": {},
   "source": [
    "自訂義類的函數"
   ]
  },
  {
   "cell_type": "code",
   "execution_count": null,
   "metadata": {},
   "outputs": [],
   "source": [
    "class Dog:\n",
    "    def __init__(self, name):\n",
    "        self.name = name\n",
    "\n",
    "    def bark(self):\n",
    "        return f\"{self.name} barks!\""
   ]
  },
  {
   "cell_type": "code",
   "execution_count": null,
   "metadata": {},
   "outputs": [],
   "source": [
    "# 建立實例\n",
    "buddy = Dog(\"Buddy\")\n",
    "print(buddy.bark())"
   ]
  },
  {
   "cell_type": "markdown",
   "metadata": {},
   "source": [
    "繼承：\n",
    "\n",
    "屬於 Python 重用性中的重要應用，也就是重用另一個類\n",
    "Poodle（貴賓狗）繼承Dog（狗）"
   ]
  },
  {
   "cell_type": "code",
   "execution_count": null,
   "metadata": {},
   "outputs": [],
   "source": [
    "class Poodle(Dog):\n",
    "    def dance(self):\n",
    "        return f\"{self.name} dances!\""
   ]
  },
  {
   "cell_type": "markdown",
   "metadata": {},
   "source": [
    "「super()」函數：用於調用父類的 function（方法、函數）\n",
    "\n",
    "super 的本身是 Python 的內建類，是一個特殊的類，當使用 super() 時，實際上是在創建一個該類的實例，並用於調用父類的方法，"
   ]
  },
  {
   "cell_type": "code",
   "execution_count": null,
   "metadata": {},
   "outputs": [],
   "source": [
    "\n",
    "class Poodle(Dog):\n",
    "    def __init__(self, name, dance_style):\n",
    "        super().__init__(name)\n",
    "        self.dance_style = dance_style\n",
    "\n",
    "    def dance(self):\n",
    "        return f\"{self.name} dances in {self.dance_style} style!\"\n"
   ]
  },
  {
   "cell_type": "markdown",
   "metadata": {},
   "source": [
    "重寫：子類可以提供父類方法的特定實現。"
   ]
  },
  {
   "cell_type": "code",
   "execution_count": null,
   "metadata": {},
   "outputs": [],
   "source": [
    "class Poodle(Dog):\n",
    "    def bark(self):\n",
    "        return f\"{self.name} sounds like a poodle!\"\n"
   ]
  },
  {
   "cell_type": "markdown",
   "metadata": {},
   "source": [
    "類的變量＆實例的變量\n",
    "類的變量屬於類的物件所共有，而實例的變量則各自隸屬於物件自身所有。\n",
    "類的變量就是類的靜態（static）變量。"
   ]
  },
  {
   "cell_type": "code",
   "execution_count": null,
   "metadata": {},
   "outputs": [],
   "source": [
    "class Dog:\n",
    "    species = \"Canine\"  # 類變量\n",
    "\n",
    "    def __init__(self, name):\n",
    "        self.name = name  # 實例變量"
   ]
  },
  {
   "cell_type": "markdown",
   "metadata": {},
   "source": [
    "類的私有（private）變量與方法\n",
    "\n",
    "在 Python 中，使用雙下線作為前綴表示該變量或方法為私有的。"
   ]
  },
  {
   "cell_type": "code",
   "execution_count": null,
   "metadata": {},
   "outputs": [],
   "source": [
    "class Dog:\n",
    "    def __init__(self, name):\n",
    "        self.__name = name  # 私有變量\n",
    "\n",
    "    def __private_method(self):  # 私有方法\n",
    "        pass\n",
    "\n",
    "    def get_name(self):  # 公共方法，可以訪問私有變量\n",
    "        return self.__name\n"
   ]
  },
  {
   "cell_type": "markdown",
   "metadata": {},
   "source": [
    "1. Python 的私有變量或是方法並非絕對地不可被訪問或調用，但一經被使用雙下線作為前綴， Python 將會對於該變量或方法進行「名字改編（Name mangling）」，隱式地在其名稱之前加上「_類名」，特殊狀況下要從外部進行訪問或調用時，要在原名稱之前加上「_類名」。\n",
    "\n",
    "2. 這樣的機制主要是避免私有名稱在子類中發生衝突。"
   ]
  },
  {
   "cell_type": "code",
   "execution_count": null,
   "metadata": {},
   "outputs": [],
   "source": [
    "class MyClass:\n",
    "    def __init__(self):\n",
    "        self.__private_var = 42\n",
    "\n",
    "    def __private_method(self):\n",
    "        print(\"This is a private method\")\n",
    "\n",
    "obj = MyClass()\n",
    "\n",
    "# 這是一種錯誤的訪問方式\n",
    "# AttributeError: 'MyClass' object has no attribute '__private_var'\n",
    "# print(obj.__private_var)\n",
    "\n",
    "# 這是一種錯誤的訪問方式\n",
    "# AttributeError: 'MyClass' object has no attribute '__private_method'\n",
    "# obj.__private_method()\n",
    "\n",
    "# 正確的訪問方式（通過名字改編後的名字）\n",
    "print(obj._MyClass__private_var)  # Output: 42\n",
    "obj._MyClass__private_method()    # Output: This is a private method\n"
   ]
  },
  {
   "cell_type": "markdown",
   "metadata": {},
   "source": [
    "類的屬性方法：使用裝飾字「property」\n",
    "\n",
    "關於 property 的詳細說明請參考「裝飾字 property」一節"
   ]
  },
  {
   "cell_type": "code",
   "execution_count": null,
   "metadata": {},
   "outputs": [],
   "source": [
    "class Dog:\n",
    "    def __init__(self, name, age):\n",
    "        self._name = name\n",
    "        self._age = age\n",
    "\n",
    "    @property\n",
    "    def age(self):\n",
    "        return self._age\n",
    "\n",
    "    @age.setter\n",
    "    def age(self, value):\n",
    "        if value > 0:\n",
    "            self._age = value"
   ]
  },
  {
   "cell_type": "markdown",
   "metadata": {},
   "source": [
    "---END---"
   ]
  }
 ],
 "metadata": {
  "kernelspec": {
   "display_name": "env05",
   "language": "python",
   "name": "python3"
  },
  "language_info": {
   "codemirror_mode": {
    "name": "ipython",
    "version": 3
   },
   "file_extension": ".py",
   "mimetype": "text/x-python",
   "name": "python",
   "nbconvert_exporter": "python",
   "pygments_lexer": "ipython3",
   "version": "3.9.2"
  },
  "orig_nbformat": 4
 },
 "nbformat": 4,
 "nbformat_minor": 2
}
