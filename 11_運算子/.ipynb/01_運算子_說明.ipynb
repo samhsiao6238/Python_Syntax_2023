{
 "cells": [
  {
   "attachments": {},
   "cell_type": "markdown",
   "metadata": {},
   "source": [
    "# 運算子"
   ]
  },
  {
   "attachments": {},
   "cell_type": "markdown",
   "metadata": {},
   "source": [
    "1. 算術運算子：這些操作符用於數值的基本數學運算"
   ]
  },
  {
   "attachments": {},
   "cell_type": "markdown",
   "metadata": {},
   "source": [
    ">>>+：加法\n",
    "\n",
    ">>>-：減法\n",
    "\n",
    ">>>*：乘法\n",
    "\n",
    ">>>/：除法\n",
    "\n",
    ">>>//：整除，返回除法的整數部分\n",
    "\n",
    ">>>%：取餘數，返回除法的餘數\n",
    "\n",
    ">>>**：指數，a ** b 表示 a 的 b 次方"
   ]
  },
  {
   "cell_type": "code",
   "execution_count": 2,
   "metadata": {},
   "outputs": [
    {
     "name": "stdout",
     "output_type": "stream",
     "text": [
      "3.3333333333333335\n",
      "3\n",
      "1\n"
     ]
    }
   ],
   "source": [
    "# 除法運算子\n",
    "a = 10 / 3\n",
    "print(a)\n",
    "\n",
    "# 整除運算子\n",
    "b = 10 // 3\n",
    "print(b)\n",
    "\n",
    "# 除後取餘數運算子\n",
    "c = 10 % 3\n",
    "print(c)"
   ]
  },
  {
   "attachments": {},
   "cell_type": "markdown",
   "metadata": {},
   "source": [
    "2. 比較運算子：這些操作符用於比較兩個值"
   ]
  },
  {
   "attachments": {},
   "cell_type": "markdown",
   "metadata": {},
   "source": [
    ">>>==：等於\n",
    "\n",
    ">>>!=：不等於\n",
    "\n",
    ">>><：小於\n",
    "\n",
    ">>>\\>：大於\n",
    "\n",
    ">>><=：小於等於\n",
    "\n",
    ">>>\\>=：大於等於"
   ]
  },
  {
   "attachments": {},
   "cell_type": "markdown",
   "metadata": {},
   "source": [
    "3. 賦值運算子：這些操作符用於給變量賦值"
   ]
  },
  {
   "attachments": {},
   "cell_type": "markdown",
   "metadata": {},
   "source": [
    ">>>=：賦值\n",
    "\n",
    ">>>+=：加並賦值\n",
    "\n",
    ">>>-=：減並賦值\n",
    "\n",
    ">>>*=：乘並賦值\n",
    "\n",
    ">>>/=：除並賦值\n",
    "\n",
    ">>>//=：整除並賦值\n",
    "\n",
    ">>>%=：取模並賦值\n",
    "\n",
    ">>>**=：指數並賦值"
   ]
  },
  {
   "attachments": {},
   "cell_type": "markdown",
   "metadata": {},
   "source": [
    "4. 邏輯運算子：這些操作符用於布爾邏輯運算"
   ]
  },
  {
   "attachments": {},
   "cell_type": "markdown",
   "metadata": {},
   "source": [
    ">>>and：邏輯「與」\n",
    "\n",
    ">>>or：邏輯「或」\n",
    "\n",
    ">>>not：邏輯「非」"
   ]
  },
  {
   "attachments": {},
   "cell_type": "markdown",
   "metadata": {},
   "source": [
    "5. 位運算子：這些操作符用於對二進制數進行操作。\n",
    "\n",
    ">>>&：按位「與」，「and」的意思\n",
    "\n",
    ">>>|：按位「或」，「or」的意思\n",
    "\n",
    ">>>^：按位「異或」\n",
    "\n",
    ">>>~：按位「取反」\n",
    "\n",
    ">>><<：按位「左移」\n",
    "\n",
    ">>>\\>>：按位「右移」\n",
    "\n",
    "6. 成員運算子：這些操作符用於測試序列（例如列表或元組）中的成員。\n",
    "\n",
    ">>>in：如果在指定的序列中找到值返回 True，否則返回 False。\n",
    "\n",
    ">>>not in：如果在指定的序列中找到值返回 False，否則返回 True。\n",
    "\n",
    "7. 身份運算子：這些操作符用於比較兩個物件的身份，即是否為同一個物件（不是比較兩個物件的值是否相等）。\n",
    "\n",
    ">>>is：x is y，如果 x 和 y 是同一個物件返回 True，否則返回 False。\n",
    "\n",
    ">>>is not：x is not y，如果 x 和 y 不是同一個物件返回 True，否則返回"
   ]
  },
  {
   "attachments": {},
   "cell_type": "markdown",
   "metadata": {},
   "source": [
    "# 補充說明\n",
    "\n",
    ">除了十進位數值以外，Python還支持二進位(0b或0B)、八進位(0o或0O)、十六進位(0x或0X)"
   ]
  },
  {
   "attachments": {},
   "cell_type": "markdown",
   "metadata": {},
   "source": [
    "---END---"
   ]
  }
 ],
 "metadata": {
  "kernelspec": {
   "display_name": "Python 3",
   "language": "python",
   "name": "python3"
  },
  "language_info": {
   "codemirror_mode": {
    "name": "ipython",
    "version": 3
   },
   "file_extension": ".py",
   "mimetype": "text/x-python",
   "name": "python",
   "nbconvert_exporter": "python",
   "pygments_lexer": "ipython3",
   "version": "3.10.4"
  },
  "orig_nbformat": 4
 },
 "nbformat": 4,
 "nbformat_minor": 2
}
