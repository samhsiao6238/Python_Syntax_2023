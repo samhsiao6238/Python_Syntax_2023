{
 "cells": [
  {
   "attachments": {},
   "cell_type": "markdown",
   "metadata": {},
   "source": [
    "# global 和 nonlocal \n",
    "\n",
    ">>1. Python 中的兩個關鍵字，用於變數的作用範圍管理。 \n",
    "\n",
    ">>2. global 可以在函數或其他局部作用範圍內部修改全局變數。\n",
    "\n",
    ">>3. nonlocal 主要用在巢狀函數中，使得在巢狀函數的內部函數中可以修改巢狀函數的外部函數的變數。\n"
   ]
  },
  {
   "attachments": {},
   "cell_type": "markdown",
   "metadata": {},
   "source": [
    "1. global\n",
    "\n",
    ">>global關鍵字可以在函數或其他局部作用範圍內部修改全局變數。如果沒有使用 global 關鍵字，在函數內部賦值給變數時，將僅僅創建或修改一個新的局部變數，而不會影響到全局變數。"
   ]
  },
  {
   "cell_type": "code",
   "execution_count": 1,
   "metadata": {},
   "outputs": [
    {
     "name": "stdout",
     "output_type": "stream",
     "text": [
      "20\n"
     ]
    }
   ],
   "source": [
    "x = 10\n",
    "# 定義函數\n",
    "def change_global_x():\n",
    "    global x  # 指明要使用的是全局的 x\n",
    "    x = 20\n",
    "\n",
    "# 調用函數\n",
    "change_global_x()\n",
    "print(x)  # 輸出: 20"
   ]
  },
  {
   "attachments": {},
   "cell_type": "markdown",
   "metadata": {},
   "source": [
    "2. nonlocal\n",
    "\n",
    ">>nonlocal 關鍵字的作用和 global 類似，但它主要用在巢狀函數（nested function）中，使得在巢狀函數的內部函數中可以修改外部函數的變數。"
   ]
  },
  {
   "cell_type": "code",
   "execution_count": 4,
   "metadata": {},
   "outputs": [
    {
     "name": "stdout",
     "output_type": "stream",
     "text": [
      "20\n"
     ]
    }
   ],
   "source": [
    "def outer():\n",
    "    x = 10\n",
    "    def inner():\n",
    "        nonlocal x  # 指明我們要使用的是外部函數的x\n",
    "        x = 20\n",
    "    inner()\n",
    "    print(x)  # 輸出: 20\n",
    "\n",
    "outer()\n"
   ]
  },
  {
   "attachments": {},
   "cell_type": "markdown",
   "metadata": {},
   "source": [
    "3. 比較\n",
    "\n",
    ">>上述範例若改用 global，將輸出 10"
   ]
  },
  {
   "cell_type": "code",
   "execution_count": 5,
   "metadata": {},
   "outputs": [
    {
     "name": "stdout",
     "output_type": "stream",
     "text": [
      "10\n"
     ]
    }
   ],
   "source": [
    "# 示範在巢狀函數中使用 global\n",
    "def outer():\n",
    "    x = 10\n",
    "    def inner():\n",
    "        global x  # 指明我們要使用的是外部函數的x\n",
    "        x = 20\n",
    "    inner()\n",
    "    print(x)  # 輸出: 20\n",
    "\n",
    "outer()"
   ]
  },
  {
   "attachments": {},
   "cell_type": "markdown",
   "metadata": {},
   "source": [
    "---END---"
   ]
  }
 ],
 "metadata": {
  "kernelspec": {
   "display_name": "base",
   "language": "python",
   "name": "python3"
  },
  "language_info": {
   "codemirror_mode": {
    "name": "ipython",
    "version": 3
   },
   "file_extension": ".py",
   "mimetype": "text/x-python",
   "name": "python",
   "nbconvert_exporter": "python",
   "pygments_lexer": "ipython3",
   "version": "3.10.9"
  },
  "orig_nbformat": 4
 },
 "nbformat": 4,
 "nbformat_minor": 2
}
