{
 "cells": [
  {
   "attachments": {},
   "cell_type": "markdown",
   "metadata": {},
   "source": [
    "# <font color='red'>變數</font> 與 <font color='red'>物件</font> 的差異\n",
    "\n",
    ">- 在 Python 中<font color='red'>所有的數據資料都是物件</font>，而<font color='red'>變數</font>就是指向這些<font color='red'>物件參考</font>的<font color='red'>名稱</font>，舉凡物件建立的時候都會建立全新的參考，但不一定要賦值給變數；若將物件賦值給變數時，也就是<font color='red'>將變數指向物件的參考</font>，也可說是<font color='red'>將物件的參考指定給變數</font>。（補充一下，這裡是希望透過各種不同角度與方式的描述來具體理解這個過程）\n",
    "\n",
    ">- 物件在建立的時候若沒有立即賦值給變數，則建立後會立即消滅，如果再次透過字面量或任何方式建立相同內容物件並賦值給變數，這將會建立一個全新的物件，唯有內容相同而已。\n",
    "\n",
    ">- 若將<font color='red'>變數賦值給變數</font>，這時會將原本變數的參考指定給新的變數，也就是兩個變數會有相同的參考，這個過程可稱為<font color='red'>參考的賦值</font>。\n",
    "\n",
    ">- 依據物件的<font color='red'>可變與不可變</font>特性，當物件為<font color='red'>不可變類型</font>時，若對物件的內容進行修改並賦值，將會建立新的物件並<font color='red'>將新的參考指派給變數</font>，也就是變數的 id 與值都會改變，其它參考到原物件的變數不受影響；而這種狀況有個例外就是<font color='red'>不可變變數的快取</font>（請參考相關章節筆記）；若物件為<font color='red'>可變類型</font>，當修改物件的內容時，Python 會透過參考<font color='red'>對原有物件的值進行改變並保留原 id</font>，也就是不會建立新物件，這時若有其他變數指向同一個可變物件的參考時，另一個變數的值也會改變。"
   ]
  },
  {
   "attachments": {},
   "cell_type": "markdown",
   "metadata": {},
   "source": [
    "# <font color='red'>建立物件</font>的方式\n",
    "\n",
    ">- 透過字面量\n",
    "\n",
    ">- 構造函數\n",
    "\n",
    ">- 調用特定函數\n",
    "\n",
    ">- 透過自訂類"
   ]
  },
  {
   "attachments": {},
   "cell_type": "markdown",
   "metadata": {},
   "source": [
    "## <font color='red'>透過字面量（Literal）</font>\n",
    "\n",
    ">- <font color='red'>字面量</font>是 Python 最簡單的表達式（expression）。\n",
    "\n",
    ">- 字面量是一串<font color='red'>可以被 Python 解釋器解析的程式碼</font>。\n",
    "\n",
    ">- 字面量是一個有特定值的表達式如：整數(1)、浮點數(1.0)、複數(1.2+3j)、字串('Hello'、\"Hello\"、'''Hello'''、\"\"\"Hello\"\"\")、布林值(True、False)、列表[,]、數組(,)、集合{,}、字典{:,}等，<font color='red'>當解釋器讀到這些源碼時就會建立新的物件</font>，建立後會<font color='red'>將物件的參考指定給變數</font>，這個過程稱為<font color='red'>賦值</font>，或稱<font color='red'>命令變數為指向某個物件的參考</font>；特別說明，這些敘述若極白話地表達就是某變數等於某個值，但實際上可更精準的表達。\n",
    "\n",
    ">- 每次以字面量做賦值都會建立新物件（有個例外就是「不可變類型物件的緩衝」），特別注意一點，透過字面量來賦值只是 Python 解釋器閱讀源碼的一個過程，雖然看似一個建構機制但實則沒有建構子，僅可視為一個<font color='red'>初始化過程</font>，也就是<font color='red'>設定變數指向變數的初始狀態</font>。"
   ]
  },
  {
   "cell_type": "code",
   "execution_count": 1,
   "metadata": {},
   "outputs": [],
   "source": [
    "# 字面量賦值，變數指向物件的記憶體位置（參考）\n",
    "\n",
    "# 下列三個都是表達式\n",
    "5\n",
    "'Hello World'\n",
    "[1, 2, 3]\n",
    "\n",
    "# 建立數字物件\n",
    "num = 1\n",
    "\n",
    "# 建立字串物件\n",
    "str = \"Hello\"\n",
    "\n",
    "# 建立列表物件\n",
    "lst = [1, 2, 3]\n",
    "\n",
    "# 建立字典物件\n",
    "dict = {\"key\": \"value\"}"
   ]
  },
  {
   "attachments": {},
   "cell_type": "markdown",
   "metadata": {},
   "source": [
    "## <font color='red'>構造函數（Constructor）</font>\n",
    "\n",
    ">- 包含 Python 內建的類與自定義的類，調用構造函數可建立全新物件。"
   ]
  },
  {
   "cell_type": "code",
   "execution_count": 2,
   "metadata": {},
   "outputs": [],
   "source": [
    "# 若出現「'str' object is not callable」\n",
    "# 或出現「'dict' object is not callable」\n",
    "# 先執行下列程式碼\n",
    "del str\n",
    "del dict"
   ]
  },
  {
   "cell_type": "code",
   "execution_count": 3,
   "metadata": {},
   "outputs": [],
   "source": [
    "# 使用 int 構造函數建立數字物件\n",
    "num = int(\"1\")\n",
    "\n",
    "# 使用 str 構造函數建立字串物件\n",
    "s = \"Hello\"\n",
    "str = str(s)\n",
    "\n",
    "# 使用 list 構造函數建立列表物件\n",
    "lst = list((1, 2, 3))\n",
    "\n",
    "# 使用 dict 構造函數建立字典物件\n",
    "dict = dict(key=\"value\")\n"
   ]
  },
  {
   "attachments": {},
   "cell_type": "markdown",
   "metadata": {},
   "source": [
    "## <font color='red'>調用特定函數</font>\n",
    "\n",
    ">- 在 Python 的許多類（Class）中都有這些方法，如 range()、splite()、numpy 模組的 arange 等。"
   ]
  },
  {
   "cell_type": "code",
   "execution_count": 4,
   "metadata": {},
   "outputs": [],
   "source": [
    "# 使用內建的 range 函數建立一個範圍物件\n",
    "r = range(10)\n",
    "\n",
    "# 使用字串的 split 函數建立新的列表物件\n",
    "str = \"Hello World\"\n",
    "lst = str.split(\" \")\n",
    "\n",
    "# 使用 numpy 模組的 arange 函數建立一個 ndarray 物件\n",
    "import numpy as np\n",
    "arr = np.arange(10)\n"
   ]
  },
  {
   "attachments": {},
   "cell_type": "markdown",
   "metadata": {},
   "source": [
    "## <font color='red'>透過自訂類</font>"
   ]
  },
  {
   "cell_type": "code",
   "execution_count": 5,
   "metadata": {},
   "outputs": [
    {
     "data": {
      "text/plain": [
       "<__main__.MyClass at 0x1120f8c70>"
      ]
     },
     "execution_count": 5,
     "metadata": {},
     "output_type": "execute_result"
    }
   ],
   "source": [
    "class MyClass:\n",
    "    def __init__(self, x):\n",
    "        self.x = x\n",
    "\n",
    "obj = MyClass(10)  # 透過自訂類建立物件\n",
    "obj"
   ]
  },
  {
   "attachments": {},
   "cell_type": "markdown",
   "metadata": {},
   "source": [
    "---END---"
   ]
  }
 ],
 "metadata": {
  "kernelspec": {
   "display_name": "base",
   "language": "python",
   "name": "python3"
  },
  "language_info": {
   "codemirror_mode": {
    "name": "ipython",
    "version": 3
   },
   "file_extension": ".py",
   "mimetype": "text/x-python",
   "name": "python",
   "nbconvert_exporter": "python",
   "pygments_lexer": "ipython3",
   "version": "3.9.6"
  },
  "orig_nbformat": 4
 },
 "nbformat": 4,
 "nbformat_minor": 2
}
