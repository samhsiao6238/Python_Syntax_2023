{
 "cells": [
  {
   "attachments": {},
   "cell_type": "markdown",
   "metadata": {},
   "source": [
    "# <font color='red'>變數賦值</font>\n",
    "\n",
    ">- 簡單賦值：x = 10\n",
    "\n",
    ">- 多重賦值：x, y = 10, 20\n",
    "\n",
    ">- 鏈式賦值：x = y = 10 \n",
    "\n",
    ">- 增量賦值、複合賦值：x = 10， x += 1\n",
    "\n",
    ">- 簡單解包（unpacking）：x, y, z = [1, 2, 3]，可迭代物件皆可解包。\n",
    "\n",
    ">- 字典解包（unpacking）：dict = {'a': 10, 'b': 20}，x, y = **dict\n",
    "\n",
    ">- 數值交換：x, y = 10, 20，x, y = y, x\n",
    "\n",
    ">- 賦值表達式：「assignment expression」，「:=」稱為「walrus operator 海象運算子」，這個運算子可以在表達式中進行賦值，本質上這個表達式並不符合 Python 易讀性的特色，但確實可以達到簡化目的。\n",
    "\n",
    ">- 快取賦值：符合條件的整數與字串，如 int -5 ~ 256。"
   ]
  },
  {
   "attachments": {},
   "cell_type": "markdown",
   "metadata": {},
   "source": [
    "## <font color='red'>簡單賦值</font>"
   ]
  },
  {
   "cell_type": "code",
   "execution_count": 31,
   "metadata": {},
   "outputs": [
    {
     "name": "stdout",
     "output_type": "stream",
     "text": [
      "(1-1)變數指向不可變物件\n",
      "【說明】物件的 id 是否相同與不可變數的快取有關\n",
      "a = 10 id(a) = 140299535942160\n",
      "b = 10 id(b) = 140299535942160\n",
      "c = 260 id(c) = 140299813971024\n",
      "d = 260 id(d) = 140299813976336\n"
     ]
    }
   ],
   "source": [
    "# (1-1)變數指向不可變物件：整數\n",
    "print('(1-1)變數指向不可變物件')\n",
    "print('【說明】物件的 id 是否相同與不可變數的快取有關')\n",
    "a = 10  # 快取\n",
    "b = 10  # 快取\n",
    "c = 260\n",
    "d = 260\n",
    "# 輸出名稱、id、值\n",
    "print('a =', a, 'id(a) =', id(a))\n",
    "print('b =', b, 'id(b) =', id(b))\n",
    "print('c =', c, 'id(c) =', id(c))\n",
    "print('d =', d, 'id(d) =', id(d))"
   ]
  },
  {
   "cell_type": "code",
   "execution_count": 32,
   "metadata": {},
   "outputs": [
    {
     "name": "stdout",
     "output_type": "stream",
     "text": [
      "(1-2)變數指向不可變物件：數組\n",
      "a = (1, 2, 3) id(a) = 140299815657088\n",
      "b = (1, 2, 3) id(b) = 140299815661440\n",
      "c = (4, 5, 6) id(c) = 140299815616192\n"
     ]
    }
   ],
   "source": [
    "# (1-2)變數指向不可變物件：數組\n",
    "print('(1-2)變數指向不可變物件：數組')\n",
    "a = (1, 2, 3)\n",
    "b = (1, 2, 3)\n",
    "c = (4, 5, 6)\n",
    "# 輸出名稱、id、值\n",
    "print('a =', a, 'id(a) =', id(a))\n",
    "print('b =', b, 'id(b) =', id(b))\n",
    "print('c =', c, 'id(c) =', id(c))"
   ]
  },
  {
   "cell_type": "code",
   "execution_count": 33,
   "metadata": {},
   "outputs": [
    {
     "name": "stdout",
     "output_type": "stream",
     "text": [
      "(2)變數指向可變物件\n",
      "a = [1, 2, 3] id(a) = 140299286424896\n",
      "b = [1, 2, 3] id(b) = 140299286415872\n",
      "c = [4, 5, 6] id(c) = 140299284188224\n"
     ]
    }
   ],
   "source": [
    "# (2)變數指向可變物件\n",
    "print('(2)變數指向可變物件')\n",
    "a = [1, 2, 3]\n",
    "b = [1, 2, 3]\n",
    "c = [4, 5, 6]\n",
    "# 輸出名稱、id、值\n",
    "print('a =', a, 'id(a) =', id(a))\n",
    "print('b =', b, 'id(b) =', id(b))\n",
    "print('c =', c, 'id(c) =', id(c))"
   ]
  },
  {
   "cell_type": "code",
   "execution_count": 34,
   "metadata": {},
   "outputs": [
    {
     "name": "stdout",
     "output_type": "stream",
     "text": [
      "(3-1)變數指向參考：列表\n",
      "a = [1, 2, 3, 4, 5] id(a) = 140299286427776\n",
      "b = [1, 2, 3, 4, 5] id(b) = 140299286427776\n"
     ]
    }
   ],
   "source": [
    "# (3-1)變數指向參考：列表\n",
    "print('(3-1)變數指向參考：列表')\n",
    "print('【說明】變數指向同一個參考')\n",
    "a = [1, 2, 3, 4, 5]\n",
    "b = a\n",
    "# 輸出名稱、id、值\n",
    "print('a =', a, 'id(a) =', id(a))\n",
    "print('b =', b, 'id(b) =', id(b))"
   ]
  },
  {
   "cell_type": "code",
   "execution_count": 35,
   "metadata": {},
   "outputs": [
    {
     "name": "stdout",
     "output_type": "stream",
     "text": [
      "(3-2)變數指向參考：數組\n",
      "【說明】\n",
      "a = (1, 2, 3, 4, 5) id(a) = 140299286492352\n",
      "b = (1, 2, 3, 4, 5) id(b) = 140299286492352\n"
     ]
    }
   ],
   "source": [
    "# (3-2)變數指向參考：數組\n",
    "print('(3-2)變數指向參考：數組')\n",
    "print('【說明】變數指向同一個參考')\n",
    "a = (1, 2, 3, 4, 5)\n",
    "b = a\n",
    "# 輸出名稱、id、值\n",
    "print('a =', a, 'id(a) =', id(a))\n",
    "print('b =', b, 'id(b) =', id(b))"
   ]
  },
  {
   "cell_type": "code",
   "execution_count": 36,
   "metadata": {},
   "outputs": [
    {
     "name": "stdout",
     "output_type": "stream",
     "text": [
      "(4-1)變數指向副本：列表\n",
      "a = [1, 2, 3, 4, 5] id(a) = 140299286429120\n",
      "b = [1, 2, 3, 4, 5] id(b) = 140299284153216\n",
      "c = [1, 2, 3, 4, 5] id(c) = 140299286426112\n",
      "d = [1, 2, 3, 4, 5] id(d) = 140299004507520\n",
      "e = [3, 4, 5] id(e) = 140299286423552\n"
     ]
    }
   ],
   "source": [
    "# (4-1)變數指向副本：列表\n",
    "print('(4-1)變數指向副本：列表')\n",
    "a = [1, 2, 3, 4, 5] # 初始化\n",
    "b = a.copy()        # 淺拷貝\n",
    "c = a[:]            # 切片\n",
    "d = a[0:5]          # 切片\n",
    "e = a[2:5]          # 切片\n",
    "# 輸出名稱、id、值\n",
    "print('a =', a, 'id(a) =', id(a))  \n",
    "print('b =', b, 'id(b) =', id(b))\n",
    "print('c =', c, 'id(c) =', id(c))\n",
    "print('d =', d, 'id(d) =', id(d))\n",
    "print('e =', e, 'id(e) =', id(e))"
   ]
  },
  {
   "cell_type": "code",
   "execution_count": 44,
   "metadata": {},
   "outputs": [
    {
     "name": "stdout",
     "output_type": "stream",
     "text": [
      "(4-2)變數指向副本：數組\n",
      "a = (1, 2, 3, 4, 5) id(a) = 140299286492352\n",
      "b = (1, 2, 3, 4, 5) id(b) = 140299286492352\n",
      "c = (1, 2, 3, 4, 5) id(c) = 140299286492352\n",
      "d = (1, 2, 3, 4, 5) id(d) = 140299286492352\n",
      "【說明】部分切片會建立新物件\n",
      "e = (3, 4, 5) id(e) = 140299815717568\n"
     ]
    }
   ],
   "source": [
    "# (4-2)變數指向副本：數組\n",
    "import copy\n",
    "print('(4-2)變數指向副本：數組')\n",
    "a = (1, 2, 3, 4, 5)\n",
    "b = copy.copy(a)\n",
    "c = a[:]\n",
    "d = a[0:5]\n",
    "e = a[2:5]\n",
    "# 輸出名稱、id、值\n",
    "print('a =', a, 'id(a) =', id(a))\n",
    "print('b =', b, 'id(b) =', id(b))\n",
    "print('c =', c, 'id(c) =', id(c))\n",
    "print('d =', d, 'id(d) =', id(d))\n",
    "print('【說明】部分切片會建立新物件')\n",
    "print('e =', e, 'id(e) =', id(e))"
   ]
  },
  {
   "cell_type": "code",
   "execution_count": 38,
   "metadata": {},
   "outputs": [
    {
     "name": "stdout",
     "output_type": "stream",
     "text": [
      "(4-3)變數指向副本：字典\n",
      "a = {'a': 1, 'b': 2, 'c': 3} id(a) = 140299286263488\n",
      "b = {'a': 1, 'b': 2, 'c': 3} id(b) = 140299286224896\n"
     ]
    }
   ],
   "source": [
    "# (4-3)變數指向副本：字典\n",
    "print('(4-3)變數指向副本：字典')\n",
    "a = {'a': 1, 'b': 2, 'c': 3}\n",
    "b = a.copy()\n",
    "# 輸出名稱、id、值\n",
    "print('a =', a, 'id(a) =', id(a))\n",
    "print('b =', b, 'id(b) =', id(b))"
   ]
  },
  {
   "cell_type": "code",
   "execution_count": 39,
   "metadata": {},
   "outputs": [
    {
     "name": "stdout",
     "output_type": "stream",
     "text": [
      "(5-1)變數指向深複製副本：\n",
      "a = [1, 2, 3, 4, 5] id(a) = 140299286415872\n",
      "b = [1, 2, 3, 4, 5] id(b) = 140299004339648\n"
     ]
    }
   ],
   "source": [
    "# (5-1)變數指向深複製副本：列表\n",
    "print('(5-1)變數指向深複製副本：')\n",
    "import copy\n",
    "a = [1, 2, 3, 4, 5]\n",
    "b = copy.deepcopy(a)\n",
    "# 輸出名稱、id、值\n",
    "print('a =', a, 'id(a) =', id(a))\n",
    "print('b =', b, 'id(b) =', id(b))"
   ]
  },
  {
   "attachments": {},
   "cell_type": "markdown",
   "metadata": {},
   "source": [
    "## <font color='red'>簡單解包</font>"
   ]
  },
  {
   "cell_type": "code",
   "execution_count": 40,
   "metadata": {},
   "outputs": [
    {
     "name": "stdout",
     "output_type": "stream",
     "text": [
      "(1)解包列表\n",
      "1 2 3\n",
      "\n",
      "(2)解包數組\n",
      "1 2 3\n",
      "\n",
      "(3)使用星號進行解包\n",
      "1 [2, 3, 4] 5\n"
     ]
    }
   ],
   "source": [
    "# 解包列表\n",
    "print('(1)解包列表')\n",
    "# 初始化列表\n",
    "numbers = [1, 2, 3]\n",
    "# 解包列表\n",
    "x, y, z = numbers\n",
    "print(x, y, z)  # 輸出: 1 2 3\n",
    "\n",
    "# 解包數組\n",
    "print('\\n(2)解包數組')\n",
    "# 初始化數組\n",
    "numbers = (1, 2, 3)\n",
    "x, y, z = numbers\n",
    "print(x, y, z)  # 輸出: 1 2 3\n",
    "\n",
    "# 使用星號進行解包\n",
    "print('\\n(3)使用星號進行解包')\n",
    "numbers = [1, 2, 3, 4, 5]\n",
    "x, *y, z = numbers\n",
    "print(x, y, z)  # 輸出: 1 [2, 3, 4] 5"
   ]
  },
  {
   "attachments": {},
   "cell_type": "markdown",
   "metadata": {},
   "source": [
    "## <font color='red'>字典解包</font>"
   ]
  },
  {
   "cell_type": "code",
   "execution_count": 41,
   "metadata": {},
   "outputs": [
    {
     "name": "stdout",
     "output_type": "stream",
     "text": [
      "AAA BBB CCC\n",
      "aaa 222 ccc\n",
      "('AAA', 'aaa') ('BBB', 222) ('CCC', 'ccc')\n",
      "AAA BBB CCC\n",
      "AAA ['BBB', 'CCC']\n",
      "'xxx': aaa, yyy: 999, zzz: ccc\n",
      "{'a': 1, 'b': 3, 'c': 4}\n"
     ]
    }
   ],
   "source": [
    "# 字典解包\n",
    "# 初始化一個字典\n",
    "numbers = {'AAA': 'aaa', 'BBB': 222, 'CCC': 'ccc'}\n",
    "# 解包字典\n",
    "x, y, z = numbers\n",
    "print(x, y, z)  # 輸出: x y z\n",
    "\n",
    "# 使用 .values() 取得字典的值並解包\n",
    "x, y, z = numbers.values()\n",
    "print(x, y, z)  # 輸出: 1 2 3\n",
    "\n",
    "# 使用 .items() 取得字典的鍵值對並解包為數組\n",
    "x, y, z = numbers.items()\n",
    "print(x, y, z)  # 輸出: ('x', 1) ('y', 2) ('z', 3)\n",
    "\n",
    "# 使用 .keys() 取得字典的鍵並解包\n",
    "x, y, z = numbers.keys()\n",
    "print(x, y, z)  # 輸出: x y z\n",
    "\n",
    "# 使用星號進行解包，會將剩餘的值賦值給 y\n",
    "x, *y = numbers\n",
    "print(x, y)  # 輸出: x ['y', 'z']\n",
    "\n",
    "# 使用雙星號 ** 解包字典作為函數的引數\n",
    "# 自定義函數\n",
    "def print_coordinates(_A, _B, _C):\n",
    "    # 輸出參數\n",
    "    print(f\"'xxx': {_A}, yyy: {_B}, zzz: {_C}\")\n",
    "# 建立一個字典\n",
    "coordinates_dict = {'_A': 'aaa', '_B': 999, '_C': 'ccc'}\n",
    "# 使用雙星號 ** 將字典的鍵值對解包為函數引數\n",
    "print_coordinates(**coordinates_dict)  # 輸出: x: 1, y: 2, z: 3\n",
    "\n",
    "\n",
    "# 雙星號 ** 解包字典\n",
    "# 初始化兩個字典\n",
    "dict1 = {'a': 1, 'b': 2}\n",
    "dict2 = {'b': 3, 'c': 4}\n",
    "# 使用雙星號 ** 將字典的鍵值對解包，透過字面量的方式建立新的字典\n",
    "combined_dict = {**dict1, **dict2}\n",
    "print(combined_dict)  # 輸出: {'a': 1, 'b': 3, 'c': 4}"
   ]
  },
  {
   "attachments": {},
   "cell_type": "markdown",
   "metadata": {},
   "source": [
    "## <font color='red'>賦值表達式</font>"
   ]
  },
  {
   "cell_type": "code",
   "execution_count": 42,
   "metadata": {},
   "outputs": [
    {
     "name": "stdout",
     "output_type": "stream",
     "text": [
      "numbers 數量為 10 .\n"
     ]
    }
   ],
   "source": [
    "numbers = [1, 2, 3, 4, 5, 6, 7, 8, 9, 10]\n",
    "if (n := len(numbers)) > 5:\n",
    "    print(f\"numbers 數量為 {n} .\")\n"
   ]
  },
  {
   "attachments": {},
   "cell_type": "markdown",
   "metadata": {},
   "source": [
    "---END---"
   ]
  }
 ],
 "metadata": {
  "kernelspec": {
   "display_name": "base",
   "language": "python",
   "name": "python3"
  },
  "language_info": {
   "codemirror_mode": {
    "name": "ipython",
    "version": 3
   },
   "file_extension": ".py",
   "mimetype": "text/x-python",
   "name": "python",
   "nbconvert_exporter": "python",
   "pygments_lexer": "ipython3",
   "version": "3.12.0"
  },
  "orig_nbformat": 4
 },
 "nbformat": 4,
 "nbformat_minor": 2
}
