{
 "cells": [
  {
   "cell_type": "markdown",
   "metadata": {},
   "source": [
    "實例屬性 (Instance Attributes) & 類別屬性 (Class/Static/Type Attributes)"
   ]
  },
  {
   "cell_type": "markdown",
   "metadata": {},
   "source": [
    "1. Instance Attributes"
   ]
  },
  {
   "cell_type": "code",
   "execution_count": 16,
   "metadata": {},
   "outputs": [
    {
     "name": "stdout",
     "output_type": "stream",
     "text": [
      "10\n",
      "20\n"
     ]
    }
   ],
   "source": [
    "class MyClass:\n",
    "    def __init__(self, value):\n",
    "        self.instance_attribute = value  # 這是 instance attribute\n",
    "\n",
    "obj1 = MyClass(10)\n",
    "obj2 = MyClass(20)\n",
    "\n",
    "print(obj1.instance_attribute)  \n",
    "print(obj2.instance_attribute)  \n"
   ]
  },
  {
   "cell_type": "markdown",
   "metadata": {},
   "source": [
    "2. Class Attributes\n",
    "   \n",
    "    *也稱為 Static Attributes 或 Type Attributes*\n",
    "\n",
    "- 常數\n",
    "\n",
    "- 共享\n",
    "\n",
    "- 狀態計數或跟蹤"
   ]
  },
  {
   "cell_type": "code",
   "execution_count": 17,
   "metadata": {},
   "outputs": [
    {
     "name": "stdout",
     "output_type": "stream",
     "text": [
      "這是 instance attribute\n",
      "這是 class attribute\n"
     ]
    }
   ],
   "source": [
    "class MyClass:\n",
    "    class_attribute = \"這是 class attribute\"  \n",
    "\n",
    "    def __init__(self, value):\n",
    "        self.class_attribute = value\n",
    "\n",
    "obj = MyClass(\"這是 instance attribute\")\n",
    "print(obj.class_attribute)      # 輸出: 這是 instance attribute\n",
    "print(MyClass.class_attribute)  # 輸出: 這是 class attribute"
   ]
  },
  {
   "cell_type": "code",
   "execution_count": 18,
   "metadata": {},
   "outputs": [
    {
     "name": "stdout",
     "output_type": "stream",
     "text": [
      "10\n",
      "10\n",
      "10\n",
      "======================\n",
      "20\n",
      "20\n",
      "20\n",
      "======================\n",
      "20\n",
      "20\n",
      "10\n"
     ]
    }
   ],
   "source": [
    "# class/static attributes\n",
    "class MyClass:\n",
    "    class_attribute = 0\n",
    "\n",
    "    def __init__(self, value1, value2):\n",
    "        MyClass.class_attribute = value1\n",
    "        self.instance_attribute = value2\n",
    "\n",
    "\n",
    "obj1 = MyClass(10, 10)\n",
    "print(MyClass.class_attribute)\n",
    "print(obj1.class_attribute)\n",
    "print(obj1.instance_attribute)\n",
    "print('======================')\n",
    "obj2 = MyClass(20, 20)\n",
    "print(MyClass.class_attribute)\n",
    "print(obj2.class_attribute)\n",
    "print(obj2.instance_attribute)\n",
    "print('======================')\n",
    "print(MyClass.class_attribute)\n",
    "print(obj1.class_attribute)\n",
    "print(obj1.instance_attribute)\n"
   ]
  }
 ],
 "metadata": {
  "kernelspec": {
   "display_name": ".venv",
   "language": "python",
   "name": "python3"
  },
  "language_info": {
   "codemirror_mode": {
    "name": "ipython",
    "version": 3
   },
   "file_extension": ".py",
   "mimetype": "text/x-python",
   "name": "python",
   "nbconvert_exporter": "python",
   "pygments_lexer": "ipython3",
   "version": "3.12.0"
  }
 },
 "nbformat": 4,
 "nbformat_minor": 2
}
