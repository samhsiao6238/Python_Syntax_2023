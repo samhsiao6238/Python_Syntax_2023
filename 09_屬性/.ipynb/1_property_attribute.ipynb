{
 "cells": [
  {
   "attachments": {},
   "cell_type": "markdown",
   "metadata": {},
   "source": [
    "# 在 Python 中，類別的實例變數通常被稱為屬性（Attribute）。這些變數可以在實例化對象時或之後的任何時候直接設置和獲取"
   ]
  },
  {
   "cell_type": "code",
   "execution_count": 2,
   "metadata": {},
   "outputs": [
    {
     "name": "stdout",
     "output_type": "stream",
     "text": [
      "這是 attribute\n",
      "這是新的 attribute\n"
     ]
    }
   ],
   "source": [
    "# 自訂類別\n",
    "class MyClass:\n",
    "    # 初始化函式\n",
    "    def __init__(self):\n",
    "        # 定義屬性\n",
    "        self.attribute = \"這是 attribute\"\n",
    "\n",
    "# 建立物件\n",
    "obj = MyClass()\n",
    "# 印出物件的屬性\n",
    "print(obj.attribute)\n",
    "# 修改物件的屬性\n",
    "obj.attribute = \"這是新的 attribute\"\n",
    "print(obj.attribute)\n"
   ]
  },
  {
   "attachments": {},
   "cell_type": "markdown",
   "metadata": {},
   "source": [
    "# Property 是一種特殊類型的屬性"
   ]
  },
  {
   "attachments": {},
   "cell_type": "markdown",
   "metadata": {},
   "source": [
    "property 提供了一種在對象上定義可操作的屬性的方法，這些屬性不需要調用者了解其內部工作方式。你可以使用 @property 裝飾器建立屬性，然後再用相同名稱的方法來添加 @method.setter 和 @method.deleter。"
   ]
  },
  {
   "attachments": {},
   "cell_type": "markdown",
   "metadata": {},
   "source": [
    "這種機制給了我們對這些操作更大的控制，例如你可以在這些方法中添加驗證、緩存、記錄等行為。它讓我們可以在獲取、設置和刪除屬性時進行額外的操作。"
   ]
  },
  {
   "cell_type": "code",
   "execution_count": 8,
   "metadata": {},
   "outputs": [
    {
     "name": "stdout",
     "output_type": "stream",
     "text": [
      "---Setting attribute---\n",
      "---Getting attribute---\n",
      "我賦予物件 property\n",
      "---Deleting attribute---\n"
     ]
    }
   ],
   "source": [
    "# 定義類別\n",
    "class MyClass:\n",
    "    # 初始化函式\n",
    "    def __init__(self):\n",
    "        # 定義屬性(attribute)\n",
    "        self._attribute = None\n",
    "\n",
    "    # 將屬性定義為 property，預設為 getter\n",
    "    @property\n",
    "    def attribute(self):\n",
    "        print(\"---Getting attribute---\")\n",
    "        return self._attribute\n",
    "\n",
    "    # 定義屬性，並設定 setter\n",
    "    @attribute.setter\n",
    "    def attribute(self, value):\n",
    "        print(\"---Setting attribute---\")\n",
    "        self._attribute = value\n",
    "\n",
    "    # 定義屬性，並設定 deleter\n",
    "    @attribute.deleter\n",
    "    def attribute(self):\n",
    "        print(\"---Deleting attribute---\")\n",
    "        del self._attribute\n",
    "\n",
    "# 建立物件\n",
    "obj = MyClass()\n",
    "# 建立物件的屬性，會自動執行 setter\n",
    "obj.attribute = \"我賦予物件 property\"\n",
    "# 印出物件的屬性，會先執行 getter，再印出\n",
    "print(obj.attribute)\n",
    "# 刪除物件的屬性，會自動執行 deleter\n",
    "del obj.attribute"
   ]
  }
 ],
 "metadata": {
  "kernelspec": {
   "display_name": "base",
   "language": "python",
   "name": "python3"
  },
  "language_info": {
   "codemirror_mode": {
    "name": "ipython",
    "version": 3
   },
   "file_extension": ".py",
   "mimetype": "text/x-python",
   "name": "python",
   "nbconvert_exporter": "python",
   "pygments_lexer": "ipython3",
   "version": "3.9.7"
  },
  "orig_nbformat": 4
 },
 "nbformat": 4,
 "nbformat_minor": 2
}
