{
 "cells": [
  {
   "attachments": {},
   "cell_type": "markdown",
   "metadata": {},
   "source": [
    "# 數值型"
   ]
  },
  {
   "attachments": {},
   "cell_type": "markdown",
   "metadata": {},
   "source": [
    "1. 基礎的數值型型別"
   ]
  },
  {
   "cell_type": "code",
   "execution_count": 13,
   "metadata": {},
   "outputs": [],
   "source": [
    "# 整數\n",
    "a = 10\n",
    "b = 20\n",
    "# 浮點數\n",
    "c = 3.14\n",
    "d = 20.0\n",
    "# 複數\n",
    "e = 10 + 20j\n",
    "f = complex(10, 20)\n",
    "# 布林\n",
    "g = True\n",
    "h = 1"
   ]
  },
  {
   "attachments": {},
   "cell_type": "markdown",
   "metadata": {},
   "source": [
    "2. 跨類型運算後的類型"
   ]
  },
  {
   "cell_type": "code",
   "execution_count": 14,
   "metadata": {},
   "outputs": [
    {
     "name": "stdout",
     "output_type": "stream",
     "text": [
      "<class 'float'>\n",
      "<class 'complex'>\n",
      "<class 'int'> 2\n"
     ]
    }
   ],
   "source": [
    "# 跨類型運算後的類型\n",
    "# 整數 + 浮點數 = 浮點數\n",
    "print(type(a + c))\n",
    "# 整數 + 複數 = 複數\n",
    "print(type(a + e))\n",
    "# 布林 + 整數 = 整數\n",
    "print(type(g + h), g + h)"
   ]
  },
  {
   "attachments": {},
   "cell_type": "markdown",
   "metadata": {},
   "source": [
    "3. 轉型\n",
    "\n",
    "   - 複數是無法轉型的，只能取值"
   ]
  },
  {
   "cell_type": "code",
   "execution_count": 15,
   "metadata": {},
   "outputs": [
    {
     "name": "stdout",
     "output_type": "stream",
     "text": [
      "3\n",
      "10 <class 'int'> 10.0 <class 'float'>\n",
      "(10+0j) <class 'complex'>\n",
      "(3.14+0j) <class 'complex'>\n"
     ]
    }
   ],
   "source": [
    "# 把浮點數轉成整數\n",
    "c = 3.14\n",
    "print(int(c))\n",
    "# 把整數轉成浮點數\n",
    "a = 10\n",
    "print(a, type(a), float(a), type(float(a)))\n",
    "# 把整數轉成複數\n",
    "f = complex(a)\n",
    "print(f, type(f))\n",
    "# 把浮點數轉成複數\n",
    "f = complex(c)\n",
    "print(f, type(f))"
   ]
  },
  {
   "attachments": {},
   "cell_type": "markdown",
   "metadata": {},
   "source": [
    "4. 接收\n",
    "   \n",
    "    - 特別注意，轉型時並沒有對原本的變數轉型，只是取值進行轉換，需要另外接收傳出值"
   ]
  },
  {
   "cell_type": "code",
   "execution_count": 16,
   "metadata": {},
   "outputs": [
    {
     "name": "stdout",
     "output_type": "stream",
     "text": [
      "10 <class 'int'>\n"
     ]
    }
   ],
   "source": [
    "# 把浮點數轉為整數，並接收傳出值\n",
    "a = 10.5\n",
    "a = int(a)\n",
    "print(a, type(a))"
   ]
  },
  {
   "attachments": {},
   "cell_type": "markdown",
   "metadata": {},
   "source": [
    "5. 整數的快取機制"
   ]
  },
  {
   "cell_type": "code",
   "execution_count": 17,
   "metadata": {},
   "outputs": [
    {
     "name": "stdout",
     "output_type": "stream",
     "text": [
      "4296501840\n",
      "4296501840\n",
      "4353204112\n",
      "4353203760\n",
      "4296698256\n",
      "4296698256\n",
      "4353203856\n",
      "4352077904\n"
     ]
    }
   ],
   "source": [
    "# 快取機制\n",
    "c = 10\n",
    "d = 10\n",
    "print(id(c))\n",
    "print(id(d))\n",
    "# 257以上的整數不會快取\n",
    "e = 257\n",
    "f = 257\n",
    "print(id(e))\n",
    "print(id(f))\n",
    "# 257以下的整數會快取\n",
    "g = 256\n",
    "h = 256\n",
    "print(id(g))\n",
    "print(id(h))\n",
    "# -5 ~ 256的整數會快取\n",
    "i = -6\n",
    "j = -6\n",
    "print(id(i))\n",
    "print(id(j))"
   ]
  },
  {
   "attachments": {},
   "cell_type": "markdown",
   "metadata": {},
   "source": [
    "6. 浮點數沒有快取機制"
   ]
  },
  {
   "cell_type": "code",
   "execution_count": 18,
   "metadata": {},
   "outputs": [
    {
     "name": "stdout",
     "output_type": "stream",
     "text": [
      "4352078992\n",
      "4352078864\n"
     ]
    }
   ],
   "source": [
    "# 浮點數沒有快取機制\n",
    "c = 10.0\n",
    "d = 10.0\n",
    "print(id(c))\n",
    "print(id(d))"
   ]
  },
  {
   "attachments": {},
   "cell_type": "markdown",
   "metadata": {},
   "source": [
    "---\n",
    "\n",
    "END"
   ]
  }
 ],
 "metadata": {
  "kernelspec": {
   "display_name": "base",
   "language": "python",
   "name": "python3"
  },
  "language_info": {
   "codemirror_mode": {
    "name": "ipython",
    "version": 3
   },
   "file_extension": ".py",
   "mimetype": "text/x-python",
   "name": "python",
   "nbconvert_exporter": "python",
   "pygments_lexer": "ipython3",
   "version": "3.9.6"
  },
  "orig_nbformat": 4
 },
 "nbformat": 4,
 "nbformat_minor": 2
}
