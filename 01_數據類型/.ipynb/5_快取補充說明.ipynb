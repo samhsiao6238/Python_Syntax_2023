{
 "cells": [
  {
   "attachments": {},
   "cell_type": "markdown",
   "metadata": {},
   "source": [
    "# 快取設計"
   ]
  },
  {
   "attachments": {},
   "cell_type": "markdown",
   "metadata": {},
   "source": [
    ">>Python 對一些特定的不可變對象進行了優化，即所謂的「快取設計」:\n",
    "\n",
    ">>>1. 整數快取\n",
    ">>>2. 字串快取"
   ]
  },
  {
   "attachments": {},
   "cell_type": "markdown",
   "metadata": {},
   "source": [
    "1. 整數快取：Python 為 -5 到 256 的整數進行快取設計，當創建的整數在這範圍內時，Python 實際上是返回了指向已經存在的對象的引用，而不是創建一個新的對象。"
   ]
  },
  {
   "cell_type": "code",
   "execution_count": 1,
   "metadata": {},
   "outputs": [
    {
     "name": "stdout",
     "output_type": "stream",
     "text": [
      "True\n",
      "False\n"
     ]
    }
   ],
   "source": [
    "a = 256\n",
    "b = 256\n",
    "print(id(a) == id(b))  # 輸出：True\n",
    "\n",
    "a = 257\n",
    "b = 257\n",
    "print(id(a) == id(b))  # 輸出：False\n"
   ]
  },
  {
   "attachments": {},
   "cell_type": "markdown",
   "metadata": {},
   "source": [
    "2. 字串快取：對於某些特定的字串，Python 也會進行快取。例如，標識符字串（只包含字母、數字和下劃線，並且不以數字開頭的字串）通常會被快取。這包括大多數的 Python 關鍵字、變數名稱等。"
   ]
  },
  {
   "cell_type": "code",
   "execution_count": 2,
   "metadata": {},
   "outputs": [
    {
     "name": "stdout",
     "output_type": "stream",
     "text": [
      "True\n",
      "False\n"
     ]
    }
   ],
   "source": [
    "a = \"hello\"\n",
    "b = \"hello\"\n",
    "print(id(a) == id(b))  # 輸出：True\n",
    "\n",
    "a = \"hello!\"\n",
    "b = \"hello!\"\n",
    "print(id(a) == id(b))  # 輸出：False\n"
   ]
  },
  {
   "attachments": {},
   "cell_type": "markdown",
   "metadata": {},
   "source": [
    "---\n",
    "\n",
    "END"
   ]
  }
 ],
 "metadata": {
  "kernelspec": {
   "display_name": "base",
   "language": "python",
   "name": "python3"
  },
  "language_info": {
   "codemirror_mode": {
    "name": "ipython",
    "version": 3
   },
   "file_extension": ".py",
   "mimetype": "text/x-python",
   "name": "python",
   "nbconvert_exporter": "python",
   "pygments_lexer": "ipython3",
   "version": "3.10.9"
  },
  "orig_nbformat": 4
 },
 "nbformat": 4,
 "nbformat_minor": 2
}
