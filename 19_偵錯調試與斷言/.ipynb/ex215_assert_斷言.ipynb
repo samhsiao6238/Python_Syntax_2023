{
 "cells": [
  {
   "attachments": {},
   "cell_type": "markdown",
   "metadata": {},
   "source": [
    "### assert\n",
    "\n",
    ">assert 關鍵字語句被用作一個調試輔助工具，後面跟著一個條件，可用以檢查程序中的條件，如果條件為 False，則引發一個 AssertionError 異常。\n",
    "\n",
    ">特別注意，斷言不該用於應用程式正式階段的錯誤處理，所以 Python 有一個 -O 優化選項可以用於關閉全局的斷言檢查。\n",
    "\n",
    ">斷言應該用於開發和測試階段，用以檢查程式碼的內部邏輯錯誤檢測。"
   ]
  },
  {
   "attachments": {},
   "cell_type": "markdown",
   "metadata": {},
   "source": [
    "1. 簡單範例"
   ]
  },
  {
   "cell_type": "code",
   "execution_count": 1,
   "metadata": {},
   "outputs": [],
   "source": [
    "x = 10\n",
    "assert x == 10, \"The value of x is not 10\""
   ]
  },
  {
   "cell_type": "code",
   "execution_count": 2,
   "metadata": {},
   "outputs": [
    {
     "ename": "AssertionError",
     "evalue": "The value of x is not 10",
     "output_type": "error",
     "traceback": [
      "\u001b[1;31m---------------------------------------------------------------------------\u001b[0m",
      "\u001b[1;31mAssertionError\u001b[0m                            Traceback (most recent call last)",
      "Cell \u001b[1;32mIn[2], line 3\u001b[0m\n\u001b[0;32m      1\u001b[0m x \u001b[39m=\u001b[39m \u001b[39m5\u001b[39m\n\u001b[0;32m      2\u001b[0m \u001b[39m# 斷言，如果 x 不等於 10，則會顯示訊息\u001b[39;00m\n\u001b[1;32m----> 3\u001b[0m \u001b[39massert\u001b[39;00m x \u001b[39m==\u001b[39m \u001b[39m10\u001b[39m, \u001b[39m\"\u001b[39m\u001b[39mThe value of x is not 10\u001b[39m\u001b[39m\"\u001b[39m\n",
      "\u001b[1;31mAssertionError\u001b[0m: The value of x is not 10"
     ]
    }
   ],
   "source": [
    "x = 5\n",
    "# 斷言，如果 x 不等於 10，則會顯示訊息\n",
    "assert x == 10, \"The value of x is not 10\""
   ]
  },
  {
   "attachments": {},
   "cell_type": "markdown",
   "metadata": {},
   "source": [
    "2. 檢查函數的輸入：驗證函數參數是否符合預期。"
   ]
  },
  {
   "cell_type": "code",
   "execution_count": null,
   "metadata": {},
   "outputs": [],
   "source": [
    "def calculate_square_root(x):\n",
    "    assert x >= 0, \"Input must be non-negative\"\n",
    "    return x ** 0.5\n",
    "\n",
    "# 使用正確的輸入，不會引發 AssertionError\n",
    "print(calculate_square_root(4))  # 輸出: 2.0\n",
    "\n",
    "# 使用錯誤的輸入，將引發 AssertionError\n",
    "print(calculate_square_root(-4))  # AssertionError: Input must be non-negative"
   ]
  },
  {
   "attachments": {},
   "cell_type": "markdown",
   "metadata": {},
   "source": [
    "3. 檢查函數的輸出：驗證函數的返回值是否符合預期。"
   ]
  },
  {
   "cell_type": "code",
   "execution_count": null,
   "metadata": {},
   "outputs": [],
   "source": [
    "def add(x, y):\n",
    "    result = x + y\n",
    "    assert result >= x and result >= y, \"Result is less than inputs\"\n",
    "    return result\n",
    "\n",
    "# 使用正確的輸入，不會引發 AssertionError\n",
    "print(add(5, 7))  # 輸出: 12\n",
    "\n",
    "# 因 Python 的動態型別特性，此例並不會引發 AssertionError，但會產生無意義的結果\n",
    "print(add(\"5\", 7))  # 輸出: \"57\"\n"
   ]
  },
  {
   "attachments": {},
   "cell_type": "markdown",
   "metadata": {},
   "source": [
    "4. 在程式碼中的特定點檢查變數的狀態。"
   ]
  },
  {
   "cell_type": "code",
   "execution_count": null,
   "metadata": {},
   "outputs": [],
   "source": [
    "def process_data(data):\n",
    "    assert isinstance(data, list), \"Input data must be a list\"\n",
    "    # 更多處理過程...\n",
    "\n",
    "data = \"Hello\"\n",
    "# 此處將引發 AssertionError，因為輸入的數據不是列表\n",
    "process_data(data)  # AssertionError: Input data must be a list\n"
   ]
  }
 ],
 "metadata": {
  "kernelspec": {
   "display_name": "base",
   "language": "python",
   "name": "python3"
  },
  "language_info": {
   "codemirror_mode": {
    "name": "ipython",
    "version": 3
   },
   "file_extension": ".py",
   "mimetype": "text/x-python",
   "name": "python",
   "nbconvert_exporter": "python",
   "pygments_lexer": "ipython3",
   "version": "3.10.9"
  },
  "orig_nbformat": 4
 },
 "nbformat": 4,
 "nbformat_minor": 2
}
