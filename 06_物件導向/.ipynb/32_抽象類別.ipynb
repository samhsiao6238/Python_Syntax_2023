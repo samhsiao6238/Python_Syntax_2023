{
 "cells": [
  {
   "attachments": {},
   "cell_type": "markdown",
   "metadata": {},
   "source": [
    "# 抽象類別\n",
    "\n",
    "舉例來說，在 Python 中的bytes 和 bytearray 被稱為二進制數據的抽象，這意味著他們代表了一種以二進制形式儲存和操作數據的方式，都用於儲存二進制數據如 0 和 1。\n",
    "\n",
    "Python 的數據模型允許定義抽象基類，這些基類可定義一個接口，也就是一組必須由派生類實現的方法。\n",
    "\n",
    "抽象類中定義的方法只是方法的聲明，並沒有具體實作這些方法，而這些方法的實際功能必須在抽象基類的派生類（Derived，也就是子類）中定義。\n",
    "\n",
    "在 Python 的內建模組 abc 中提供了 ABC（抽象基類）和 abstractmethod 來定義抽象基類和抽象方法。\n",
    "\n",
    "「派生類」在英文中通常被稱為 \"Derived Class\"。這個詞源於物件導向程式設計的概念，其中一個類別（派生類）可以繼承另一個類別（基礎類）的屬性和方法。在這種情況下，我們會說派生類是「從」基礎類「派生」的。\n",
    "\n",
    "「abc」是 Python 的一個內建模組，全名為「Abstract Base Classes」，是用來定義抽象基類的工具，這個模組提供了一個名為 ABC 的元類，以及一個 abstractmethod 裝飾器，用於聲明抽象方法。"
   ]
  },
  {
   "cell_type": "code",
   "execution_count": null,
   "metadata": {},
   "outputs": [],
   "source": [
    "from abc import ABC, abstractmethod\n",
    "\n",
    "class AbstractClassExample(ABC):\n",
    "    @abstractmethod\n",
    "    def do_something(self):\n",
    "        pass\n",
    "\n",
    "class AnotherSubclass(AbstractClassExample):\n",
    "    def do_something(self):\n",
    "        super().do_something()\n",
    "        print(\"The subclass is doing something\")\n",
    "\n",
    "x = AnotherSubclass()\n",
    "x.do_something()\n"
   ]
  }
 ],
 "metadata": {
  "language_info": {
   "name": "python"
  },
  "orig_nbformat": 4
 },
 "nbformat": 4,
 "nbformat_minor": 2
}
