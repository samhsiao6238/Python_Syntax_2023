{
 "cells": [
  {
   "cell_type": "markdown",
   "metadata": {},
   "source": [
    "說明：模組、導入、重用、繼承、封裝、抽象、多型"
   ]
  },
  {
   "cell_type": "markdown",
   "metadata": {},
   "source": [
    "1. 建立模組"
   ]
  },
  {
   "cell_type": "code",
   "execution_count": null,
   "metadata": {},
   "outputs": [],
   "source": [
    "# 模組化\n",
    "# car.py\n",
    "class Car:\n",
    "    def drive(self):\n",
    "        print(\"Car is driving!\")"
   ]
  },
  {
   "cell_type": "markdown",
   "metadata": {},
   "source": [
    "2. 導入模組"
   ]
  },
  {
   "cell_type": "code",
   "execution_count": null,
   "metadata": {},
   "outputs": [],
   "source": [
    "# 在其他模組中引用要導入\n",
    "# from car import Car\n",
    "my_car = Car()\n",
    "my_car.drive()"
   ]
  },
  {
   "cell_type": "markdown",
   "metadata": {},
   "source": [
    "3. 類的繼承（重用性）"
   ]
  },
  {
   "cell_type": "code",
   "execution_count": null,
   "metadata": {},
   "outputs": [],
   "source": [
    "# 重用性\n",
    "# 繼承\n",
    "class ElectricCar(Car):\n",
    "    def charge(self):\n",
    "        print(\"Charging the car!\")"
   ]
  },
  {
   "cell_type": "markdown",
   "metadata": {},
   "source": [
    "4. 類的封裝"
   ]
  },
  {
   "cell_type": "code",
   "execution_count": null,
   "metadata": {},
   "outputs": [],
   "source": [
    "# 封裝\n",
    "class Car:\n",
    "    def __init__(self):\n",
    "        self.__fuel = 0\n",
    "\n",
    "    def add_fuel(self, amount):\n",
    "        self.__fuel += amount\n",
    "        print(f\"Added {amount} fuel. Total fuel is {self.__fuel}.\")"
   ]
  },
  {
   "cell_type": "markdown",
   "metadata": {},
   "source": [
    "5. 抽象類"
   ]
  },
  {
   "cell_type": "code",
   "execution_count": null,
   "metadata": {},
   "outputs": [],
   "source": [
    "# 抽象\n",
    "from abc import ABC, abstractmethod\n",
    "\n",
    "class Vehicle(ABC):\n",
    "    \n",
    "    @abstractmethod\n",
    "    def move(self):\n",
    "        pass\n"
   ]
  },
  {
   "cell_type": "markdown",
   "metadata": {},
   "source": [
    "6. Python 的多型"
   ]
  },
  {
   "cell_type": "code",
   "execution_count": null,
   "metadata": {},
   "outputs": [],
   "source": [
    "# 多型\n",
    "class Bird:\n",
    "    def fly(self):\n",
    "        print(\"Bird is flying!\")\n",
    "\n",
    "class Airplane:\n",
    "    def fly(self):\n",
    "        print(\"Airplane is flying!\")\n",
    "\n",
    "def make_it_fly(entity):\n",
    "    entity.fly()\n",
    "\n",
    "bird = Bird()\n",
    "plane = Airplane()\n",
    "make_it_fly(bird)   # Bird is flying!\n",
    "make_it_fly(plane) # Airplane is flying!\n"
   ]
  },
  {
   "cell_type": "markdown",
   "metadata": {},
   "source": [
    "---END---"
   ]
  }
 ],
 "metadata": {
  "language_info": {
   "name": "python"
  },
  "orig_nbformat": 4
 },
 "nbformat": 4,
 "nbformat_minor": 2
}
