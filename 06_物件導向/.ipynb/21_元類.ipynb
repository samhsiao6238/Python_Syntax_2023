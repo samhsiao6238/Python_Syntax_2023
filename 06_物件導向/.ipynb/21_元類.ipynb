{
 "cells": [
  {
   "attachments": {},
   "cell_type": "markdown",
   "metadata": {},
   "source": [
    "# 元類（Metaclasses）\n",
    "\n",
    ">>元類是「建立類的類」，雖然在一般程式中並不常用，但在某些情況下，如框架或庫的開發中，元類可以提供強大的工具。\n",
    "\n",
    ">>在下面這個例子中，用 type 來動態建立一個新的類 Foo。這個 Foo 類沒有任何父類，也沒有定義任何屬性或方法。"
   ]
  },
  {
   "cell_type": "code",
   "execution_count": 2,
   "metadata": {},
   "outputs": [],
   "source": [
    "# 使用 type 元類建立一個新的類\n",
    "Foo = type('Foo', (), {})\n",
    "\n",
    "# 建立一個 Foo 的實例\n",
    "foo = Foo()"
   ]
  },
  {
   "attachments": {},
   "cell_type": "markdown",
   "metadata": {},
   "source": [
    ">>元類的真正力量在於它們可以在類被建立時自動改變類。例如，我們可以定義一個元類，"
   ]
  },
  {
   "cell_type": "code",
   "execution_count": 4,
   "metadata": {},
   "outputs": [
    {
     "name": "stdout",
     "output_type": "stream",
     "text": [
      "This attribute was added by the metaclass\n"
     ]
    }
   ],
   "source": [
    "class Meta(type):\n",
    "    def __init__(cls, name, bases, attrs):\n",
    "        setattr(cls, 'my_attribute', 'This attribute was added by the metaclass')\n",
    "        super().__init__(name, bases, attrs)\n",
    "\n",
    "# 使用我們的元類來建立一個新的類\n",
    "class MyClass(metaclass=Meta):\n",
    "    pass\n",
    "\n",
    "# 建立 MyClass 的一個實例\n",
    "my_instance = MyClass()\n",
    "\n",
    "print(my_instance.my_attribute)  # 輸出：This attribute was added by the metaclass\n"
   ]
  },
  {
   "cell_type": "code",
   "execution_count": 1,
   "metadata": {},
   "outputs": [],
   "source": [
    "class MyMeta(type):\n",
    "    pass\n",
    "\n",
    "class MyClass(metaclass=MyMeta):\n",
    "    pass\n"
   ]
  }
 ],
 "metadata": {
  "kernelspec": {
   "display_name": "base",
   "language": "python",
   "name": "python3"
  },
  "language_info": {
   "codemirror_mode": {
    "name": "ipython",
    "version": 3
   },
   "file_extension": ".py",
   "mimetype": "text/x-python",
   "name": "python",
   "nbconvert_exporter": "python",
   "pygments_lexer": "ipython3",
   "version": "3.10.9"
  },
  "orig_nbformat": 4
 },
 "nbformat": 4,
 "nbformat_minor": 2
}
