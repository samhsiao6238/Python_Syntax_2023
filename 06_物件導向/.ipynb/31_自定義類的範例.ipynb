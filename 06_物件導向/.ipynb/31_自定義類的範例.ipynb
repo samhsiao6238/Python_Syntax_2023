{
 "cells": [
  {
   "attachments": {},
   "cell_type": "markdown",
   "metadata": {},
   "source": [
    "範例一"
   ]
  },
  {
   "cell_type": "code",
   "execution_count": null,
   "metadata": {},
   "outputs": [],
   "source": [
    "# 自定義的切片類別\n",
    "class MySliceableList:\n",
    "    # 建構式，傳入資料為 data\n",
    "    def __init__(self, data):\n",
    "        print('調用 __init__：')\n",
    "        # 初始化數據，將傳入職轉換成列表 list\n",
    "        self.data = list(data)\n",
    "    # 這裡的 index 是傳入物件的索引值\n",
    "    def __getitem__(self, index):\n",
    "        print('調用 __getitem__：')\n",
    "        # 如果是 slice 物件\n",
    "        if isinstance(index, slice):\n",
    "            # 傳出一個新的 MySliceableList 物件\n",
    "            return self.__class__(self.data[index])\n",
    "        # 否則直接傳回原本的資料\n",
    "        return self.data[index]\n",
    "\n",
    "    def __setitem__(self, index, value):\n",
    "        print('調用 __setitem__')\n",
    "        self.data[index] = value\n",
    "    # 平均數\n",
    "    def average(self):\n",
    "        return sum(self.data) / len(self.data)\n",
    "    # 是否排序\n",
    "    def is_sorted(self):\n",
    "        return self.data == sorted(self.data)\n",
    "    # 新增數據\n",
    "    def add(self, value):\n",
    "        if isinstance(value, (int, float)):\n",
    "            self.data.append(value)\n",
    "        else:\n",
    "            raise ValueError(\"只可添加數值型數據\")\n",
    "    # 中位數\n",
    "    def median(self):\n",
    "        sorted_data = sorted(self.data)\n",
    "        mid = len(sorted_data) // 2\n",
    "\n",
    "        if len(sorted_data) % 2 == 0:\n",
    "            return (sorted_data[mid - 1] + sorted_data[mid]) / 2\n",
    "        else:\n",
    "            return sorted_data[mid]\n",
    "\n",
    "# 建立物件\n",
    "my_list = MySliceableList([3, 1, 4, 1, 5, 9])\n",
    "# 調用拓展的方法：平均數\n",
    "print('調用拓展的方法：平均數：')\n",
    "print(my_list.average())  # 輸出：3.8333333333333335\n",
    "# 調用拓展的方法：是否排序\n",
    "print('調用拓展的方法：是否排序：')\n",
    "print(my_list.is_sorted())  # 輸出：False\n",
    "# 調用拓展的方法：新增數據\n",
    "print('調用拓展的方法：新增數據：')\n",
    "my_list.add(2)\n",
    "# 添加數據\n",
    "print('添加數據：')\n",
    "print(my_list.data)  # 輸出：[3, 1, 4, 1, 5, 9, 2]\n",
    "# 調用拓展的方法：中位數\n",
    "print('調用拓展的方法：中位數：')\n",
    "print(my_list.median())  # 輸出：3.0"
   ]
  }
 ],
 "metadata": {
  "language_info": {
   "name": "python"
  },
  "orig_nbformat": 4
 },
 "nbformat": 4,
 "nbformat_minor": 2
}
