{
 "cells": [
  {
   "cell_type": "markdown",
   "metadata": {},
   "source": [
    "單例模式：方法三 \\_\\_new__"
   ]
  },
  {
   "cell_type": "code",
   "execution_count": 1,
   "metadata": {},
   "outputs": [
    {
     "name": "stdout",
     "output_type": "stream",
     "text": [
      "這是 __new__\n",
      "這是 __init__\n",
      "初始化物件...\n",
      "這是 __new__\n",
      "這是 __init__\n",
      "物件已經初始化過，_initialized = True\n",
      "True\n",
      "這是 SingletonChild 的 __new__\n",
      "這是 __new__\n",
      "這是 SingletonChild 的 __new__\n",
      "這是 __new__\n",
      "True\n"
     ]
    }
   ],
   "source": [
    "class Singleton:\n",
    "    # 建立一個屬性，初始值 None\n",
    "    _instance = None\n",
    "    # 覆寫 __new__\n",
    "    def __new__(cls):\n",
    "        print('這是 __new__')\n",
    "        # 判斷屬性值是否存在\n",
    "        if cls._instance is None:\n",
    "            # 不存在就調用 super 建立一個物件放在裡面\n",
    "            cls._instance = super().__new__(cls)\n",
    "        return cls._instance\n",
    "    \n",
    "    def __init__(self):\n",
    "        print('這是 __init__')\n",
    "        # hasattr(obj, name) 用來檢查一個物件是否擁有這個屬性值 _initialized\n",
    "        if not hasattr(self, '_initialized'):  # 檢查是否已經初始化\n",
    "            print('初始化物件...')\n",
    "            # 進行初始化，並且命名\n",
    "            self._initialized = True\n",
    "        else:\n",
    "            print(f'物件已經初始化過，_initialized = {self._initialized}')\n",
    "            # 不進行初始化\n",
    "            pass\n",
    "\n",
    "# 若建立子類繼承父類\n",
    "class SingletonChild(Singleton):\n",
    "    def __new__(cls):\n",
    "        print('這是 SingletonChild 的 __new__')\n",
    "        return super().__new__(cls)\n",
    "\n",
    "# 建立兩個物件\n",
    "s1 = Singleton()\n",
    "s2 = Singleton()\n",
    "\n",
    "# 檢查兩個物件是否為同一個\n",
    "print(s1 is s2)  # True\n",
    "\n",
    "s11 = SingletonChild()\n",
    "s22 = SingletonChild()\n",
    "print(s11 is s22)  # True"
   ]
  }
 ],
 "metadata": {
  "kernelspec": {
   "display_name": ".venv",
   "language": "python",
   "name": "python3"
  },
  "language_info": {
   "codemirror_mode": {
    "name": "ipython",
    "version": 3
   },
   "file_extension": ".py",
   "mimetype": "text/x-python",
   "name": "python",
   "nbconvert_exporter": "python",
   "pygments_lexer": "ipython3",
   "version": "3.9.6"
  }
 },
 "nbformat": 4,
 "nbformat_minor": 2
}
