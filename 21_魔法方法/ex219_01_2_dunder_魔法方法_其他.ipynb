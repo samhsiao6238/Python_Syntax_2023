{
 "cells": [
  {
   "attachments": {},
   "cell_type": "markdown",
   "metadata": {},
   "source": [
    "# 其他魔法方法\n",
    "\n",
    ">- __getitem__\n",
    "\n",
    ">- __setitem__"
   ]
  },
  {
   "attachments": {},
   "cell_type": "markdown",
   "metadata": {},
   "source": [
    "在 Python 中，__getitem__ 和 __setitem__，它們在我們嘗試對一個物件進行索引或賦值操作時被呼叫。\n",
    "\n",
    "__getitem__ 方法是用於訪問物件中的元素。例如，如果有一個 my_list 物件並且你調用 my_list[i]，Python 會去尋找 my_list 物件的 __getitem__ 方法並將 i 作為參數傳遞給該方法。\n",
    "\n",
    "__setitem__ 方法則用於設置物件中元素的值。例如，如果調用 my_list[i] = x，Python 會去尋找 my_list 物件的 __setitem__ 方法並將 i 和 x 作為參數傳遞給該方法。\n",
    "\n",
    "此外，如果你的 __getitem__ 方法實現了對 slice 物件的支援，那麼你的物件將能支援切片操作。slice 物件在你進行切片操作時被創建，例如 my_list[i:j] 或 my_list[i:j:k]。它有三個屬性：start、stop 和 step，分別對應於切片操作的三個部分。在你的 __getitem__ 方法中，你可以檢查輸入的索引是否為 slice 物件，並根據 slice 物件的屬性來返回相應的值。\n",
    "\n",
    "這兩個方法讓你能夠對自定義的物件實現類似於 Python 內置的序列或映射類型（例如 list 或 dict）的行為。它們使你能夠定義物件的索引和切片行為，進一步提高了 Python 的靈活性。"
   ]
  },
  {
   "attachments": {},
   "cell_type": "markdown",
   "metadata": {},
   "source": [
    "---END---"
   ]
  }
 ],
 "metadata": {
  "language_info": {
   "name": "python"
  },
  "orig_nbformat": 4
 },
 "nbformat": 4,
 "nbformat_minor": 2
}
