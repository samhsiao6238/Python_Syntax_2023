{
 "cells": [
  {
   "attachments": {},
   "cell_type": "markdown",
   "metadata": {},
   "source": [
    "# dunder 魔法方法\n",
    "\n",
    ">- <font color='red'>dunder</font>是「double under」（雙底線）的縮寫，指的是 Python 中的特殊方法，這類方法的名稱以兩條底線（under line）開頭和結束，也稱為「魔法方法」。\n",
    "\n",
    ">- Python 定義了許多這類型的方法，可用來更改或拓展（extend）物件的內建行為，也就是說魔法方法可以讓使用者定義 Python 的內建行為，如「加減乘除」。\n",
    "\n",
    ">- 舉例說，可以在自定義類別中實作名稱為「\\_\\_add\\_\\_」的魔法方法，當使用「+」運算子對類的實體進行運算，Python 就會自動調用這個「\\_\\_add\\_\\_」方法。\n",
    "\n",
    ">- 在 \\_\\_repr\\_\\_ 部分，官方特別說明了其調用 eval() 進行物件復刻的時候可能發生的問題是可以理解的，原文是「如果可能，這（指 \\_\\_repr\\_\\_）應該看起來就像一個 Python 表達式，能用來重新創建該（或者一個相似的）物件。」，而「如果可能」就是告訴開發者盡力而為，但例外也是可以接受的。"
   ]
  },
  {
   "attachments": {},
   "cell_type": "markdown",
   "metadata": {},
   "source": [
    "1. 對象初始化 \\_\\_init\\_\\_(self, ...)\n",
    "\n",
    ">- 用於初始化一個新建立的物件，當物件被創建時會立即調用 \\_\\_init\\_\\_。"
   ]
  },
  {
   "cell_type": "code",
   "execution_count": 16,
   "metadata": {},
   "outputs": [],
   "source": [
    "# 自定義一個類\n",
    "class Example:\n",
    "    # 定義一個初始化方法\n",
    "    def __init__(self, value):\n",
    "        # 初始化屬性\n",
    "        self.value = value"
   ]
  },
  {
   "attachments": {},
   "cell_type": "markdown",
   "metadata": {},
   "source": [
    "2. 相加 \\_\\_add\\_\\_\n",
    "\n",
    ">- 明白初始化時會調用 \\_\\_init\\_\\_，那就不難明白當類實作了 \\_\\_add\\_\\_，那類的兩個實體以「+」運算子相加時，就會自動調用 \\_\\_add\\_\\_ 方法了。\n",
    "\n",
    ">- 注意這個結果最終顯示的是一個十六進位的記憶體位置，這是因為這個類沒有實作 \\_\\_str\\_\\_ 或是 \\_\\_repr\\_\\_，後面部分會接續說明這兩個魔法方法。\n",
    "\n",
    ">- 透過對結果的以 id 查看發現，沒有實作 \\_\\_str\\_\\_ 或是 \\_\\_repr\\_\\_ 時所輸出的就是記憶體位置的十六進位表示結果。"
   ]
  },
  {
   "cell_type": "code",
   "execution_count": 17,
   "metadata": {},
   "outputs": [
    {
     "name": "stdout",
     "output_type": "stream",
     "text": [
      "--------------------\n",
      "<__main__.MyNumber object at 0x7f85f0fd3cd0>\n",
      "0x7f85f0fd3cd0\n",
      "--------------------\n"
     ]
    }
   ],
   "source": [
    "class MyNumber:\n",
    "    def __init__(self, value):\n",
    "        # 有一個初始化屬性\n",
    "        self.value = value\n",
    "    # 定義一個方法，用來實現兩個 MyNumber 物件的加法\n",
    "    def __add__(self, other):\n",
    "        # 透過 isinstance() 判斷 other 是否為 MyNumber 類型\n",
    "        if isinstance(other, MyNumber):\n",
    "            # 返回兩個物件的 value 屬性之和\n",
    "            # 返回的是一個新的 MyNumber 物件\n",
    "            return MyNumber(self.value + other.value)\n",
    "        else:\n",
    "            # 表示這個操作未被實現，Python 會嘗試調用其他方法來執行這個操作\n",
    "            return NotImplemented  \n",
    "\n",
    "# 創建兩個 MyNumber 物件\n",
    "n1 = MyNumber(100)\n",
    "n2 = MyNumber(200)\n",
    "# 運算 n1 + n2，實際上是調用 n1.__add__(n2)\n",
    "# 因為沒有實作 __str__ 或是 __repr__，所以會印出物件的記憶體位址\n",
    "result = n1 + n2\n",
    "print(\"--------------------\")\n",
    "# 會輸出該物件所屬的類別和該物件的記憶體地址。\n",
    "print(result) \n",
    "# 印出 result 的記憶體位址的十六進位結果進行比對，發現一致\n",
    "print(hex(id(result)))\n",
    "print(\"--------------------\")"
   ]
  },
  {
   "attachments": {},
   "cell_type": "markdown",
   "metadata": {},
   "source": [
    "3. 官方說明 \\_\\_repr\\_\\_\n",
    "   \n",
    ">- 再拓展前一個範例，希望輸出的結果是類的實體 MyNumber(300)。\n",
    "\n",
    ">- 這次將一個 MyNumber 物件傳遞給 print 函數輸出時，Python 會使用 \\_\\_repr\\_\\_ 方法來生成一個字符串並打印出來。"
   ]
  },
  {
   "cell_type": "code",
   "execution_count": 19,
   "metadata": {},
   "outputs": [
    {
     "name": "stdout",
     "output_type": "stream",
     "text": [
      "__repr__：MyNumber(300)\n"
     ]
    }
   ],
   "source": [
    "class MyNumber:\n",
    "    def __init__(self, value):\n",
    "        self.value = value\n",
    "\n",
    "    def __add__(self, other):\n",
    "        if isinstance(other, MyNumber):\n",
    "            return MyNumber(self.value + other.value)\n",
    "        else:\n",
    "            return NotImplemented\n",
    "    # 定義 __repr__ 方法，用來返回對象的字符串表示\n",
    "    def __repr__(self):\n",
    "        # 返回一個字符串，這個字符串可以用來創建一個和當前物件相同的新物件\n",
    "        return f\"__repr__：MyNumber({self.value})\"  \n",
    "\n",
    "# 創建兩個 MyNumber 物件\n",
    "n1 = MyNumber(100)\n",
    "n2 = MyNumber(200)\n",
    "# 調用 n1 + n2，實際上是調用 n1.__add__(n2)\n",
    "# 輸出 MyNumber(300)\n",
    "result = n1 + n2\n",
    "print(result) "
   ]
  },
  {
   "attachments": {},
   "cell_type": "markdown",
   "metadata": {},
   "source": [
    "4. 字串表達形式 \\_\\_str\\_\\_(self) 、 \\_\\_repr\\_\\_(self)\n",
    "\n",
    ">- 將一個物件傳遞給 print() 時，Python 會嘗試將該物件轉換為一個字符串並打印。默認情況下，Python 會打印出一個通用的物件表示，包括該物件所屬的類別和該物件的記憶體地址。\n",
    "\n",
    ">- 在內建類或是自定義類中假如實作了 \\_\\_str\\_\\_ 或 \\_\\_repr\\_\\_ 魔法方法，那調用 print() 的時候則會調用他們來傳出一段字串提供輸出。\n",
    "\n",
    ">- 通常 \\_\\_str\\_\\_ 會傳出人類可讀的描述（字串），而 \\_\\_repr\\_\\_ 則會傳出機器可讀的描述，並用於建立一個相同內容的新物件可用的字串，所以他們需要傳出的訊息量並不相同，設計時也會有所差異。\n",
    "\n",
    ">- 系統會優先調用 \\_\\_str\\_\\_ ，所以當 \\_\\_str\\_\\_ 方法沒有定義，那 Python 將會調用 \\_\\_repr\\_\\_ 方法，換句話說假如只定義其中之一，那 \\_\\_repr\\_\\_ 會是較好的選擇。\n",
    "\n",
    ">- 以日期物件為例，在 \\_\\_str\\_\\_ 中可能回傳的只有「2023-06-12」，但在 \\_\\_repr\\_\\_ 中則會傳回更詳細的「datetime.date(2023, 6, 12)」。\n",
    "\n",
    ">- 這是因為 \\_\\_repr\\_\\_ 可用於調用 \\_\\_eval\\_\\_ 來建立一個全新但是內容相同的建物，因為這樣的需求，所以在 \\_\\_repr\\_\\_ 中的要求更為嚴謹。\n",
    "\n",
    ">- 針對 \\_\\_eval\\_\\_ 再做些說明，並不是說 \\_\\_str\\_\\_ 不能調用 \\_\\_eval\\_\\_，而是 \\_\\_str\\_\\_ 本應被期待傳出人類可以閱讀的訊息，而 \\_\\_repr\\_\\_ 則被期待傳出可供機器閱讀並用來重建、復刻原物件的訊息，在程式語言中它們有各自的功能角色，設計者將它們正確合理的設計也是很重要的工作。"
   ]
  },
  {
   "attachments": {},
   "cell_type": "markdown",
   "metadata": {},
   "source": [
    ">>示範一下 eval()\n",
    "\n",
    ">- eval() 會執行傳入字串所代表的 <font color='red'>Python 程式碼</font>，而非所顯示的字串。\n",
    "\n",
    ">- 補充說明，除了 eval() 以外， exec() 函數也可以用來執行 code object，詳見「code object」一節說明。"
   ]
  },
  {
   "cell_type": "code",
   "execution_count": 28,
   "metadata": {},
   "outputs": [
    {
     "name": "stdout",
     "output_type": "stream",
     "text": [
      "1+2 <class 'str'>\n",
      "3 <class 'int'>\n"
     ]
    }
   ],
   "source": [
    "x1 = '1+2'\n",
    "x2 = eval(x1)\n",
    "print(x1, type(x1)) \n",
    "print(x2, type(x2)) "
   ]
  },
  {
   "attachments": {},
   "cell_type": "markdown",
   "metadata": {},
   "source": [
    ">- 期待 \\_\\_repr\\_\\_ 可以被 eval()所解析。\n",
    "\n",
    ">- 補充說明一下，在邏輯上，\\_\\_repr\\_\\_ 在定義的時候就該定義一個可供 eval() 所解析的內容，所以按理說並不存在 eval() 無法重建 \\_\\_repr\\_\\_ 物件這樣的問題，因為這個所謂的無法重建其實來自於 \\_\\_repr\\_\\_ 的定義錯誤。\n",
    "\n",
    ">- 但在實務上，eval() 是 Python 內建的函數，並非自定義類之內所需實作的，當建立了一些複雜的類且實務上無法使用 eval() 重建，並不能否定這樣的類的存在意義，也為了提供人類與機器可閱讀的描述而實作了 \\_\\str\\_\\_ 與 \\_\\_repr\\_\\_，導致於 \\_\\_repr\\_\\_ 無法調用 eval() 來進行重建是合理的存在，這在官方說明中也都有描述。"
   ]
  },
  {
   "cell_type": "code",
   "execution_count": 31,
   "metadata": {},
   "outputs": [],
   "source": [
    "# For a list\n",
    "x = [1, 2, 3]\n",
    "assert eval(repr(x)) == x\n",
    "\n",
    "# For a dictionary\n",
    "x = {'a': 1, 'b': 2}\n",
    "assert eval(repr(x)) == x"
   ]
  },
  {
   "attachments": {},
   "cell_type": "markdown",
   "metadata": {},
   "source": [
    ">>進一步說明\n",
    "\n",
    ">- 假如沒有定義 \\_\\_repr\\_\\_ 與 \\_\\_str\\_\\_，結果：類名＋記憶體位置\n",
    "\n",
    ">>> <\\_\\_main\\_\\_.MyNumber object at 0x7f85f0e53df0>\n",
    "\n",
    ">- 假如僅定義 \\_\\_repr\\_\\_，結果\n",
    "\n",
    ">>> \\_\\_repr\\_\\_：MyNumber(300)\n",
    "\n",
    ">- 假如僅定義 \\_\\_str\\_\\_，結果\n",
    "\n",
    ">>> \\_\\_str\\_\\_：value = 300\n",
    "\n",
    ">- 假如定義 \\_\\_repr\\_\\_ 與 \\_\\_str\\_\\_，結果\n",
    "\n",
    ">>> \\_\\_str\\_\\_：value = 300"
   ]
  },
  {
   "cell_type": "code",
   "execution_count": 20,
   "metadata": {},
   "outputs": [
    {
     "name": "stdout",
     "output_type": "stream",
     "text": [
      "__str__：value = 300\n"
     ]
    }
   ],
   "source": [
    "# 自定義類\n",
    "class MyNumber:\n",
    "    # 定義初始化方法\n",
    "    def __init__(self, value):\n",
    "        # 初始化屬性\n",
    "        self.value = value\n",
    "    # 定義 __add__ 方法，用來實現兩個 MyNumber 物件的加法\n",
    "    def __add__(self, other):\n",
    "        # 判斷 other 是否是 MyNumber 的實體\n",
    "        if isinstance(other, MyNumber):\n",
    "            # 返回兩個物件的 value 屬性之和\n",
    "            return MyNumber(self.value + other.value)\n",
    "        else:\n",
    "            # 表示這個操作未被實現，Python 會嘗試調用其他方法來執行這個操作\n",
    "            return NotImplemented\n",
    "    # 定義 __repr__ 方法，用來返回對象的字符串表示\n",
    "    def __repr__(self):\n",
    "        # 返回一個字符串，這個字符串可以用來創建一個和當前物件相同的新物件\n",
    "        return f\"__repr__：MyNumber({self.value})\"  \n",
    "    # 定義 __str__ 方法，用來返回對象的字符串表示\n",
    "    def __str__(self):\n",
    "        # 返回一個字符串，這個字符串用來表示當前物件\n",
    "        return f\"__str__：value = {self.value}\"\n",
    "\n",
    "# 創建兩個 MyNumber 物件\n",
    "n1 = MyNumber(100)\n",
    "n2 = MyNumber(200)\n",
    "# 調用 n1 + n2，實際上是調用 n1.__add__(n2)\n",
    "# 輸出 MyNumber(300)\n",
    "print(n1 + n2) "
   ]
  },
  {
   "cell_type": "code",
   "execution_count": 18,
   "metadata": {},
   "outputs": [
    {
     "name": "stdout",
     "output_type": "stream",
     "text": [
      "這是一個範例物件\n",
      "Example(5)\n",
      "Example(5)\n"
     ]
    }
   ],
   "source": [
    "class Example:\n",
    "    # 定義一個初始化方法\n",
    "    def __init__(self, value):\n",
    "        self.value = value\n",
    "\n",
    "    # 定義一個字串方法\n",
    "    def __str__(self):\n",
    "        # 回傳字串\n",
    "        return \"這是一個範例物件\"\n",
    "    \n",
    "    def __repr__(self):\n",
    "        return f\"Example({self.value})\"\n",
    "    \n",
    "#\n",
    "obj = Example(5)\n",
    "print(obj)\n",
    "# 使用 repr() 函數\n",
    "print(repr(obj))\n",
    "# 透過「!r」\n",
    "print(f'{obj!r}') \n"
   ]
  },
  {
   "attachments": {},
   "cell_type": "markdown",
   "metadata": {},
   "source": [
    "2. 物件呼叫 \\_\\_call\\_\\_(self, ...)\n",
    "\n",
    ">- 讓一個類的實體(instance)像函數一樣被呼叫。\n"
   ]
  },
  {
   "cell_type": "code",
   "execution_count": null,
   "metadata": {},
   "outputs": [],
   "source": [
    "class Example:\n",
    "    # 定義一個呼叫方法\n",
    "    def __call__(self, value):\n",
    "        # 回傳值\n",
    "        return value * 2"
   ]
  },
  {
   "attachments": {},
   "cell_type": "markdown",
   "metadata": {},
   "source": [
    "---END---"
   ]
  }
 ],
 "metadata": {
  "kernelspec": {
   "display_name": "base",
   "language": "python",
   "name": "python3"
  },
  "language_info": {
   "codemirror_mode": {
    "name": "ipython",
    "version": 3
   },
   "file_extension": ".py",
   "mimetype": "text/x-python",
   "name": "python",
   "nbconvert_exporter": "python",
   "pygments_lexer": "ipython3",
   "version": "3.10.9"
  },
  "orig_nbformat": 4
 },
 "nbformat": 4,
 "nbformat_minor": 2
}
