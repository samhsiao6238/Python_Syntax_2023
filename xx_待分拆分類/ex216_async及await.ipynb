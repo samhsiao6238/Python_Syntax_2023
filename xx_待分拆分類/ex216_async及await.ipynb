{
 "cells": [
  {
   "attachments": {},
   "cell_type": "markdown",
   "metadata": {},
   "source": [
    "在 Python 中，async 是用于定义异步函数的关键字，它在 Python 3.5 及更高版本中引入。异步函数也被称为 \"协程\"，它是非阻塞的，并通过 async/await 语法进行管理。"
   ]
  },
  {
   "cell_type": "code",
   "execution_count": 1,
   "metadata": {},
   "outputs": [],
   "source": [
    "async def fetch_data():\n",
    "    async with aiohttp.ClientSession() as session:\n",
    "        async with session.get('http://python.org') as response:\n",
    "            return await response.text()\n",
    "\n",
    "async def main():\n",
    "    data = await fetch_data()\n",
    "    print(data)\n"
   ]
  },
  {
   "attachments": {},
   "cell_type": "markdown",
   "metadata": {},
   "source": [
    "aiohttp 是 Python 的一个异步 HTTP 客户端/服务器库，它使用 asyncio 提供异步操作。这意味着你可以使用 aiohttp 发起或接受 HTTP 请求，并且这些操作是非阻塞的，它们不会中断你的程序执行其他任务。\n",
    "\n",
    "aiohttp 提供了一组高级 API 来管理请求和响应的细节，包括方法如 GET 和 POST，处理头部和参数，以及其他 HTTP 交互的功能。这使得你可以编写处理 HTTP 的复杂程序，而不需要深入理解协议的所有细节。\n",
    "\n",
    "在客户端，aiohttp 可以用于异步地发出 HTTP 请求。这对于需要并发处理多个 HTTP 请求的程序来说非常有用，例如，爬虫或微服务。\n",
    "\n",
    "例如，你可以这样发出 GET 请求："
   ]
  },
  {
   "cell_type": "code",
   "execution_count": 4,
   "metadata": {},
   "outputs": [
    {
     "ename": "ModuleNotFoundError",
     "evalue": "No module named 'aiohttp'",
     "output_type": "error",
     "traceback": [
      "\u001b[0;31m---------------------------------------------------------------------------\u001b[0m",
      "\u001b[0;31mModuleNotFoundError\u001b[0m                       Traceback (most recent call last)",
      "Cell \u001b[0;32mIn[4], line 1\u001b[0m\n\u001b[0;32m----> 1\u001b[0m \u001b[39mimport\u001b[39;00m \u001b[39maiohttp\u001b[39;00m\n\u001b[1;32m      2\u001b[0m \u001b[39mimport\u001b[39;00m \u001b[39masyncio\u001b[39;00m\n\u001b[1;32m      4\u001b[0m \u001b[39masync\u001b[39;00m \u001b[39mdef\u001b[39;00m \u001b[39mmain\u001b[39m():\n",
      "\u001b[0;31mModuleNotFoundError\u001b[0m: No module named 'aiohttp'"
     ]
    }
   ],
   "source": [
    "import aiohttp\n",
    "import asyncio\n",
    "\n",
    "async def main():\n",
    "    async with aiohttp.ClientSession() as session:\n",
    "        async with session.get('http://httpbin.org/get') as response:\n",
    "            print(await response.text())\n",
    "\n",
    "asyncio.run(main())\n"
   ]
  },
  {
   "attachments": {},
   "cell_type": "markdown",
   "metadata": {},
   "source": [
    "在服务器端，aiohttp 可以用于创建异步的 HTTP 服务器，可以处理大量并发连接，这对于实时应用、游戏服务器、聊天服务器等场景非常适合。\n",
    "\n",
    "例如，你可以这样创建一个简单的 HTTP 服务器："
   ]
  },
  {
   "cell_type": "code",
   "execution_count": null,
   "metadata": {},
   "outputs": [],
   "source": [
    "from aiohttp import web\n",
    "\n",
    "async def handle(request):\n",
    "    return web.Response(text=\"Hello, world\")\n",
    "\n",
    "app = web.Application()\n",
    "app.add_routes([web.get('/', handle)])\n",
    "\n",
    "web.run_app(app)\n",
    "\n",
    "# 这将创建一个 HTTP 服务器，对于所有到 \"/\" 的 GET 请求，它都会回复 \"Hello, world\"。"
   ]
  },
  {
   "attachments": {},
   "cell_type": "markdown",
   "metadata": {},
   "source": []
  }
 ],
 "metadata": {
  "kernelspec": {
   "display_name": "base",
   "language": "python",
   "name": "python3"
  },
  "language_info": {
   "codemirror_mode": {
    "name": "ipython",
    "version": 3
   },
   "file_extension": ".py",
   "mimetype": "text/x-python",
   "name": "python",
   "nbconvert_exporter": "python",
   "pygments_lexer": "ipython3",
   "version": "3.10.9"
  },
  "orig_nbformat": 4
 },
 "nbformat": 4,
 "nbformat_minor": 2
}
