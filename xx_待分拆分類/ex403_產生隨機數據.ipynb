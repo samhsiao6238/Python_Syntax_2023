{
 "cells": [
  {
   "cell_type": "code",
   "execution_count": 5,
   "metadata": {},
   "outputs": [
    {
     "name": "stdout",
     "output_type": "stream",
     "text": [
      "Collecting pyreadstat\n",
      "  Downloading pyreadstat-1.2.2-cp310-cp310-macosx_10_9_x86_64.whl (595 kB)\n",
      "\u001b[2K     \u001b[90m━━━━━━━━━━━━━━━━━━━━━━━━━━━━━━━━━━━━━━━\u001b[0m \u001b[32m595.0/595.0 kB\u001b[0m \u001b[31m2.4 MB/s\u001b[0m eta \u001b[36m0:00:00\u001b[0m00:01\u001b[0m00:01\u001b[0m\n",
      "\u001b[?25hRequirement already satisfied: pandas>=1.2.0 in /Users/samhsiao/anaconda3/lib/python3.10/site-packages (from pyreadstat) (1.5.3)\n",
      "Requirement already satisfied: python-dateutil>=2.8.1 in /Users/samhsiao/anaconda3/lib/python3.10/site-packages (from pandas>=1.2.0->pyreadstat) (2.8.2)\n",
      "Requirement already satisfied: pytz>=2020.1 in /Users/samhsiao/anaconda3/lib/python3.10/site-packages (from pandas>=1.2.0->pyreadstat) (2022.7)\n",
      "Requirement already satisfied: numpy>=1.21.0 in /Users/samhsiao/anaconda3/lib/python3.10/site-packages (from pandas>=1.2.0->pyreadstat) (1.24.3)\n",
      "Requirement already satisfied: six>=1.5 in /Users/samhsiao/anaconda3/lib/python3.10/site-packages (from python-dateutil>=2.8.1->pandas>=1.2.0->pyreadstat) (1.16.0)\n",
      "Installing collected packages: pyreadstat\n",
      "Successfully installed pyreadstat-1.2.2\n"
     ]
    }
   ],
   "source": [
    "!pip install pyreadstat\n"
   ]
  },
  {
   "cell_type": "code",
   "execution_count": 6,
   "metadata": {},
   "outputs": [],
   "source": [
    "import pandas as pd\n",
    "import numpy as np\n",
    "import pyreadstat\n",
    "\n",
    "# Set seed for reproducibility\n",
    "np.random.seed(0)\n",
    "\n",
    "# Create a dataframe\n",
    "df = pd.DataFrame()\n",
    "\n",
    "# Create 500 students (repeat 3 times for 3 measurements)\n",
    "df['subject'] = list(range(1, 501))*3\n",
    "\n",
    "# Sort dataframe by 'subject'\n",
    "df.sort_values('subject', inplace=True)\n",
    "\n",
    "# Gender, equally split, and repeat 3 times\n",
    "df['gender'] = ['Male', 'Female']*750\n",
    "np.random.shuffle(df['gender'].values)\n",
    "\n",
    "# Schtype, randomly choose\n",
    "df['schtype'] = np.random.choice(['Private', 'Public'], 1500)\n",
    "\n",
    "# Time, repeat [1, 2, 3] for 500 times\n",
    "df['time'] = [1, 2, 3]*500\n",
    "\n",
    "# Mathgrades, random float between 70 and 100\n",
    "df['mathgrades'] = np.random.uniform(70, 100, 1500)\n",
    "\n",
    "# Sciencegrades, random float between 70 and 100\n",
    "df['sciencegrades'] = np.random.uniform(70, 100, 1500)\n",
    "\n",
    "# Mathhab, random float between 4 and 7\n",
    "df['mathhab'] = np.random.uniform(4, 7, 1500)\n",
    "\n",
    "# Scienceab, random float between 4 and 7\n",
    "df['scienceab'] = np.random.uniform(4, 7, 1500)\n",
    "\n",
    "# Save dataframe to a .sav file\n",
    "pyreadstat.write_sav(df, \"output.sav\")\n"
   ]
  }
 ],
 "metadata": {
  "kernelspec": {
   "display_name": "base",
   "language": "python",
   "name": "python3"
  },
  "language_info": {
   "codemirror_mode": {
    "name": "ipython",
    "version": 3
   },
   "file_extension": ".py",
   "mimetype": "text/x-python",
   "name": "python",
   "nbconvert_exporter": "python",
   "pygments_lexer": "ipython3",
   "version": "3.10.9"
  },
  "orig_nbformat": 4
 },
 "nbformat": 4,
 "nbformat_minor": 2
}
