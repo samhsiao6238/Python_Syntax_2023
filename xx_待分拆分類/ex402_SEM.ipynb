{
 "cells": [
  {
   "attachments": {},
   "cell_type": "markdown",
   "metadata": {},
   "source": [
    "### 安裝套件\n",
    ">pip install semopy\n",
    "\n",
    ">conda install scikit-learn"
   ]
  },
  {
   "attachments": {},
   "cell_type": "markdown",
   "metadata": {},
   "source": [
    "在這個範例中，我們使用一個簡單的SEM模型，該模型包含了三個潛在變量（eta1, eta2, eta3）和九個觀察變量（y1至y9）。我們使用semopy的Model類來實例化並配適我們的模型，然後使用fit方法來進行估計。\n",
    "\n",
    "請注意，此範例僅供參考，您可能需要根據您的數據和分析需求來調整SEM模型規格。\n",
    "\n",
    "在model_spec中定義模型時，必須保證您的變數名稱與您的數據集中的變數名稱一致。=~用於指定因子模型，~用於指定迴歸關係，~~用於指定變數之間的共變異數。\n",
    "\n",
    "另外，對於大型複雜模型，可能需要在調用fit方法時指定一些參數，如估計方法、收斂標準、最大迭代次數等，請參考semopy的相關文檔進行設置。"
   ]
  },
  {
   "cell_type": "code",
   "execution_count": 12,
   "metadata": {},
   "outputs": [],
   "source": [
    "import pandas as pd\n",
    "import pyreadstat"
   ]
  },
  {
   "attachments": {},
   "cell_type": "markdown",
   "metadata": {},
   "source": [
    "### 三個潛在變量\n",
    ">（eta1, eta2, eta3)\n",
    "### 九個觀察變量\n",
    ">（y1至y9）"
   ]
  },
  {
   "cell_type": "code",
   "execution_count": 15,
   "metadata": {},
   "outputs": [],
   "source": [
    "# 讀取.sav文件\n",
    "df, meta = pyreadstat.read_sav('V04_for_Modeler.sav')\n",
    "\n",
    "# 定義模型\n",
    "model_spec = \"\"\"\n",
    "    # CFA specification\n",
    "    PE =~ PE1 + PE2 + PE3\n",
    "    EE =~ EE1 + EE2 + EE3 + EE4\n",
    "    SI =~ SI1 + SI2 + SI3\n",
    "    FC =~ FC1 + FC2 + FC3\n",
    "    HM =~ HM1 + HM2 + HM3\n",
    "    HB =~ HB1 + HB2 + HB3\n",
    "    PV =~ PV1 + PV2 + PV3\n",
    "    BI =~ BI1 + BI2 + BI3\n",
    "\n",
    "\n",
    "    # regression\n",
    "    BI ~ PE + EE + SI + FC + HM + HB + PV\n",
    "\n",
    "    # covariance\n",
    "    PE ~~ EE\n",
    "    PE ~~ SI\n",
    "    PE ~~ FC\n",
    "    PE ~~ HM\n",
    "\"\"\"\n",
    "\n",
    "\n"
   ]
  },
  {
   "cell_type": "code",
   "execution_count": 16,
   "metadata": {},
   "outputs": [
    {
     "name": "stdout",
     "output_type": "stream",
     "text": [
      "Intel MKL WARNING: Support of Intel(R) Streaming SIMD Extensions 4.2 (Intel(R) SSE4.2) enabled only processors has been deprecated. Intel oneAPI Math Kernel Library 2025.0 will require Intel(R) Advanced Vector Extensions (Intel(R) AVX) instructions.\n",
      "Intel MKL WARNING: Support of Intel(R) Streaming SIMD Extensions 4.2 (Intel(R) SSE4.2) enabled only processors has been deprecated. Intel oneAPI Math Kernel Library 2025.0 will require Intel(R) Advanced Vector Extensions (Intel(R) AVX) instructions.\n",
      "Intel MKL WARNING: Support of Intel(R) Streaming SIMD Extensions 4.2 (Intel(R) SSE4.2) enabled only processors has been deprecated. Intel oneAPI Math Kernel Library 2025.0 will require Intel(R) Advanced Vector Extensions (Intel(R) AVX) instructions.\n",
      "Intel MKL WARNING: Support of Intel(R) Streaming SIMD Extensions 4.2 (Intel(R) SSE4.2) enabled only processors has been deprecated. Intel oneAPI Math Kernel Library 2025.0 will require Intel(R) Advanced Vector Extensions (Intel(R) AVX) instructions.\n",
      "Intel MKL WARNING: Support of Intel(R) Streaming SIMD Extensions 4.2 (Intel(R) SSE4.2) enabled only processors has been deprecated. Intel oneAPI Math Kernel Library 2025.0 will require Intel(R) Advanced Vector Extensions (Intel(R) AVX) instructions.\n",
      "Intel MKL WARNING: Support of Intel(R) Streaming SIMD Extensions 4.2 (Intel(R) SSE4.2) enabled only processors has been deprecated. Intel oneAPI Math Kernel Library 2025.0 will require Intel(R) Advanced Vector Extensions (Intel(R) AVX) instructions.\n",
      "Intel MKL WARNING: Support of Intel(R) Streaming SIMD Extensions 4.2 (Intel(R) SSE4.2) enabled only processors has been deprecated. Intel oneAPI Math Kernel Library 2025.0 will require Intel(R) Advanced Vector Extensions (Intel(R) AVX) instructions.\n",
      "Intel MKL WARNING: Support of Intel(R) Streaming SIMD Extensions 4.2 (Intel(R) SSE4.2) enabled only processors has been deprecated. Intel oneAPI Math Kernel Library 2025.0 will require Intel(R) Advanced Vector Extensions (Intel(R) AVX) instructions.\n",
      "Intel MKL WARNING: Support of Intel(R) Streaming SIMD Extensions 4.2 (Intel(R) SSE4.2) enabled only processors has been deprecated. Intel oneAPI Math Kernel Library 2025.0 will require Intel(R) Advanced Vector Extensions (Intel(R) AVX) instructions.\n",
      "Intel MKL WARNING: Support of Intel(R) Streaming SIMD Extensions 4.2 (Intel(R) SSE4.2) enabled only processors has been deprecated. Intel oneAPI Math Kernel Library 2025.0 will require Intel(R) Advanced Vector Extensions (Intel(R) AVX) instructions.\n",
      "Intel MKL WARNING: Support of Intel(R) Streaming SIMD Extensions 4.2 (Intel(R) SSE4.2) enabled only processors has been deprecated. Intel oneAPI Math Kernel Library 2025.0 will require Intel(R) Advanced Vector Extensions (Intel(R) AVX) instructions.\n",
      "Intel MKL WARNING: Support of Intel(R) Streaming SIMD Extensions 4.2 (Intel(R) SSE4.2) enabled only processors has been deprecated. Intel oneAPI Math Kernel Library 2025.0 will require Intel(R) Advanced Vector Extensions (Intel(R) AVX) instructions.\n",
      "Intel MKL WARNING: Support of Intel(R) Streaming SIMD Extensions 4.2 (Intel(R) SSE4.2) enabled only processors has been deprecated. Intel oneAPI Math Kernel Library 2025.0 will require Intel(R) Advanced Vector Extensions (Intel(R) AVX) instructions.\n",
      "Intel MKL WARNING: Support of Intel(R) Streaming SIMD Extensions 4.2 (Intel(R) SSE4.2) enabled only processors has been deprecated. Intel oneAPI Math Kernel Library 2025.0 will require Intel(R) Advanced Vector Extensions (Intel(R) AVX) instructions.\n",
      "Intel MKL WARNING: Support of Intel(R) Streaming SIMD Extensions 4.2 (Intel(R) SSE4.2) enabled only processors has been deprecated. Intel oneAPI Math Kernel Library 2025.0 will require Intel(R) Advanced Vector Extensions (Intel(R) AVX) instructions.\n",
      "Intel MKL WARNING: Support of Intel(R) Streaming SIMD Extensions 4.2 (Intel(R) SSE4.2) enabled only processors has been deprecated. Intel oneAPI Math Kernel Library 2025.0 will require Intel(R) Advanced Vector Extensions (Intel(R) AVX) instructions.\n",
      "Intel MKL WARNING: Support of Intel(R) Streaming SIMD Extensions 4.2 (Intel(R) SSE4.2) enabled only processors has been deprecated. Intel oneAPI Math Kernel Library 2025.0 will require Intel(R) Advanced Vector Extensions (Intel(R) AVX) instructions.\n",
      "Intel MKL WARNING: Support of Intel(R) Streaming SIMD Extensions 4.2 (Intel(R) SSE4.2) enabled only processors has been deprecated. Intel oneAPI Math Kernel Library 2025.0 will require Intel(R) Advanced Vector Extensions (Intel(R) AVX) instructions.\n",
      "Intel MKL WARNING: Support of Intel(R) Streaming SIMD Extensions 4.2 (Intel(R) SSE4.2) enabled only processors has been deprecated. Intel oneAPI Math Kernel Library 2025.0 will require Intel(R) Advanced Vector Extensions (Intel(R) AVX) instructions.\n",
      "Intel MKL WARNING: Support of Intel(R) Streaming SIMD Extensions 4.2 (Intel(R) SSE4.2) enabled only processors has been deprecated. Intel oneAPI Math Kernel Library 2025.0 will require Intel(R) Advanced Vector Extensions (Intel(R) AVX) instructions.\n",
      "   lval  op rval  Estimate  Std. Err    z-value   p-value\n",
      "0    BI   ~   PE  0.209061   0.05621    3.71932    0.0002\n",
      "1    BI   ~   EE  0.127265   0.08002   1.590409  0.111743\n",
      "2    BI   ~   SI  0.039893  0.053404   0.747009  0.455058\n",
      "3    BI   ~   FC -0.071262   0.05165  -1.379723  0.167672\n",
      "4    BI   ~   HM  0.276423  0.098657   2.801854  0.005081\n",
      "..  ...  ..  ...       ...       ...        ...       ...\n",
      "81  HM2  ~~  HM2  0.503788  0.085102   5.919838       0.0\n",
      "82  FC3  ~~  FC3  1.167537  0.100069  11.667261       0.0\n",
      "83  PV2  ~~  PV2  0.287248  0.038867   7.390439       0.0\n",
      "84  PE2  ~~  PE2  0.433655  0.065869   6.583611       0.0\n",
      "85  HB3  ~~  HB3  2.420577  0.196023  12.348452       0.0\n",
      "\n",
      "[86 rows x 7 columns]\n"
     ]
    }
   ],
   "source": [
    "# 實例化並配適模型\n",
    "from semopy import Model\n",
    "\n",
    "model = Model(model_spec)\n",
    "model.fit(df)\n",
    "\n",
    "# 檢查結果\n",
    "print(model.inspect())"
   ]
  }
 ],
 "metadata": {
  "kernelspec": {
   "display_name": "envStatistics",
   "language": "python",
   "name": "python3"
  },
  "language_info": {
   "codemirror_mode": {
    "name": "ipython",
    "version": 3
   },
   "file_extension": ".py",
   "mimetype": "text/x-python",
   "name": "python",
   "nbconvert_exporter": "python",
   "pygments_lexer": "ipython3",
   "version": "3.11.3"
  },
  "orig_nbformat": 4
 },
 "nbformat": 4,
 "nbformat_minor": 2
}
