{
 "cells": [
  {
   "attachments": {},
   "cell_type": "markdown",
   "metadata": {},
   "source": [
    "# yield 基本說明\n",
    "\n",
    "1. 在Python中，yield 是一個關鍵字，主要用於定義生成器（generator）。\n",
    "   \n",
    "2. 生成器是一種特殊類型的迭代器，它不需要明確定義一個迭代器類並實現 __iter__() 和 __next__() 方法。\n",
    "\n",
    "3. yield 關鍵字在一個函數中表示此函數將成為一個生成器。當一個包含 yield 的函數被調用時，它將返回一個生成器對象，而不是直接執行函數內部的代碼。"
   ]
  },
  {
   "cell_type": "code",
   "execution_count": 2,
   "metadata": {},
   "outputs": [
    {
     "name": "stdout",
     "output_type": "stream",
     "text": [
      "1\n",
      "2\n",
      "3\n"
     ]
    }
   ],
   "source": [
    "# 建立一個產生器函式\n",
    "def my_generator():\n",
    "    yield 1\n",
    "    yield 2\n",
    "    yield 3\n",
    "\n",
    "# 建立一個產生器物件\n",
    "generator = my_generator()\n",
    "\n",
    "# 使用 next() 函式取得下一個值\n",
    "print(next(generator))  # Output: 1\n",
    "print(next(generator))  # Output: 2\n",
    "print(next(generator))  # Output: 3"
   ]
  },
  {
   "attachments": {},
   "cell_type": "markdown",
   "metadata": {},
   "source": [
    "# 生成器狀態會被保存\n",
    "\n",
    "每次調用 next() 函數或在 for 循環中使用此生成器時，生成器將產生 yield 關鍵字後面的值。在每次產生一個值後，生成器的狀態會被保存下來，並在下次需要產生值時從上次停下的地方繼續執行。"
   ]
  },
  {
   "attachments": {},
   "cell_type": "markdown",
   "metadata": {},
   "source": [
    "# StopIteration\n",
    "\n",
    "當所有的 yield 都被執行過後，如果再次調用 next()，將會引發一個 StopIteration 異常，表示生成器\n",
    "中已經沒有更多的值可以產生。"
   ]
  },
  {
   "attachments": {},
   "cell_type": "markdown",
   "metadata": {},
   "source": [
    "# 優點\n",
    "\n",
    "使用生成器的優點之一是它們可以產生大型數據集或無窮數列，而不需要在記憶體中存儲所有的值。此外，生成器還可以表示異步操作，與 Python 的 asyncio 模組配合使用，可以用於實現協同程序（coroutine）。"
   ]
  },
  {
   "cell_type": "code",
   "execution_count": 7,
   "metadata": {},
   "outputs": [
    {
     "name": "stdout",
     "output_type": "stream",
     "text": [
      "1\n",
      "2\n",
      "3\n",
      "4\n",
      "5\n",
      "1\n",
      "2\n",
      "3\n",
      "4\n",
      "5\n"
     ]
    }
   ],
   "source": [
    "# 使用 yield\n",
    "def count_up_to(n):\n",
    "    count = 1\n",
    "    while count <= n:\n",
    "        global _no_yield\n",
    "        yield count\n",
    "        count += 1\n",
    "\n",
    "for number in count_up_to(5):\n",
    "    print(number)\n",
    "\n",
    "print('------------------')\n",
    "\n",
    "# 不使用 yield\n",
    "def count_up_to(n):\n",
    "    numbers = []\n",
    "    count = 1\n",
    "    while count <= n:\n",
    "        numbers.append(count)\n",
    "        count += 1\n",
    "    return numbers\n",
    "\n",
    "for number in count_up_to(5):\n",
    "    print(number)\n"
   ]
  }
 ],
 "metadata": {
  "kernelspec": {
   "display_name": "base",
   "language": "python",
   "name": "python3"
  },
  "language_info": {
   "codemirror_mode": {
    "name": "ipython",
    "version": 3
   },
   "file_extension": ".py",
   "mimetype": "text/x-python",
   "name": "python",
   "nbconvert_exporter": "python",
   "pygments_lexer": "ipython3",
   "version": "3.10.9"
  },
  "orig_nbformat": 4
 },
 "nbformat": 4,
 "nbformat_minor": 2
}
