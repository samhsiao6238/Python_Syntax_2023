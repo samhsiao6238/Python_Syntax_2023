{
 "cells": [
  {
   "attachments": {},
   "cell_type": "markdown",
   "metadata": {},
   "source": [
    "# 切片"
   ]
  },
  {
   "attachments": {},
   "cell_type": "markdown",
   "metadata": {},
   "source": [
    ">- 將針對切片做說明。\n",
    "\n",
    ">- 非序列類型的容器無切片操作。"
   ]
  },
  {
   "attachments": {},
   "cell_type": "markdown",
   "metadata": {},
   "source": [
    "## 內建類型的切片"
   ]
  },
  {
   "attachments": {},
   "cell_type": "markdown",
   "metadata": {},
   "source": [
    ">- list\n",
    "\n",
    ">- tuple\n",
    "\n",
    ">- str\n",
    "\n",
    ">- bytes\n",
    "\n",
    ">- bytearray\n",
    "\n",
    ">- memoryview\n",
    "\n",
    ">- array.array\n",
    "\n",
    ">- range"
   ]
  },
  {
   "attachments": {},
   "cell_type": "markdown",
   "metadata": {},
   "source": [
    "## 自定義類型的切片"
   ]
  },
  {
   "attachments": {},
   "cell_type": "markdown",
   "metadata": {},
   "source": [
    ">- 自定義類型實作了 \\_\\_getitem\\_\\_() 和 \\_\\_setitem\\_\\_() 方法。\n",
    "\n",
    ">- 實作 Python 的序列或迭代器協議的物件。"
   ]
  },
  {
   "attachments": {},
   "cell_type": "markdown",
   "metadata": {},
   "source": [
    "### 自定義類別說明"
   ]
  },
  {
   "attachments": {},
   "cell_type": "markdown",
   "metadata": {},
   "source": [
    ">- __getitem__ 是用於讀取和切片，而 __setitem__ 是用於賦值，這兩者可以獨立存在。\n",
    "\n",
    ">- 當嘗試對自定義類的物件進行索引或切片操作時，Python 會嘗試調用物件的 __getitem__ 方法。如果該類沒有實作 __getitem__ 方法，Python 就會引發 TypeError。\n",
    "\n",
    ">- 若該類有屬性如 data 承接了初始化時建立的可迭代物件，雖然實體可透過屬性進行切片操作，但這並不是對物件進行切片，而是對物件的屬性進行切片。\n",
    "\n",
    ">- __setitem__ 方法並不是為了讓自定義類型支援切片操作，而是為了能夠使用索引或鍵來設定物件的值"
   ]
  },
  {
   "attachments": {},
   "cell_type": "markdown",
   "metadata": {},
   "source": [
    "### 自定義類別範例"
   ]
  },
  {
   "cell_type": "code",
   "execution_count": 34,
   "metadata": {},
   "outputs": [
    {
     "name": "stdout",
     "output_type": "stream",
     "text": [
      "[1, 3, 5, 7, 9, 11, 13, 15, 17, 19]\n",
      "9\n",
      "[5, 7, 9, 11]\n",
      "100\n",
      "[1, 3, 5, 100, 9, 11, 13, 15, 17, 19]\n"
     ]
    }
   ],
   "source": [
    "# 自定義類\n",
    "class MySequence:\n",
    "    # 初始化函式，設定起始值、結束值、間隔值\n",
    "    def __init__(self, start=0, end=100, step=1):\n",
    "        self.start = start\n",
    "        self.end = end\n",
    "        self.step = step\n",
    "        # 建立一個空字典，用來儲存索引值與元素值的對應關係\n",
    "        self.data = {}\n",
    "\n",
    "    def __getitem__(self, index):\n",
    "        # 在 getitem() 方法中，要檢查 index 是否為 slice 物件\n",
    "        if isinstance(index, slice):\n",
    "            # 並透過 indices() 方法取得索引值的起始、結束、間隔值\n",
    "            start, stop, step = index.indices(self.end)\n",
    "            # 傳出一個 list，包含所有索引值對應的元素值\n",
    "            return [self.data.get(i, self.start + self.step * i) for i in range(start, stop, step)]\n",
    "        else:\n",
    "            # 若 index 超過 end，則拋出 IndexError\n",
    "            if index >= self.end:\n",
    "                raise IndexError(\"index out of range\")\n",
    "            else:\n",
    "                # 若 index 未超過 end，則回傳索引值對應的元素值\n",
    "                return self.data.get(index, self.start + self.step * index)\n",
    "\n",
    "    def __setitem__(self, index, value):\n",
    "        if index >= self.end:\n",
    "            raise IndexError(\"index out of range\")\n",
    "        self.data[index] = value\n",
    "\n",
    "# 查看 MySequence 實體的操作結果\n",
    "# 設定起始值為 1，結束值為 10，間隔值為 2\n",
    "seq = MySequence(1, 10, 2)\n",
    "print(seq[:])       # 輸出：[1, 3, 5, 7, 9]\n",
    "print(seq[4])       # 輸出：9\n",
    "print(seq[2:6])     # 輸出：[5, 7, 9, 11]\n",
    "seq[3] = 100        # 設定索引值 3 的元素值為 100\n",
    "print(seq[3])       # 輸出：100\n",
    "print(seq[:])       # 輸出：[1, 3, 5, 100, 9, 11, 13, 15, 17, 19]"
   ]
  },
  {
   "attachments": {},
   "cell_type": "markdown",
   "metadata": {},
   "source": [
    "### 沒有實作 __getitem__ 跟 __setitem__\n",
    "\n",
    ">- 如果沒有實作 __getitem__ 和 __setitem__，那麼該類別的物件將無法進行切片操作。\n",
    "\n",
    ">- 對於 Python 內置的數據結構，如 list、tuple 和 str 等都內建實作了 __getitem__ 和 __setitem__ 方法，所以支援切片操作。"
   ]
  },
  {
   "cell_type": "code",
   "execution_count": 29,
   "metadata": {},
   "outputs": [
    {
     "name": "stdout",
     "output_type": "stream",
     "text": [
      "[4, 9, 16, 25, 36, 49, 64, 81]\n",
      "[0, 1, 4, 9, 16, 25, 36, 49, 64, 81]\n",
      "[0, 1, 100, 9, 16, 25, 36, 49, 64, 81]\n"
     ]
    }
   ],
   "source": [
    "class MyClass:\n",
    "    def __init__(self):\n",
    "        self.data = [i**2 for i in range(10)]\n",
    "\n",
    "# 建立一個 MyClass 的物件\n",
    "obj = MyClass()\n",
    "print(obj.data[2:])\n",
    "print(obj.data[:]) \n",
    "obj.data[2] = 999\n",
    "print(obj.data[:])"
   ]
  },
  {
   "attachments": {},
   "cell_type": "markdown",
   "metadata": {},
   "source": [
    "### 有實作 __getitem__ 跟 __setitem__"
   ]
  },
  {
   "cell_type": "code",
   "execution_count": 32,
   "metadata": {},
   "outputs": [
    {
     "name": "stdout",
     "output_type": "stream",
     "text": [
      "[4, 9, 16, 25, 36, 49, 64, 81]\n",
      "[0, 1, 4, 9, 16, 25, 36, 49, 64, 81]\n",
      "[0, 1, 999, 9, 16, 25, 36, 49, 64, 81]\n"
     ]
    }
   ],
   "source": [
    "class MyClass:\n",
    "    def __init__(self):\n",
    "        self.data = [i**2 for i in range(10)]\n",
    "    def __getitem__(self, index):\n",
    "        return self.data[index] \n",
    "    def __setitem__(self, index, value):\n",
    "        self.data[index] = value\n",
    "\n",
    "# 建立一個 MyClass 的物件\n",
    "obj = MyClass()\n",
    "print(obj[2:]) \n",
    "print(obj[:])\n",
    "obj[2] = 999\n",
    "print(obj[:])"
   ]
  },
  {
   "attachments": {},
   "cell_type": "markdown",
   "metadata": {},
   "source": [
    "---END---"
   ]
  }
 ],
 "metadata": {
  "kernelspec": {
   "display_name": "base",
   "language": "python",
   "name": "python3"
  },
  "language_info": {
   "codemirror_mode": {
    "name": "ipython",
    "version": 3
   },
   "file_extension": ".py",
   "mimetype": "text/x-python",
   "name": "python",
   "nbconvert_exporter": "python",
   "pygments_lexer": "ipython3",
   "version": "3.10.11"
  },
  "orig_nbformat": 4
 },
 "nbformat": 4,
 "nbformat_minor": 2
}
