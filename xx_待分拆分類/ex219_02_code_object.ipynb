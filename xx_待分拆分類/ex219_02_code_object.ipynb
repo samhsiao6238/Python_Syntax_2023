{
 "cells": [
  {
   "attachments": {},
   "cell_type": "markdown",
   "metadata": {},
   "source": [
    "# Code Object"
   ]
  },
  {
   "attachments": {},
   "cell_type": "markdown",
   "metadata": {},
   "source": [
    "## Code Object 說明"
   ]
  },
  {
   "attachments": {},
   "cell_type": "markdown",
   "metadata": {},
   "source": [
    "\n",
    ">- code object 可以透過 exec() 或是 eval() 進行執行。\n",
    "\n",
    ">- 正常情況下，開發者不太需要直接與 code object 互動，Python 解釋器會自動處理這個過程，但了解它是如何工作可以更好地理解 Python 的工作原理。\n",
    "\n",
    ">- 在 Python 中，「code object」是一種低階的、可執行的程式碼片段，它由 Python 編譯器產生，並供 Python 虛擬機（Python Virtual Machine, PVM）執行。換句話說，當編寫的 Python 程式碼被解釋器解析和編譯後，就會被轉換成 code object。\n",
    "\n",
    ">- Python 的 code object 包含了許多屬性，包括但不限於：\n",
    "\n",
    ">> 1. co_code: 一個字串，其中包含原始的位元組碼指令。\n",
    "\n",
    ">> 2. co_consts: 包含此函數中用到的常數值的元組。\n",
    "\n",
    ">> 3. co_varnames: 包含此函數中用到的局部變數名稱的元組。\n",
    "\n",
    ">> 4. co_argcount: 此函數的參數個數。\n",
    "\n",
    ">- 可以使用 Python 的內建 compile() 函數將源碼轉換成 code object，然後使用 exec() 或 eval() 函數來執行這個 code object。\n",
    "\n"
   ]
  },
  {
   "attachments": {},
   "cell_type": "markdown",
   "metadata": {},
   "source": [
    "## Code Object 範例"
   ]
  },
  {
   "cell_type": "code",
   "execution_count": 2,
   "metadata": {},
   "outputs": [
    {
     "name": "stdout",
     "output_type": "stream",
     "text": [
      "11\n"
     ]
    }
   ],
   "source": [
    "# 這是一段程式碼表達式，計算 x+y 的值並且輸出\n",
    "code_str = 'x = 5\\ny = 6\\nprint(x+y)'\n",
    "# 透過 compile() 將程式碼表達式轉成 code object\n",
    "code_obj = compile(code_str, '', 'exec')\n",
    "# 透過 exec() 執行 code object\n",
    "# 這個表達式沒有回傳值（None）\n",
    "exec(code_obj)  # 輸出 11"
   ]
  },
  {
   "attachments": {},
   "cell_type": "markdown",
   "metadata": {},
   "source": [
    "---END---"
   ]
  }
 ],
 "metadata": {
  "kernelspec": {
   "display_name": "base",
   "language": "python",
   "name": "python3"
  },
  "language_info": {
   "codemirror_mode": {
    "name": "ipython",
    "version": 3
   },
   "file_extension": ".py",
   "mimetype": "text/x-python",
   "name": "python",
   "nbconvert_exporter": "python",
   "pygments_lexer": "ipython3",
   "version": "3.10.9"
  },
  "orig_nbformat": 4
 },
 "nbformat": 4,
 "nbformat_minor": 2
}
