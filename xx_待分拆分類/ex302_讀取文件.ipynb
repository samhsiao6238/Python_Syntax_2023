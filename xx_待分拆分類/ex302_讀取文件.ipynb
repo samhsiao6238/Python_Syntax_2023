{
 "cells": [
  {
   "attachments": {},
   "cell_type": "markdown",
   "metadata": {},
   "source": [
    "### 上下文管理器（Context Managers）與 with 關鍵字\n",
    "上下文管理器用於管理資源，如文件或網路連接。with 關鍵字可以自動處理資源的清理工作。"
   ]
  },
  {
   "cell_type": "code",
   "execution_count": 2,
   "metadata": {},
   "outputs": [
    {
     "data": {
      "text/plain": [
       "'在日前產業即多次傳聞聯發科將攜手 NVIDIA ，在應用處理器導入 NVIDIA 的圖形 IP ，而在 Computex 2023 ，由 NVIDIA 執行長黃仁勳與聯發科執行長蔡力行共同宣布攜手合作，為聯發科天璣平台導入具備 NVIDIA GPU 與 AI 的小晶片，然而與傳聞不同的是雙方的合作並非為手機、 PC 等消費電子裝置平台，而是在車載平台 Dimensity Auto (天璣 Auto )上。 Dimensity Auto 預計採 3nm 製程，初步將聚焦在車載娛樂與數位座艙，並於 2026 年投產、 2027 年正式推出。\\n\\n聯發科將天璣 Auto 運算平台透過 NVLink-C2C 結合 NVIDIA GPU 與 AI 的小晶片，並與聯發科握有的 5G 、藍牙、 Wi-Fi 與 V2X 通訊技術等整合，並著重節能高效率的表現，同時因應車載應用需求，支援多路攝影機與多路顯示輸出；聯發科預計活用 NVIDIA 的圖形與 AI 技術提供增強的數位座艙與車載娛樂體驗，諸如 AI 助手、駕駛行為輔助、行車視覺化與遊戲及多媒體娛樂。'"
      ]
     },
     "execution_count": 2,
     "metadata": {},
     "output_type": "execute_result"
    }
   ],
   "source": [
    "with open('file.txt', 'r') as f:\n",
    "    content = f.read()\n",
    "content"
   ]
  },
  {
   "cell_type": "code",
   "execution_count": null,
   "metadata": {},
   "outputs": [],
   "source": []
  }
 ],
 "metadata": {
  "kernelspec": {
   "display_name": "base",
   "language": "python",
   "name": "python3"
  },
  "language_info": {
   "codemirror_mode": {
    "name": "ipython",
    "version": 3
   },
   "file_extension": ".py",
   "mimetype": "text/x-python",
   "name": "python",
   "nbconvert_exporter": "python",
   "pygments_lexer": "ipython3",
   "version": "3.10.9"
  },
  "orig_nbformat": 4
 },
 "nbformat": 4,
 "nbformat_minor": 2
}
