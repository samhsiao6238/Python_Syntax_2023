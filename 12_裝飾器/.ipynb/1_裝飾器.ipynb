{
 "cells": [
  {
   "attachments": {},
   "cell_type": "markdown",
   "metadata": {},
   "source": [
    "裝飾器（Decorators）是 Python 中的一個進階功能，可以用來修改或增強函數或類別的行為。裝飾器本身是一種函數，它接受一個函數作為輸入，並返回一個新的函數。在 Python 中，裝飾器用 @ 符號表示。"
   ]
  },
  {
   "cell_type": "code",
   "execution_count": 1,
   "metadata": {},
   "outputs": [
    {
     "name": "stdout",
     "output_type": "stream",
     "text": [
      "發生在函式被呼叫之前的事情\n",
      "Hello!\n",
      "發生在函式被呼叫之後的事情\n"
     ]
    }
   ],
   "source": [
    "# 定義一個裝飾器\n",
    "def my_decorator(func):\n",
    "    # 裝飾器內建的功能\n",
    "    def wrapper():\n",
    "        print(\"發生在函式被呼叫之前的事情\")\n",
    "        # 呼叫原本的函式\n",
    "        func()\n",
    "        print(\"發生在函式被呼叫之後的事情\")\n",
    "    return wrapper\n",
    "\n",
    "# 語法糖\n",
    "@my_decorator\n",
    "def say_hello():\n",
    "    print(\"Hello!\")\n",
    "\n",
    "# 呼叫函式\n",
    "say_hello()\n"
   ]
  },
  {
   "attachments": {},
   "cell_type": "markdown",
   "metadata": {},
   "source": [
    "在這個例子中，my_decorator 是一個裝飾器，它將一個函數 func 作為輸入，並返回一個新的函數 wrapper。這個新的函數會在調用 func 之前和之後打印一些訊息。然後，我們用 @my_decorator 來修飾 say_hello 函數。這樣，每次調用 say_hello 函數時，都會先打印出 \"Something is happening before the function is called.\"，然後打印出 \"Hello!\"，最後再打印出 \"Something is happening after the function is called.\"。\n",
    "\n",
    "裝飾器是一種強大的工具，可以用於各種各樣的應用，如記錄日誌、測試、檢查參數、執行程式碼的計時等等。但是請注意，過度使用裝飾器可能會使程式碼變得難以理解和維護。"
   ]
  },
  {
   "attachments": {},
   "cell_type": "markdown",
   "metadata": {},
   "source": [
    "## 在這個例子中，log 裝飾器記錄了函數名稱以及它的參數。當你調用 add(2, 3) 時，它將輸出一條日誌信息。"
   ]
  },
  {
   "cell_type": "code",
   "execution_count": 6,
   "metadata": {},
   "outputs": [
    {
     "name": "stderr",
     "output_type": "stream",
     "text": [
      "DEBUG:root:Running add with arguments (2, 3) and kwargs {}\n"
     ]
    },
    {
     "name": "stdout",
     "output_type": "stream",
     "text": [
      "5\n"
     ]
    }
   ],
   "source": [
    "# 導入logging模組\n",
    "import logging\n",
    "\n",
    "# 設定logging的基本設定\n",
    "def log(func):\n",
    "    def wrapper(*args, **kwargs):\n",
    "        logging.debug(f'Running {func.__name__} with arguments {args} and kwargs {kwargs}')\n",
    "        return func(*args, **kwargs)\n",
    "    return wrapper\n",
    "\n",
    "# 語法糖\n",
    "@log\n",
    "def add(x, y):\n",
    "    return x + y\n",
    "\n",
    "# 呼叫函式，設定logging的等級，只會印出DEBUG等級的訊息\n",
    "logging.basicConfig(level=logging.DEBUG)\n",
    "\n",
    "# 印出結果\n",
    "print(add(2, 3))\n"
   ]
  },
  {
   "attachments": {},
   "cell_type": "markdown",
   "metadata": {},
   "source": [
    "## 檢查參數類型：我們可以創建一個裝飾器來檢查函數參數的類型"
   ]
  },
  {
   "attachments": {},
   "cell_type": "markdown",
   "metadata": {},
   "source": [
    "這段程式會在調用 add('hello', 3) 時引發 ValueError 錯誤。原因是你使用了 @check_types((int, int)) 裝飾器要求 add 函數的兩個參數必須都是 int 類型。當你傳入一個字串 'hello' 和一個整數 3 給 add 函數時，裝飾器的 check_types 函數會檢查每個參數的類型。因為 'hello' 不是 int 類型，所以會觸發 ValueError 錯誤。\n",
    "\n",
    "這就是裝飾器的威力所在：它可以在函數被調用之前或之後插入自定義的邏輯，如檢查參數的類型，而不需要修改函數本身的程式碼。"
   ]
  },
  {
   "cell_type": "code",
   "execution_count": 7,
   "metadata": {},
   "outputs": [
    {
     "name": "stdout",
     "output_type": "stream",
     "text": [
      "5\n"
     ]
    },
    {
     "ename": "ValueError",
     "evalue": "Argument hello is not of <class 'int'>",
     "output_type": "error",
     "traceback": [
      "\u001b[1;31m---------------------------------------------------------------------------\u001b[0m",
      "\u001b[1;31mValueError\u001b[0m                                Traceback (most recent call last)",
      "Cell \u001b[1;32mIn[7], line 16\u001b[0m\n\u001b[0;32m     13\u001b[0m     \u001b[39mreturn\u001b[39;00m x \u001b[39m+\u001b[39m y\n\u001b[0;32m     15\u001b[0m \u001b[39mprint\u001b[39m(add(\u001b[39m2\u001b[39m, \u001b[39m3\u001b[39m))  \u001b[39m# this is fine\u001b[39;00m\n\u001b[1;32m---> 16\u001b[0m \u001b[39mprint\u001b[39m(add(\u001b[39m'\u001b[39;49m\u001b[39mhello\u001b[39;49m\u001b[39m'\u001b[39;49m, \u001b[39m3\u001b[39;49m))  \u001b[39m# this will raise an error\u001b[39;00m\n",
      "Cell \u001b[1;32mIn[7], line 6\u001b[0m, in \u001b[0;36mcheck_types.<locals>.decorator.<locals>.wrapper\u001b[1;34m(*args)\u001b[0m\n\u001b[0;32m      4\u001b[0m \u001b[39mfor\u001b[39;00m arg, t \u001b[39min\u001b[39;00m \u001b[39mzip\u001b[39m(args, types):\n\u001b[0;32m      5\u001b[0m     \u001b[39mif\u001b[39;00m \u001b[39mnot\u001b[39;00m \u001b[39misinstance\u001b[39m(arg, t):\n\u001b[1;32m----> 6\u001b[0m         \u001b[39mraise\u001b[39;00m \u001b[39mValueError\u001b[39;00m(\u001b[39mf\u001b[39m\u001b[39m'\u001b[39m\u001b[39mArgument \u001b[39m\u001b[39m{\u001b[39;00marg\u001b[39m}\u001b[39;00m\u001b[39m is not of \u001b[39m\u001b[39m{\u001b[39;00mt\u001b[39m}\u001b[39;00m\u001b[39m'\u001b[39m)\n\u001b[0;32m      7\u001b[0m \u001b[39mreturn\u001b[39;00m func(\u001b[39m*\u001b[39margs)\n",
      "\u001b[1;31mValueError\u001b[0m: Argument hello is not of <class 'int'>"
     ]
    }
   ],
   "source": [
    "def check_types(types):\n",
    "    def decorator(func):\n",
    "        def wrapper(*args):\n",
    "            for arg, t in zip(args, types):\n",
    "                if not isinstance(arg, t):\n",
    "                    raise ValueError(f'Argument {arg} is not of {t}')\n",
    "            return func(*args)\n",
    "        return wrapper\n",
    "    return decorator\n",
    "\n",
    "@check_types((int, int))\n",
    "def add(x, y):\n",
    "    return x + y\n",
    "\n",
    "print(add(2, 3))  # this is fine\n",
    "print(add('hello', 3))  # this will raise an error\n"
   ]
  },
  {
   "attachments": {},
   "cell_type": "markdown",
   "metadata": {},
   "source": [
    "計時：我們可以創建一個裝飾器來測量函數執行的時間。"
   ]
  },
  {
   "cell_type": "code",
   "execution_count": 8,
   "metadata": {},
   "outputs": [
    {
     "name": "stdout",
     "output_type": "stream",
     "text": [
      "Function sleep took 2.015591859817505 seconds to run.\n"
     ]
    }
   ],
   "source": [
    "import time\n",
    "\n",
    "def timer(func):\n",
    "    def wrapper(*args, **kwargs):\n",
    "        start_time = time.time()\n",
    "        result = func(*args, **kwargs)\n",
    "        end_time = time.time()\n",
    "        print(f'Function {func.__name__} took {end_time - start_time} seconds to run.')\n",
    "        return result\n",
    "    return wrapper\n",
    "\n",
    "@timer\n",
    "def sleep(n):\n",
    "    time.sleep(n)\n",
    "\n",
    "sleep(2)\n"
   ]
  }
 ],
 "metadata": {
  "kernelspec": {
   "display_name": "base",
   "language": "python",
   "name": "python3"
  },
  "language_info": {
   "codemirror_mode": {
    "name": "ipython",
    "version": 3
   },
   "file_extension": ".py",
   "mimetype": "text/x-python",
   "name": "python",
   "nbconvert_exporter": "python",
   "pygments_lexer": "ipython3",
   "version": "3.10.9"
  },
  "orig_nbformat": 4
 },
 "nbformat": 4,
 "nbformat_minor": 2
}
