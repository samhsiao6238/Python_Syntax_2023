{
 "cells": [
  {
   "cell_type": "markdown",
   "metadata": {},
   "source": [
    "使用裝飾器達到單例的目的"
   ]
  },
  {
   "cell_type": "markdown",
   "metadata": {},
   "source": [
    "加了裝飾器之後， MyClass 實際上是指向了 singleton 函數"
   ]
  },
  {
   "cell_type": "code",
   "execution_count": 8,
   "metadata": {},
   "outputs": [
    {
     "name": "stdout",
     "output_type": "stream",
     "text": [
      "--- 調用 MyClass ---\n",
      "--- 調用 singleton ---\n",
      "--- 調用 __init__ ---\n",
      "===============\n",
      "True\n",
      "湯姆\n",
      "湯姆\n"
     ]
    }
   ],
   "source": [
    "def singleton(class_):\n",
    "    print('--- 調用 singleton ---')\n",
    "    instances = {}\n",
    "    def get_instance(*args, **kwargs):\n",
    "        if class_ not in instances:\n",
    "            instances[class_] = class_(*args, **kwargs)\n",
    "        return instances[class_]\n",
    "    return get_instance\n",
    "\n",
    "@singleton\n",
    "class MyClass():\n",
    "    print('--- 調用 MyClass ---')\n",
    "    def __init__(self, name):\n",
    "        print('--- 調用 __init__ ---')\n",
    "        self.name = name\n",
    "    \n",
    "\n",
    "obj1 = MyClass('湯姆')\n",
    "print('===============')\n",
    "obj2 = MyClass('漢克')\n",
    "print(obj1 is obj2)  # True\n",
    "print(obj1.name)\n",
    "print(obj2.name)\n"
   ]
  }
 ],
 "metadata": {
  "kernelspec": {
   "display_name": ".venv",
   "language": "python",
   "name": "python3"
  },
  "language_info": {
   "codemirror_mode": {
    "name": "ipython",
    "version": 3
   },
   "file_extension": ".py",
   "mimetype": "text/x-python",
   "name": "python",
   "nbconvert_exporter": "python",
   "pygments_lexer": "ipython3",
   "version": "3.9.6"
  }
 },
 "nbformat": 4,
 "nbformat_minor": 2
}
