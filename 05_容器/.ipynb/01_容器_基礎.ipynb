{
 "cells": [
  {
   "attachments": {},
   "cell_type": "markdown",
   "metadata": {},
   "source": [
    "# 容器\n",
    "（常用的為前五項）\n",
    "\n",
    "1. 列表（List）\n",
    "\n",
    "2. 元組（Tuple）\n",
    "\n",
    "3. 字典（Dictionary）\n",
    "\n",
    "4. 集合（Set）\n",
    "\n",
    "5. 字串（String）\n",
    "\n",
    "### 6. 陣列（Array）\n",
    "   >Python 的內置陣列模組可以用來創建密集的數值陣列。\n",
    "   >陣列與列表類似，但所有的元素都必須是同一類型。\n",
    "\n",
    "### 7. 雙端隊列（Deque）\n",
    "\n",
    "   >collections 模組中的 deque 類型是一種雙端隊列，它支持在兩端快速地添加和刪除元素。\n",
    "\n",
    "\n",
    "### 8. 堆（Heap）\n",
    "   \n",
    "   >heapq 模組提供了一種實現堆數據結構的方式。\n",
    "   >「堆」是一種特殊的樹形數據結構，它的每個父節點都小於或等於其子節點。\n",
    "\n",
    "### 9. 計數器（Counter）\n",
    "\n",
    "   >collections 模組中的 Counter 類型是一種特殊的字典，用於計數可哈希對象。\n",
    "\n",
    "### 10. 有序字典（OrderedDict）\n",
    "\n",
    "   >collections 模組中的 OrderedDict 類型是一種保持元素插入順序的字典。\n",
    "\n",
    "### 11. 命名元組（NamedTuple）\n",
    "\n",
    "   >collections 模組中的 namedtuple 函數可以創建帶有名稱的元組子類。\n",
    "\n",
    "### 12. 默認字典（DefaultDict）\n",
    "\n",
    "   >collections 模組中的 defaultdict 類型是一種當所訪問的鍵不存在時，會自動創建該鍵並將其值設定為默認值的字典。\n"
   ]
  },
  {
   "attachments": {},
   "cell_type": "markdown",
   "metadata": {},
   "source": [
    "---END---"
   ]
  }
 ],
 "metadata": {
  "language_info": {
   "name": "python"
  },
  "orig_nbformat": 4
 },
 "nbformat": 4,
 "nbformat_minor": 2
}
