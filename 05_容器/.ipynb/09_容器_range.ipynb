{
 "cells": [
  {
   "attachments": {},
   "cell_type": "markdown",
   "metadata": {},
   "source": [
    "# range 範圍"
   ]
  },
  {
   "attachments": {},
   "cell_type": "markdown",
   "metadata": {},
   "source": [
    ">>1. range 是一個<font color='red'>內建的類別</font>，且有一個同名的內建函數 range() 用於創建 range 物件。\n",
    "\n",
    ">>2. range 的物件是一個<font color='red'>不可變的數字序列</font>，並常常用在迴圈中進行特定次數的迭代。\n",
    "\n",
    ">>3. range 物件佔用的記憶體空間與範圍的成員數量大小無關，只與範圍的起始、結束和間隔大小有關。這使得 range 對象在表示大範圍時非常高效。"
   ]
  },
  {
   "attachments": {},
   "cell_type": "markdown",
   "metadata": {},
   "source": [
    "1. 使用 range() 函數創建範圍"
   ]
  },
  {
   "cell_type": "code",
   "execution_count": 15,
   "metadata": {},
   "outputs": [
    {
     "name": "stdout",
     "output_type": "stream",
     "text": [
      "range(0, 5) <class 'range'>\n",
      "[0, 1, 2, 3, 4]\n",
      "[1, 2, 3, 4, 5]\n",
      "[1, 3, 5, 7, 9]\n"
     ]
    }
   ],
   "source": [
    "# range(stop): 產生從0（含）到stop（不含）的數字序列\n",
    "# 建立一個range物件\n",
    "r = range(5)\n",
    "print(r, type(r))  # range(0, 5) <class 'range'>\n",
    "\n",
    "# 轉換為列表並且輸出\n",
    "print(list(r))  # [0, 1, 2, 3, 4]\n",
    "\n",
    "# range(start, stop)\n",
    "# 產生從start（含）到stop（不含）的數字序列\n",
    "print(list(range(1, 6)))  # Output: [1, 2, 3, 4, 5]\n",
    "\n",
    "# range(start, stop, step)\n",
    "# 產生從start（含）到stop（不含）的數字序列，間隔為step\n",
    "print(list(range(1, 10, 2)))  # Output: [1, 3, 5, 7, 9]\n"
   ]
  },
  {
   "attachments": {},
   "cell_type": "markdown",
   "metadata": {},
   "source": [
    "2. 長度"
   ]
  },
  {
   "cell_type": "code",
   "execution_count": 16,
   "metadata": {},
   "outputs": [
    {
     "name": "stdout",
     "output_type": "stream",
     "text": [
      "5\n"
     ]
    }
   ],
   "source": [
    "r = range(5)\n",
    "print(len(r))  # prints: 5"
   ]
  },
  {
   "attachments": {},
   "cell_type": "markdown",
   "metadata": {},
   "source": [
    "3. 搭配使用成員運算子 in"
   ]
  },
  {
   "cell_type": "code",
   "execution_count": 17,
   "metadata": {},
   "outputs": [
    {
     "name": "stdout",
     "output_type": "stream",
     "text": [
      "True\n",
      "False\n"
     ]
    }
   ],
   "source": [
    "r = range(5)\n",
    "print(3 in r)  # True\n",
    "print(5 in r)  # False"
   ]
  },
  {
   "attachments": {},
   "cell_type": "markdown",
   "metadata": {},
   "source": [
    "4. 節省資源"
   ]
  },
  {
   "cell_type": "code",
   "execution_count": 18,
   "metadata": {},
   "outputs": [],
   "source": [
    "# 這將不會佔用大量記憶體\n",
    "big_range = range(1000000000)"
   ]
  },
  {
   "attachments": {},
   "cell_type": "markdown",
   "metadata": {},
   "source": [
    "5. 搭配 for-in 迴圈使用"
   ]
  },
  {
   "cell_type": "code",
   "execution_count": 19,
   "metadata": {},
   "outputs": [
    {
     "name": "stdout",
     "output_type": "stream",
     "text": [
      "0\n",
      "1\n",
      "2\n",
      "3\n",
      "4\n",
      "------------------\n",
      "1\n",
      "2\n",
      "3\n",
      "4\n",
      "5\n",
      "------------------\n",
      "1 1\n",
      "3 2\n",
      "5 3\n",
      "7 4\n",
      "9 5\n",
      "------------------\n",
      "1\n",
      "2\n",
      "3\n",
      "4\n",
      "5\n"
     ]
    }
   ],
   "source": [
    "# 使用範圍來進行5次迭代\n",
    "for i in range(5):\n",
    "    print(i)\n",
    "\n",
    "print('------------------')\n",
    "# 使用範圍來進行5次迭代\n",
    "for i in range(1, 6):\n",
    "    print(i)\n",
    "\n",
    "print('------------------')\n",
    "# 使用範圍來進行有間距的迭代\n",
    "count = 0\n",
    "for i in range(1, 10, 2):\n",
    "    count += 1\n",
    "    print(i, count)\n",
    "\n",
    "print('------------------')\n",
    "# 若不需要使用索引，可以使用_來取代\n",
    "count = 0\n",
    "for _ in range(1, 10, 2):\n",
    "    count += 1\n",
    "    print(count)"
   ]
  },
  {
   "attachments": {},
   "cell_type": "markdown",
   "metadata": {},
   "source": [
    "---END---"
   ]
  }
 ],
 "metadata": {
  "kernelspec": {
   "display_name": "base",
   "language": "python",
   "name": "python3"
  },
  "language_info": {
   "codemirror_mode": {
    "name": "ipython",
    "version": 3
   },
   "file_extension": ".py",
   "mimetype": "text/x-python",
   "name": "python",
   "nbconvert_exporter": "python",
   "pygments_lexer": "ipython3",
   "version": "3.10.9"
  },
  "orig_nbformat": 4
 },
 "nbformat": 4,
 "nbformat_minor": 2
}
