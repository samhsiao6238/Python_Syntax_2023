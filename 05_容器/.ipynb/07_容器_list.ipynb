{
 "cells": [
  {
   "attachments": {},
   "cell_type": "markdown",
   "metadata": {},
   "source": [
    "# List 列表"
   ]
  },
  {
   "attachments": {},
   "cell_type": "markdown",
   "metadata": {},
   "source": [
    ">>可變（mutable）\n",
    "\n",
    ">>有序集合\n",
    "\n",
    ">>成員可以是不同類型的元素"
   ]
  },
  {
   "attachments": {},
   "cell_type": "markdown",
   "metadata": {},
   "source": [
    "0. 初始化"
   ]
  },
  {
   "cell_type": "code",
   "execution_count": 43,
   "metadata": {},
   "outputs": [
    {
     "name": "stdout",
     "output_type": "stream",
     "text": [
      "[]\n"
     ]
    }
   ],
   "source": [
    "# 初始化一個空的 list\n",
    "my_list = []\n",
    "print(my_list)\n",
    "# 顯示 list 的資料型態\n",
    "print(type(my_list))"
   ]
  },
  {
   "attachments": {},
   "cell_type": "markdown",
   "metadata": {},
   "source": [
    "方法"
   ]
  },
  {
   "attachments": {},
   "cell_type": "markdown",
   "metadata": {},
   "source": [
    "1. append 加入"
   ]
  },
  {
   "cell_type": "code",
   "execution_count": 2,
   "metadata": {},
   "outputs": [
    {
     "name": "stdout",
     "output_type": "stream",
     "text": [
      "['a']\n",
      "['a', 'b']\n"
     ]
    }
   ],
   "source": [
    "# append(element) 會將一個元素(element)添加到列表的最後\n",
    "# 建立空的 list\n",
    "my_list = []\n",
    "# 加入一個元素\n",
    "my_list.append(\"a\")\n",
    "print(my_list)\n",
    "# 再加入一個元素\n",
    "my_list.append(\"b\")\n",
    "print(my_list)"
   ]
  },
  {
   "attachments": {},
   "cell_type": "markdown",
   "metadata": {},
   "source": [
    "2. insert 插入"
   ]
  },
  {
   "cell_type": "code",
   "execution_count": 45,
   "metadata": {},
   "outputs": [
    {
     "name": "stdout",
     "output_type": "stream",
     "text": [
      "['a', 'c', 'b']\n",
      "觀察是否回傳值：None\n",
      "['a', 'd', 'c', 'b']\n"
     ]
    }
   ],
   "source": [
    "# insert(index, element): 在指定位置插入一個元素\n",
    "# 建立一個 list\n",
    "my_list = [\"a\", \"b\"]\n",
    "# 在 index = 1 的位置插入一個元素 \"c\"\n",
    "my_list.insert(1, \"c\")  \n",
    "print(my_list) # ['a', 'c', 'b']\n",
    "# 傳出的結果為 None，因為 insert() 方法沒有回傳值\n",
    "_return_value = my_list.insert(1, \"d\")\n",
    "print(f'觀察是否回傳值：{_return_value}') # None\n",
    "# d 還是有加入到 list 中\n",
    "print(my_list) # ['a', 'd', 'c', 'b']"
   ]
  },
  {
   "attachments": {},
   "cell_type": "markdown",
   "metadata": {},
   "source": [
    "3. extend 加入多個元素"
   ]
  },
  {
   "cell_type": "code",
   "execution_count": 14,
   "metadata": {},
   "outputs": [
    {
     "name": "stdout",
     "output_type": "stream",
     "text": [
      "['d', 'e', 'f']\n",
      "['d', 'e', 'f', 'g', 'h', 'i']\n"
     ]
    }
   ],
   "source": [
    "# extend(iterable) 是將一個可迭代物件的所有元素添加到列表的末尾\n",
    "# 建立空的 list\n",
    "my_list = []\n",
    "# 加入多個元素\n",
    "my_list.extend([\"d\", \"e\", \"f\"])\n",
    "print(my_list) # ['d', 'e', 'f']\n",
    "# 再加入多個元素\n",
    "my_list.extend([\"g\", \"h\", \"i\"])\n",
    "print(my_list) # ['d', 'e', 'f', 'g', 'h', 'i']"
   ]
  },
  {
   "attachments": {},
   "cell_type": "markdown",
   "metadata": {},
   "source": [
    "4. remove 移除"
   ]
  },
  {
   "cell_type": "code",
   "execution_count": 49,
   "metadata": {},
   "outputs": [
    {
     "name": "stdout",
     "output_type": "stream",
     "text": [
      "['a', 'b', 'c', 'd', 'e', 'f']\n",
      "發生錯誤：list.remove(x): x not in list\n",
      "觀察是否回傳值：None\n"
     ]
    }
   ],
   "source": [
    "# remove(element): 移除列表中第一個出現的指定元素\n",
    "# 若有多個相同的元素，只會移除第一個出現的元素\n",
    "# 若指定的元素不存在，則會發生 ValueError\n",
    "\n",
    "# 建立一個 list\n",
    "my_list = [\"b\", \"a\", \"b\", \"c\", \"d\", \"e\", \"f\"]\n",
    "# 移除一個元素\n",
    "my_list1 = my_list.remove(\"b\")\n",
    "print(my_list) # ['a', 'b', 'c', 'd', 'e', 'f']\n",
    "\n",
    "# 使用 remove() 方法移除一個不存在的元素\n",
    "# 若指定的元素不存在，則會發生 ValueError\n",
    "# 因為會發生錯誤，所以使用 try-except 來做例外處理\n",
    "try:\n",
    "    # 嘗試移除一個不存在的元素 \"z\"\n",
    "    my_list.remove(\"z\")\n",
    "except ValueError as e:\n",
    "    # 若發生 ValueError，則會執行 except 區塊\n",
    "    # 並且將錯誤訊息儲存在變數 e 中\n",
    "    print(f'發生錯誤：{e}')\n",
    "\n",
    "# 會改變原本的 list，所以不會有回傳值\n",
    "# 嘗試移除 \"b\" 並且觀察回傳值\n",
    "return_value = my_list.remove(\"b\")\n",
    "print(f'觀察是否回傳值：{return_value}') # None\n"
   ]
  },
  {
   "attachments": {},
   "cell_type": "markdown",
   "metadata": {},
   "source": [
    "5. pop 取出一個元素"
   ]
  },
  {
   "cell_type": "code",
   "execution_count": 50,
   "metadata": {},
   "outputs": [
    {
     "name": "stdout",
     "output_type": "stream",
     "text": [
      "['a', 'b', 'c', 'd', 'e']\n",
      "['a', 'b', 'c', 'e']\n",
      "取出的元素是 d\n"
     ]
    }
   ],
   "source": [
    "# pop(index): 移除並傳出列表中指定位置的元素\n",
    "# 若沒有指定位置，則會移除並傳出最後一個元素\n",
    "\n",
    "# 建立一個 list\n",
    "my_list = [\"a\", \"b\", \"c\", \"d\", \"e\", \"f\"]\n",
    "# 取出一個元素，預設是最後一個元素\n",
    "my_list.pop()\n",
    "print(my_list) # ['a', 'b', 'c', 'd', 'e']\n",
    "# 取出指定位置的元素並觀察傳出值\n",
    "_element = my_list.pop(3)\n",
    "print(my_list) # ['a', 'b', 'c', 'e']\n",
    "# 取出的元素\n",
    "print(f'取出的元素是 {_element}') # d"
   ]
  },
  {
   "attachments": {},
   "cell_type": "markdown",
   "metadata": {},
   "source": [
    "6. index 找出元素的位置"
   ]
  },
  {
   "cell_type": "code",
   "execution_count": 52,
   "metadata": {},
   "outputs": [
    {
     "name": "stdout",
     "output_type": "stream",
     "text": [
      "第一次出現 BBB 的索引位置是 1\n"
     ]
    }
   ],
   "source": [
    "# index(element): 返回列表中第一個出現的指定元素的索引\n",
    "# 建立一個 list\n",
    "my_list = [\"a\", \"BBB\", \"c\", \"BBB\", \"d\", \"e\", \"f\"]\n",
    "# 找出元素的位置\n",
    "_index = my_list.index(\"BBB\")\n",
    "print(f'第一次出現 BBB 的索引位置是 {_index}') # 1"
   ]
  },
  {
   "attachments": {},
   "cell_type": "markdown",
   "metadata": {},
   "source": [
    "7. count 計算元素出現的次數"
   ]
  },
  {
   "cell_type": "code",
   "execution_count": 54,
   "metadata": {},
   "outputs": [
    {
     "name": "stdout",
     "output_type": "stream",
     "text": [
      "元素 EE 出現的次數 = 3\n"
     ]
    }
   ],
   "source": [
    "# count(element): 返回列表中出現的指定元素出現的次數\n",
    "# 建立一個 list\n",
    "my_list = [\"a\", \"b\", \"c\", \"d\", \"EE\", \"EE\", \"EE\"]\n",
    "# 計算元素「EE」出現的次數\n",
    "_count = my_list.count(\"EE\")\n",
    "print(f'元素 EE 出現的次數 = {_count}') # 3"
   ]
  },
  {
   "attachments": {},
   "cell_type": "markdown",
   "metadata": {},
   "source": [
    "8. sort 排序"
   ]
  },
  {
   "cell_type": "code",
   "execution_count": 55,
   "metadata": {},
   "outputs": [
    {
     "name": "stdout",
     "output_type": "stream",
     "text": [
      "['a', 'b', 'c', 'd', 'e', 'f']\n",
      "['f', 'e', 'd', 'c', 'b', 'a']\n",
      "傳出值為 None\n"
     ]
    }
   ],
   "source": [
    "# sort 排序\n",
    "# 可以設置參數 reverse=True 來反向排序\n",
    "# 會直接改變原來的數列 my_list，沒有傳出值\n",
    "\n",
    "# 建立一個沒有排序的list\n",
    "my_list = [ \"b\", \"a\", \"d\", \"e\", \"c\", \"f\"]\n",
    "# 排序，預設是由小到大，會直接改變原來的數列 my_list\n",
    "my_list.sort()\n",
    "print(my_list) # ['a', 'b', 'c', 'd', 'e', 'f']\n",
    "# 反向排序\n",
    "my_list.sort(reverse=True)\n",
    "print(my_list) # ['f', 'e', 'd', 'c', 'b', 'a']\n",
    "# 沒有傳出值\n",
    "return_value = my_list.sort()\n",
    "print(f'傳出值為 {return_value}') # None"
   ]
  },
  {
   "attachments": {},
   "cell_type": "markdown",
   "metadata": {},
   "source": [
    "9.  reverse 反轉"
   ]
  },
  {
   "cell_type": "code",
   "execution_count": 37,
   "metadata": {},
   "outputs": [
    {
     "name": "stdout",
     "output_type": "stream",
     "text": [
      "['f', 'e', 'd', 'c', 'b', 'a']\n",
      "傳出值為 None\n"
     ]
    }
   ],
   "source": [
    "# reverse 反轉\n",
    "# 會直接改變原來的數列 my_list，沒有傳出值\n",
    "# 建立一個list\n",
    "my_list = [\"a\", \"b\", \"c\", \"d\", \"e\", \"f\"]\n",
    "# 反轉，會直接改變原來的數列 my_list\n",
    "my_list.reverse()\n",
    "print(my_list) # ['f', 'e', 'd', 'c', 'b', 'a']\n",
    "# 沒有傳出值\n",
    "return_value = my_list.reverse()\n",
    "print(f'傳出值為 {return_value}') # None"
   ]
  },
  {
   "attachments": {},
   "cell_type": "markdown",
   "metadata": {},
   "source": [
    "10. copy 淺複製"
   ]
  },
  {
   "cell_type": "code",
   "execution_count": 39,
   "metadata": {},
   "outputs": [
    {
     "name": "stdout",
     "output_type": "stream",
     "text": [
      "['a', 'b', 'c', 'd', 'e', 'f']\n",
      "True\n",
      "False\n"
     ]
    }
   ],
   "source": [
    "# copy 淺複製\n",
    "# 兩個數列的內容相同，但不是同一個物件\n",
    "# 建立一個list\n",
    "my_list = [\"a\", \"b\", \"c\", \"d\", \"e\", \"f\"]\n",
    "# 複製\n",
    "my_list_copy = my_list.copy()\n",
    "print(my_list_copy) # ['a', 'b', 'c', 'd', 'e', 'f']\n",
    "# 比較兩個 list 是否相等\n",
    "print(my_list == my_list_copy) # True\n",
    "# 比較兩個 list 是否為同一個物件\n",
    "print(my_list is my_list_copy) # False"
   ]
  },
  {
   "attachments": {},
   "cell_type": "markdown",
   "metadata": {},
   "source": [
    "11. clear 清除"
   ]
  },
  {
   "cell_type": "code",
   "execution_count": 41,
   "metadata": {},
   "outputs": [
    {
     "name": "stdout",
     "output_type": "stream",
     "text": [
      "[]\n",
      "傳出值為 None\n"
     ]
    }
   ],
   "source": [
    "# clear 會清除所有元素\n",
    "# 會直接改變原來的數列 my_list，沒有傳出值\n",
    "# 建立一個list\n",
    "my_list = [\"a\", \"b\", \"c\", \"d\", \"e\", \"f\"]\n",
    "# 清除\n",
    "my_list.clear()\n",
    "print(my_list)\n",
    "# 沒有傳出值\n",
    "return_value = my_list.clear()\n",
    "print(f'傳出值為 {return_value}') # None"
   ]
  },
  {
   "attachments": {},
   "cell_type": "markdown",
   "metadata": {},
   "source": [
    "12. 負數索引"
   ]
  },
  {
   "cell_type": "code",
   "execution_count": 57,
   "metadata": {},
   "outputs": [
    {
     "name": "stdout",
     "output_type": "stream",
     "text": [
      "f\n",
      "e\n"
     ]
    }
   ],
   "source": [
    "# 負數索引\n",
    "# 建立一個list\n",
    "my_list = [\"a\", \"b\", \"c\", \"d\", \"e\", \"f\"]\n",
    "# 傳出最後一個元素的值\n",
    "print(my_list[-1]) # f\n",
    "# 傳出倒數第二個元素的值\n",
    "print(my_list[-2]) # e"
   ]
  },
  {
   "attachments": {},
   "cell_type": "markdown",
   "metadata": {},
   "source": [
    "---END---"
   ]
  }
 ],
 "metadata": {
  "kernelspec": {
   "display_name": "base",
   "language": "python",
   "name": "python3"
  },
  "language_info": {
   "codemirror_mode": {
    "name": "ipython",
    "version": 3
   },
   "file_extension": ".py",
   "mimetype": "text/x-python",
   "name": "python",
   "nbconvert_exporter": "python",
   "pygments_lexer": "ipython3",
   "version": "3.11.3"
  },
  "orig_nbformat": 4
 },
 "nbformat": 4,
 "nbformat_minor": 2
}
