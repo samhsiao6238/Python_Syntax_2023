{
 "cells": [
  {
   "attachments": {},
   "cell_type": "markdown",
   "metadata": {},
   "source": [
    "# collections\n",
    "\n",
    "- Python的模組，這個模組實作了一些特別的容器資料型態，用來替代 Python 一般內建的容器。\n",
    "\n",
    ">實作項目  |  說明\n",
    ">------------- | -------------\n",
    ">namedtuple() | 用來建立具名欄位的 tuple 子類別的工廠函式\n",
    ">deque | 一個類似 list 的容器，可以快速的在頭尾加入 (append) 元素與移除 (pop) 元素 \n",
    ">ChainMap | 一個類似 dict 的類別，用來為多個對映 (mapping) 建立單一的視圖 (view)\n",
    ">Counter | dict 的子類別，用來計算可雜湊物件的數量\n",
    ">OrderedDict | dict 的子類別，會記錄物件被加入的順序\n",
    ">defaultdict | dict 的子類別，當值不存在 dict 中時會呼叫一個提供預設值的工廠函式\n",
    ">UserDict | dict 物件的包裝器 (wrapper)，簡化了 dict 的子類別化過程\n",
    ">UserList | list 物件的包裝器，簡化了 list 的子類別化過程\n",
    ">UserString | 字串物件的包裝器，簡化了字串的子類別化過程"
   ]
  },
  {
   "attachments": {},
   "cell_type": "markdown",
   "metadata": {},
   "source": [
    "1. defaultdict\n",
    "\n",
    ">- defaultdict是字典的一種變體，它可以自動為字典提供默認值。"
   ]
  },
  {
   "cell_type": "code",
   "execution_count": 1,
   "metadata": {},
   "outputs": [
    {
     "name": "stdout",
     "output_type": "stream",
     "text": [
      "<class 'collections.defaultdict'>\n",
      "<class 'list'>\n",
      "defaultdict(<class 'int'>, {'AAA': 1, 'BBB': 1, 'CCC': 1, 'DDD': 1, 'EEE': 1, 'FFF': 1})\n"
     ]
    }
   ],
   "source": [
    "from collections import defaultdict\n",
    "# 建立一個 defaultdict，預設值為 0\n",
    "count = defaultdict(int)\n",
    "print(type(count))  # <class 'collections.defaultdict'>\n",
    "words = ['AAA', 'BBB', 'CCC', 'DDD', 'EEE', 'FFF']\n",
    "print(type(words))  # <class 'list'>\n",
    "for word in words:\n",
    "    count[word] += 1\n",
    "#\n",
    "print(count)\n"
   ]
  },
  {
   "attachments": {},
   "cell_type": "markdown",
   "metadata": {},
   "source": [
    "2. OrderedDict\n",
    "\n",
    ">- OrderedDict是字典的一種變體，它記住了元素插入的順序。"
   ]
  },
  {
   "cell_type": "code",
   "execution_count": 2,
   "metadata": {},
   "outputs": [
    {
     "name": "stdout",
     "output_type": "stream",
     "text": [
      "first 1\n",
      "second 2\n",
      "third 3\n"
     ]
    }
   ],
   "source": [
    "from collections import OrderedDict\n",
    "# 建立一個 OrderedDict\n",
    "d = OrderedDict()\n",
    "d['first'] = 1\n",
    "d['second'] = 2\n",
    "d['third'] = 3\n",
    "\n",
    "#\n",
    "for key in d:\n",
    "    print(key, d[key])\n",
    "\n",
    "# Output:\n",
    "# first 1\n",
    "# second 2\n",
    "# third 3"
   ]
  },
  {
   "attachments": {},
   "cell_type": "markdown",
   "metadata": {},
   "source": [
    "3. heapq\n",
    "\n",
    ">- heapq模組實現了堆數據結構，也稱為優先隊列。"
   ]
  },
  {
   "cell_type": "code",
   "execution_count": 3,
   "metadata": {},
   "outputs": [
    {
     "name": "stdout",
     "output_type": "stream",
     "text": [
      "(1, 'CCC')\n",
      "[(3, 'DDD'), (7, 'BBB'), (5, 'AAA')]\n",
      "(3, 'DDD')\n",
      "[(5, 'AAA'), (7, 'BBB')]\n"
     ]
    }
   ],
   "source": [
    "import heapq\n",
    "# 建立\n",
    "h = []\n",
    "heapq.heappush(h, (5, 'AAA'))\n",
    "heapq.heappush(h, (7, 'BBB'))\n",
    "heapq.heappush(h, (1, 'CCC'))\n",
    "heapq.heappush(h, (3, 'DDD'))\n",
    "# 取出\n",
    "print(heapq.heappop(h)) \n",
    "print(h)\n",
    "# 再一次取出\n",
    "print(heapq.heappop(h)) \n",
    "print(h)"
   ]
  },
  {
   "attachments": {},
   "cell_type": "markdown",
   "metadata": {},
   "source": [
    ">- 是一種提供 heap queue 演算法（priority queue 演算法）的庫，可以用於尋找和排序列表中的最小元素。"
   ]
  },
  {
   "cell_type": "code",
   "execution_count": 4,
   "metadata": {},
   "outputs": [
    {
     "name": "stdout",
     "output_type": "stream",
     "text": [
      "[1, 1, 2, 3, 5, 9, 4, 6]\n"
     ]
    }
   ],
   "source": [
    "# 再做一個範例，把 list 轉換成 heap，並且輸出\n",
    "# 建立一個 list\n",
    "heap = [3, 1, 4, 1, 5, 9, 2, 6]\n",
    "# 把 list 轉換成 heap\n",
    "heapq.heapify(heap)\n",
    "# 輸出，可以看到已經是 heap 的結構，但是不是排序好的\n",
    "print(heap) "
   ]
  },
  {
   "attachments": {},
   "cell_type": "markdown",
   "metadata": {},
   "source": [
    ">- deque 提供了一個雙端隊列，可以從頭/尾兩端添加或刪除元素。"
   ]
  },
  {
   "cell_type": "code",
   "execution_count": 5,
   "metadata": {},
   "outputs": [
    {
     "name": "stdout",
     "output_type": "stream",
     "text": [
      "長度 = 3\n",
      "d[0] = 1\n",
      "d[-1] = 3\n",
      "deque(['1', '2', '3'])\n",
      "------------------\n",
      "deque([0, 1, 2, 3, 4])\n",
      "長度 = 5\n",
      "deque([1, 2, 3, 4])\n",
      "deque([1, 2, 3])\n"
     ]
    }
   ],
   "source": [
    "from collections import deque\n",
    "# 建立一個 deque\n",
    "d = deque()\n",
    "# 加入元素\n",
    "d.append('1')\n",
    "d.append('2')\n",
    "d.append('3')\n",
    "# 輸出，可以看到是一個 list\n",
    "print(f'長度 = {len(d)}')  # 3\n",
    "print(f'd[0] = {d[0]}')  # '1'\n",
    "print(f'd[-1] = {d[-1]}')  # '3'\n",
    "print(d)  # deque(['1', '2', '3'])\n",
    "\n",
    "print('------------------') \n",
    "# 建立一個 deque，並且指定元素\n",
    "d = deque(range(5))\n",
    "print(d)\n",
    "print(f'長度 = {len(d)}')  # 5\n",
    "# 移除元素，移除左邊的元素\n",
    "d.popleft()  # '0'\n",
    "print(d)\n",
    "# 移除元素，移除右邊的元素\n",
    "d.pop()  # '4'\n",
    "print(d)  # deque([1, 2, 3])\n"
   ]
  },
  {
   "attachments": {},
   "cell_type": "markdown",
   "metadata": {},
   "source": [
    "# 其他高階容器"
   ]
  },
  {
   "attachments": {},
   "cell_type": "markdown",
   "metadata": {},
   "source": [
    "4. NumPy\n",
    "\n",
    ">- NumPy是一個用於科學計算的庫，它提供了一個高效的多維數組對象 ndarray。"
   ]
  },
  {
   "cell_type": "code",
   "execution_count": 6,
   "metadata": {},
   "outputs": [
    {
     "name": "stdout",
     "output_type": "stream",
     "text": [
      "Intel MKL WARNING: Support of Intel(R) Streaming SIMD Extensions 4.2 (Intel(R) SSE4.2) enabled only processors has been deprecated. Intel oneAPI Math Kernel Library 2025.0 will require Intel(R) Advanced Vector Extensions (Intel(R) AVX) instructions.\n",
      "Intel MKL WARNING: Support of Intel(R) Streaming SIMD Extensions 4.2 (Intel(R) SSE4.2) enabled only processors has been deprecated. Intel oneAPI Math Kernel Library 2025.0 will require Intel(R) Advanced Vector Extensions (Intel(R) AVX) instructions.\n",
      "[1 2 3]\n",
      "[[1 2 3]\n",
      " [4 5 6]]\n"
     ]
    }
   ],
   "source": [
    "import numpy as np\n",
    "# 建立一個 ndarray\n",
    "a = np.array([1, 2, 3])\n",
    "print(a)  # array([1, 2, 3])\n",
    "\n",
    "# 建立一個 ndarray\n",
    "a = np.array([[1, 2, 3], [4, 5, 6]])\n",
    "print(a)"
   ]
  },
  {
   "attachments": {},
   "cell_type": "markdown",
   "metadata": {},
   "source": [
    "5. Pandas DataFrame\n",
    "\n",
    ">- DataFrame 是 Pandas 庫中的二維表格數據結構，其中的列可以是不同的類型（int，float，str等）。"
   ]
  },
  {
   "cell_type": "code",
   "execution_count": 7,
   "metadata": {},
   "outputs": [
    {
     "name": "stdout",
     "output_type": "stream",
     "text": [
      "   Name  Age\n",
      "0   Tom   20\n",
      "1  Nick   21\n",
      "2  John   19\n"
     ]
    }
   ],
   "source": [
    "import pandas as pd\n",
    "#\n",
    "data = {'Name': ['Tom', 'Nick', 'John'], 'Age': [20, 21, 19]}\n",
    "df = pd.DataFrame(data)\n",
    "#\n",
    "print(df)\n",
    "\n",
    "# Output:\n",
    "#   Name  Age\n",
    "# 0  Tom   20\n",
    "# 1 Nick   21\n",
    "# 2 John   19\n"
   ]
  },
  {
   "attachments": {},
   "cell_type": "markdown",
   "metadata": {},
   "source": [
    "---END---"
   ]
  }
 ],
 "metadata": {
  "kernelspec": {
   "display_name": "base",
   "language": "python",
   "name": "python3"
  },
  "language_info": {
   "codemirror_mode": {
    "name": "ipython",
    "version": 3
   },
   "file_extension": ".py",
   "mimetype": "text/x-python",
   "name": "python",
   "nbconvert_exporter": "python",
   "pygments_lexer": "ipython3",
   "version": "3.9.7"
  },
  "orig_nbformat": 4
 },
 "nbformat": 4,
 "nbformat_minor": 2
}
