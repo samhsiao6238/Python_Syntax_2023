{
 "cells": [
  {
   "attachments": {},
   "cell_type": "markdown",
   "metadata": {},
   "source": [
    "### 透過鍵盤輸入"
   ]
  },
  {
   "cell_type": "code",
   "execution_count": 1,
   "metadata": {},
   "outputs": [
    {
     "name": "stdout",
     "output_type": "stream",
     "text": [
      "你輸入了: 123\n"
     ]
    }
   ],
   "source": [
    "user_input = input(\"請輸入一些文字: \")\n",
    "print(f\"你輸入了: {user_input}\")"
   ]
  },
  {
   "attachments": {},
   "cell_type": "markdown",
   "metadata": {},
   "source": [
    "輸入同時轉型"
   ]
  },
  {
   "cell_type": "code",
   "execution_count": 3,
   "metadata": {},
   "outputs": [
    {
     "name": "stdout",
     "output_type": "stream",
     "text": [
      "你輸入的整數加上 10 等於 20。\n"
     ]
    }
   ],
   "source": [
    "# 獲取用戶輸入，並將其轉換為整數\n",
    "user_input = int(input(\"請輸入一個整數：\"))\n",
    "user_input += 10\n",
    "print(f\"你輸入的整數加上 10 等於 {user_input}。\")"
   ]
  },
  {
   "cell_type": "code",
   "execution_count": 6,
   "metadata": {},
   "outputs": [
    {
     "name": "stdout",
     "output_type": "stream",
     "text": [
      "你輸入的浮點數加上 0.5 等於 11.5。\n"
     ]
    }
   ],
   "source": [
    "# 獲取用戶輸入，並將其轉換為浮點數\n",
    "user_input = float(input(\"請輸入一個浮點數：\"))\n",
    "print(f\"你輸入的浮點數加上 0.5 等於 {user_input + .5}。\")"
   ]
  },
  {
   "attachments": {},
   "cell_type": "markdown",
   "metadata": {},
   "source": [
    "---END---"
   ]
  }
 ],
 "metadata": {
  "kernelspec": {
   "display_name": "base",
   "language": "python",
   "name": "python3"
  },
  "language_info": {
   "codemirror_mode": {
    "name": "ipython",
    "version": 3
   },
   "file_extension": ".py",
   "mimetype": "text/x-python",
   "name": "python",
   "nbconvert_exporter": "python",
   "pygments_lexer": "ipython3",
   "version": "3.10.9"
  },
  "orig_nbformat": 4
 },
 "nbformat": 4,
 "nbformat_minor": 2
}
