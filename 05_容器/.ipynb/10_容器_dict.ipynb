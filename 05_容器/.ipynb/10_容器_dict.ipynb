{
 "cells": [
  {
   "attachments": {},
   "cell_type": "markdown",
   "metadata": {},
   "source": [
    "# Dict 字典\n",
    "\n",
    ">>1. 鍵值對：由鍵（key）和值（value）對應組成，每個 key 在 dict 中是唯一的，並且要對應一個值。\n",
    "\n",
    ">>2. 可變的。\n",
    "\n",
    ">>3. 無序，不能透過索引訪問，僅可透過「key」訪問。\n",
    "\n",
    ">>4. 鍵值可以是任何的<font color='red'>不可變類型</font>，如整數、浮點數、字串或一整個數組。"
   ]
  },
  {
   "attachments": {},
   "cell_type": "markdown",
   "metadata": {},
   "source": [
    "## 方法"
   ]
  },
  {
   "attachments": {},
   "cell_type": "markdown",
   "metadata": {},
   "source": [
    "1. 初始化與新增元素"
   ]
  },
  {
   "cell_type": "code",
   "execution_count": 36,
   "metadata": {},
   "outputs": [
    {
     "name": "stdout",
     "output_type": "stream",
     "text": [
      "dict['AAA']: aaa\n",
      "dict['DDD']: ddd\n",
      "dict['AAA']: AAA\n"
     ]
    }
   ],
   "source": [
    "# 建立一個字典\n",
    "dict = {'AAA': 'aaa', 'BBB': 777, 'CCC': 'ccc'}\n",
    "# 輸出\n",
    "print(f\"dict['AAA']: {dict['AAA']}\")\n",
    "\n",
    "# 直接新增一個元素\n",
    "dict['DDD'] = 'ddd'\n",
    "# 輸出\n",
    "print(f\"dict['DDD']: {dict['DDD']}\")\n",
    "\n",
    "# 直接修改一個元素\n",
    "dict['AAA'] = 'AAA'\n",
    "# 輸出\n",
    "print(f\"dict['AAA']: {dict['AAA']}\")\n"
   ]
  },
  {
   "attachments": {},
   "cell_type": "markdown",
   "metadata": {},
   "source": [
    "2. 字典解析 (Dictionary Comprehension)\n",
    "\n",
    ">>這是一種快速創建字典的方法，如果想創建一個將數字映射到其平方的字典，可以使用字典解析。"
   ]
  },
  {
   "cell_type": "code",
   "execution_count": 37,
   "metadata": {},
   "outputs": [
    {
     "name": "stdout",
     "output_type": "stream",
     "text": [
      "{1: 1, 2: 4, 3: 9, 4: 16, 5: 25}\n"
     ]
    }
   ],
   "source": [
    "# 字典解析式\n",
    "# {key: value for 變數 in 迭代物件}\n",
    "square_dict = {x: x*x for x in range(1, 6)}\n",
    "print(square_dict)  # 輸出：{1: 1, 2: 4, 3: 9, 4: 16, 5: 25}"
   ]
  },
  {
   "attachments": {},
   "cell_type": "markdown",
   "metadata": {},
   "source": [
    "3. get 取值\n",
    " \n",
    " \n",
    ">>當不確定一個鍵是否存在於字典中時，可以使用 get 方法來取得該鍵的值，如果鍵不存在，get 方法會傳回 None 或指定的默認值，而不會發生錯誤使系統崩潰，這是一種<font color='red'>安全的方法</font>。"
   ]
  },
  {
   "cell_type": "code",
   "execution_count": 38,
   "metadata": {},
   "outputs": [
    {
     "name": "stdout",
     "output_type": "stream",
     "text": [
      "N/A\n",
      "None\n",
      "<class 'NoneType'>\n",
      "aaa\n"
     ]
    }
   ],
   "source": [
    "# 字典\n",
    "data = {\"AAA\": \"aaa\", \"BBB\": 333}\n",
    "# 取出 address 這個 key 對應的值，預設 None 的時候返回的內容\n",
    "print(data.get(\"CCC\", \"N/A\"))   # 'N/A'\n",
    "# 若沒有預設值，會傳出 None\n",
    "print(data.get(\"DDD\"))   # 'None'\n",
    "# None 的資料類型就是 None Type\n",
    "print(type(data.get(\"DDD\"))) # <class 'NoneType'>\n",
    "# 有值的話直接傳出\n",
    "print(data.get(\"AAA\", \"N/A\"))      # 輸出：'aaa'"
   ]
  },
  {
   "attachments": {},
   "cell_type": "markdown",
   "metadata": {},
   "source": [
    "4. setdefault 設定預設值\n",
    "\n",
    ">>使用 key 進行查詢，若有對應的 value 會回傳指定 key 的 value，如果該 key 不存在於字典中，則添加 key 並設定其值為默認值。"
   ]
  },
  {
   "cell_type": "code",
   "execution_count": 39,
   "metadata": {},
   "outputs": [
    {
     "name": "stdout",
     "output_type": "stream",
     "text": [
      "{'AAA': 'aaa', 'BBB': 777, 'CCC': 'ccc'}\n",
      "{'AAA': 'aaa', 'BBB': 777, 'CCC': 'ccc', 'DDD': '123456789'}\n",
      "{'AAA': 'aaa', 'BBB': 777, 'CCC': 'ccc', 'DDD': '123456789', 'other': None}\n"
     ]
    }
   ],
   "source": [
    "# 建立一個字典\n",
    "data = {'AAA': 'aaa', 'BBB': 777, 'CCC': 'ccc'}\n",
    "\n",
    "# 設定 address，並給定預設值\n",
    "data.setdefault(\"CCC\", \"N/A\")\n",
    "print(data)  # 輸出：{'name': 'John', 'age': 30, 'address': 'N/A'}\n",
    "# 直接賦值\n",
    "data.setdefault(\"DDD\", \"123456789\")\n",
    "print(data)\n",
    "# 沒預設值，就是 None\n",
    "data.setdefault(\"other\")\n",
    "print(data)"
   ]
  },
  {
   "attachments": {},
   "cell_type": "markdown",
   "metadata": {},
   "source": [
    "5. update 更新字典\n",
    "\n",
    ">>更新字典的值或者添加新的 key-value"
   ]
  },
  {
   "cell_type": "code",
   "execution_count": 40,
   "metadata": {},
   "outputs": [
    {
     "name": "stdout",
     "output_type": "stream",
     "text": [
      "{'AAA': 'aaa', 'BBB': 777, 'CCC': 'ccc'}\n",
      "{'AAA': 'aaa', 'BBB': 999, 'CCC': 'ccc', 'DDD': 'USA'}\n"
     ]
    }
   ],
   "source": [
    "# 建立一個字典\n",
    "data = {'AAA': 'aaa', 'BBB': 777, 'CCC': 'ccc'}\n",
    "print(data)\n",
    "# 更新 BBB 並加入 DDD\n",
    "data.update({\"BBB\": 999, \"DDD\": \"USA\"})\n",
    "#\n",
    "print(data)  # 輸出：{'name': 'John', 'age': 31, 'address': 'USA'}"
   ]
  },
  {
   "attachments": {},
   "cell_type": "markdown",
   "metadata": {},
   "source": [
    "6. 遍歷字典\n",
    "   \n",
    ">>使用 keys()、values() 和 items() 方法分別返回字典的鍵、值和鍵值對。\n",
    "\n",
    ">>回傳時輸出的「dict_keys」「dict_values」「dict_items」是視圖物件（view objects）的類型。"
   ]
  },
  {
   "cell_type": "code",
   "execution_count": 41,
   "metadata": {},
   "outputs": [
    {
     "name": "stdout",
     "output_type": "stream",
     "text": [
      "<class 'dict_keys'> dict_keys(['AAA', 'BBB', 'CCC'])\n",
      "<class 'dict_values'> dict_values(['aaa', 777, 'ccc'])\n",
      "<class 'dict_items'> dict_items([('AAA', 'aaa'), ('BBB', 777), ('CCC', 'ccc')])\n"
     ]
    }
   ],
   "source": [
    "# 建立一個字典\n",
    "data = {'AAA': 'aaa', 'BBB': 777, 'CCC': 'ccc'}\n",
    "# 取出 keys\n",
    "print(type(data.keys()), data.keys())\n",
    "# 取出 values\n",
    "print(type(data.values()), data.values()) \n",
    "# 取出 key-value\n",
    "print(type(data.items()), data.items()) "
   ]
  },
  {
   "attachments": {},
   "cell_type": "markdown",
   "metadata": {},
   "source": [
    "7. dict_keys\n",
    "\n",
    ">>這個物件是一個包含字典所有鍵的<font color='red'>視圖</font>。它可以用於迭代，支持成員檢查，並支持集合操作，例如 union、intersection 和 difference。"
   ]
  },
  {
   "cell_type": "code",
   "execution_count": 42,
   "metadata": {},
   "outputs": [
    {
     "name": "stdout",
     "output_type": "stream",
     "text": [
      "<class 'dict_keys'>\n",
      "True\n",
      "{'b', 'c'}\n"
     ]
    }
   ],
   "source": [
    "d = {'a': 1, 'b': 2, 'c': 3}\n",
    "# 取出 keys\n",
    "keys = d.keys()\n",
    "# 輸出型態\n",
    "print(type(keys))  # <class 'dict_keys'>\n",
    "# 透過「in」做成員檢查\n",
    "print('a' in keys)  # True\n",
    "# 集合運算\n",
    "print(keys & {'b', 'c', 'd'})  # {'b', 'c'}"
   ]
  },
  {
   "attachments": {},
   "cell_type": "markdown",
   "metadata": {},
   "source": [
    "8. dict_values\n",
    "\n",
    ">>是一個包含字典所有值的視圖物件，可以用於迭代，並且也支持成員檢查。但由於字典的值不需要是唯一的，所以不支援集合操作。"
   ]
  },
  {
   "cell_type": "code",
   "execution_count": 43,
   "metadata": {},
   "outputs": [
    {
     "name": "stdout",
     "output_type": "stream",
     "text": [
      "<class 'dict_values'>\n",
      "True\n"
     ]
    }
   ],
   "source": [
    "# 初始化字典\n",
    "d = {'a': 1, 'b': 2, 'c': 3}\n",
    "# 取出 values\n",
    "values = d.values()\n",
    "print(type(values))  # <class 'dict_values'>\n",
    "# 透過「in」做成員檢查\n",
    "print(1 in values)  # True\n"
   ]
  },
  {
   "attachments": {},
   "cell_type": "markdown",
   "metadata": {},
   "source": [
    "9. dict_items\n",
    "\n",
    ">>這個物件是一個包含字典所有 (鍵, 值) 對的視圖。它可以用於迭代，支持成員檢查，並支持集合操作。"
   ]
  },
  {
   "cell_type": "code",
   "execution_count": 44,
   "metadata": {},
   "outputs": [
    {
     "name": "stdout",
     "output_type": "stream",
     "text": [
      "<class 'dict_items'>\n",
      "True\n",
      "False\n"
     ]
    }
   ],
   "source": [
    "# 初始化字典\n",
    "d = {'a': 1, 'b': 2, 'c': 3}\n",
    "# 讀取 items\n",
    "items = d.items()\n",
    "# 輸出型態\n",
    "print(type(items))  # <class 'dict_items'>\n",
    "# 透過「in」做成員檢查，每個 key-value 為一個 tuple\n",
    "print(('a', 1) in items)  # True\n",
    "print(('a', 2) in items)  # False"
   ]
  },
  {
   "attachments": {},
   "cell_type": "markdown",
   "metadata": {},
   "source": [
    "10. del 刪除字典中的元素\n",
    "\n",
    ">>del 透過「key」進行索引刪除，會刪除整個鍵值對(key-value)"
   ]
  },
  {
   "cell_type": "code",
   "execution_count": 45,
   "metadata": {},
   "outputs": [
    {
     "name": "stdout",
     "output_type": "stream",
     "text": [
      "{'age': 30}\n"
     ]
    }
   ],
   "source": [
    "# 字典\n",
    "data = {\"name\": \"John\", \"age\": 30}\n",
    "# 刪除，沒傳出值問題，因為 data[\"name\"] 本來就是取值的運算\n",
    "del data[\"name\"]\n",
    "# 查看\n",
    "print(data)  # 輸出：{'age': 30}"
   ]
  },
  {
   "attachments": {},
   "cell_type": "markdown",
   "metadata": {},
   "source": [
    "11. 取出 pop\n",
    "\n",
    ">>實質取出會刪除，與 del 除語法不同外，pop 有回傳值也與 del 不同。"
   ]
  },
  {
   "cell_type": "code",
   "execution_count": 46,
   "metadata": {},
   "outputs": [
    {
     "name": "stdout",
     "output_type": "stream",
     "text": [
      "aaa\n",
      "{'BBB': 100}\n"
     ]
    }
   ],
   "source": [
    "# 字典\n",
    "data = {\"AAA\": \"aaa\", \"BBB\": 100}\n",
    "# 刪除，透過 pop+key 取出值\n",
    "_pop = data.pop(\"AAA\")\n",
    "# 查看取出的值\n",
    "print(_pop)   # 輸出：aaa\n",
    "# 查看剩下的值\n",
    "print(data)   # 輸出：{'BBB': 100}"
   ]
  },
  {
   "attachments": {},
   "cell_type": "markdown",
   "metadata": {},
   "source": [
    "12. 使用 in 檢查鍵是否存在：這是檢查字典是否包含某個鍵的快速方法。"
   ]
  },
  {
   "cell_type": "code",
   "execution_count": 47,
   "metadata": {},
   "outputs": [
    {
     "name": "stdout",
     "output_type": "stream",
     "text": [
      "True\n",
      "False\n",
      "True\n",
      "<class 'dict_values'>\n",
      "dict_values(['aaa', 'bbb'])\n",
      "False\n"
     ]
    }
   ],
   "source": [
    "# 字典\n",
    "data = {\"AAA\": \"aaa\", \"BBB\": 'bbb'}\n",
    "# 使用 in 檢查 key 是否存在\n",
    "print(\"AAA\" in data)  # 輸出：True\n",
    "print(\"CCC\" in data)  # 輸出：False\n",
    "# 若要檢查某個 value 是否存在，可透過 values 取出\n",
    "print(\"aaa\" in data.values())  # 輸出：True\n",
    "#\n",
    "_val = data.values()\n",
    "print(type(_val))\n",
    "print(_val)\n",
    "print(25 in data.values())  # 輸出：False"
   ]
  },
  {
   "attachments": {},
   "cell_type": "markdown",
   "metadata": {},
   "source": [
    "12. <font color='red'>字典視圖</font> view \n",
    " \n",
    ">>在 Python 中，當對一個字典調用 .values() 方法時，會得到一個 dict_values 物件。它是一個具有特殊行為的物件，不是完全獨立的數據類型，可將它視為一種<font color='red'>視圖</font>（view）物件，提供了字典值的動態視圖反映即時狀態，如果字典的內容變化，視圖物件也會即時地變化。"
   ]
  },
  {
   "cell_type": "code",
   "execution_count": 48,
   "metadata": {},
   "outputs": [
    {
     "name": "stdout",
     "output_type": "stream",
     "text": [
      "['aaa', 'bbb', 'ccc', 'ddd']\n",
      "('aaa', 'bbb', 'ccc', 'ddd')\n",
      "<class 'dict_values'>  :  dict_values(['aaa', 'bbb', 'ccc', 'ddd'])\n"
     ]
    }
   ],
   "source": [
    "# 字典\n",
    "my_dict = {1: 'aaa', 2: 'bbb', 3: 'ccc', 4: 'ddd'}\n",
    "\n",
    "# (1)透過 .values 取值並轉為 list\n",
    "values = list(my_dict.values())\n",
    "# 輸出\n",
    "print(values)\n",
    "\n",
    "# (2)透過 .values 取值並轉為 tuple\n",
    "values = tuple(my_dict.values())\n",
    "# 輸出\n",
    "print(values)\n",
    "\n",
    "# (3)直接取值 values 會傳出 dict_values 物件\n",
    "val = my_dict.values()\n",
    "# 輸出\n",
    "print(type(val), ' : ', val)"
   ]
  },
  {
   "attachments": {},
   "cell_type": "markdown",
   "metadata": {},
   "source": [
    "13. 與 json 進行互相轉換"
   ]
  },
  {
   "cell_type": "code",
   "execution_count": 49,
   "metadata": {},
   "outputs": [
    {
     "name": "stdout",
     "output_type": "stream",
     "text": [
      "{\"name\": \"Alice\", \"age\": 25}\n",
      "{'name': 'Alice', 'age': 25}\n"
     ]
    }
   ],
   "source": [
    "# 載入套件\n",
    "import json\n",
    "\n",
    "# 建立一個字典\n",
    "my_dict = {\"name\": \"Alice\", \"age\": 25}\n",
    "\n",
    "# 將字典轉換為 JSON 字串\n",
    "my_json = json.dumps(my_dict)\n",
    "print(my_json)\n",
    "\n",
    "# 將 JSON 字串轉換回字典\n",
    "my_dict_again = json.loads(my_json)\n",
    "print(my_dict_again)"
   ]
  },
  {
   "attachments": {},
   "cell_type": "markdown",
   "metadata": {},
   "source": [
    "14. update 更新"
   ]
  },
  {
   "cell_type": "code",
   "execution_count": 50,
   "metadata": {},
   "outputs": [
    {
     "name": "stdout",
     "output_type": "stream",
     "text": [
      "{'AAA': 'aaa', 'BBB': 'bbb', 'CCC': 'ccc'}\n",
      "{'AAA': 'aaa', 'BBB': 'BBB', 'CCC': 'CCC'}\n",
      "{'AAA': 'aaa', 'BBB': 'BBB', 'CCC': 'CCC', 'DDD': 'ddd', 'EEE': 'eee'}\n",
      "{'AAA': 'aaa', 'BBB': 'BBB', 'CCC': 'CCC', 'DDD': 'ddd', 'EEE': 'eee', 'FFF': 'fff'}\n",
      "{'AAA': 'aaa', 'BBB': 'BBB', 'CCC': 'CCC', 'DDD': 'ddd', 'EEE': 'eee', 'FFF': 'fff', 'HHH': 'hhh', 'III': 'iii'}\n",
      "{'AAA': 'aaa', 'BBB': 'BBB', 'CCC': 'CCC', 'DDD': 'ddd', 'EEE': 'eee', 'FFF': 'fff', 'HHH': 'hhh', 'III': 'iii', 'JJJ': 'jjj', 'KKK': 'kkk'}\n"
     ]
    }
   ],
   "source": [
    "# 初始化字典\n",
    "my_dict = {\"AAA\": \"aaa\", \"BBB\": \"bbb\", \"CCC\": \"ccc\"}\n",
    "print(my_dict)\n",
    "\n",
    "# dict.update(mapping)：使用字典更新字典\n",
    "# dict.update(mapping)\n",
    "my_dict.update({\"BBB\": \"BBB\", \"CCC\": \"CCC\"})\n",
    "print(my_dict)\n",
    "\n",
    "# dict.update(iterable)：使用可迭代物件（如列表）內的數組逐一更新字典\n",
    "my_dict.update([(\"DDD\", \"ddd\"), (\"EEE\", \"eee\")])\n",
    "print(my_dict)\n",
    "\n",
    "# dict.update(kwargs)：使用關鍵字參數中的key-value更新字典，可傳入多個\n",
    "my_dict.update(FFF='fff')\n",
    "print(my_dict) \n",
    "\n",
    "# dict.update(mapping)：使用字典更新字典\n",
    "my_dict.update({'HHH': 'hhh', 'III': 'iii'})\n",
    "print(my_dict)\n",
    "\n",
    "# dict.update(**kwargs)：使用關鍵字參數中的key-value更新字典\n",
    "my_dict.update(JJJ='jjj', KKK='kkk')\n",
    "print(my_dict) \n"
   ]
  },
  {
   "attachments": {},
   "cell_type": "markdown",
   "metadata": {},
   "source": [
    "---END---"
   ]
  }
 ],
 "metadata": {
  "kernelspec": {
   "display_name": "Python 3",
   "language": "python",
   "name": "python3"
  },
  "language_info": {
   "codemirror_mode": {
    "name": "ipython",
    "version": 3
   },
   "file_extension": ".py",
   "mimetype": "text/x-python",
   "name": "python",
   "nbconvert_exporter": "python",
   "pygments_lexer": "ipython3",
   "version": "3.11.3"
  },
  "orig_nbformat": 4
 },
 "nbformat": 4,
 "nbformat_minor": 2
}
