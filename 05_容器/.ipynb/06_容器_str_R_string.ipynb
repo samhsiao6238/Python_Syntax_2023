{
 "cells": [
  {
   "attachments": {},
   "cell_type": "markdown",
   "metadata": {},
   "source": [
    "# r-string"
   ]
  },
  {
   "attachments": {},
   "cell_type": "markdown",
   "metadata": {},
   "source": [
    "在 Python 中，我們可以使用 r-string (raw string) 來表示檔案路徑。當我們在字串前加上 'r' 或 'R'，Python 會將這個字串視為原始字串，並不會將其內部的反斜線 \\ 當作轉義字符處理。這在處理檔案路徑時十分有用，尤其是在 Windows 系統中，因為 Windows 的檔案路徑使用的是反斜線 \\。"
   ]
  },
  {
   "attachments": {},
   "cell_type": "markdown",
   "metadata": {},
   "source": [
    "1. windows\n",
    "\n",
    ">>在此範例中，r 告訴 Python 將字串作為原始字串來處理，因此，反斜線 \\ 不會被視為轉義字符。"
   ]
  },
  {
   "cell_type": "code",
   "execution_count": 1,
   "metadata": {},
   "outputs": [
    {
     "name": "stdout",
     "output_type": "stream",
     "text": [
      "C:\\Users\\Username\\Documents\\file.txt\n"
     ]
    }
   ],
   "source": [
    "filepath = r'C:\\Users\\Username\\Documents\\file.txt'\n",
    "print(filepath)"
   ]
  },
  {
   "attachments": {},
   "cell_type": "markdown",
   "metadata": {},
   "source": [
    "2. MacOS/Linux \n",
    "\n",
    ">>在 MacOS 和 Linux 中，檔案路徑使用正斜線 /，所以不需要使用 r-string。"
   ]
  },
  {
   "cell_type": "code",
   "execution_count": null,
   "metadata": {},
   "outputs": [],
   "source": [
    "filepath = '/Users/username/Documents/file.txt'"
   ]
  },
  {
   "attachments": {},
   "cell_type": "markdown",
   "metadata": {},
   "source": [
    "3. 跨平台\n",
    "\n",
    ">>在跨平台的狀況下，我們還可以使用 os 模組的 os.path.join() 函數來組合檔案路徑。os.path.join() 函數會根據你的作業系統選擇正確的路徑分隔符號，因此在 Windows 中會使用反斜線 \\，而在 MacOS/Linux 中會使用正斜線 /。"
   ]
  },
  {
   "cell_type": "code",
   "execution_count": 2,
   "metadata": {},
   "outputs": [
    {
     "name": "stdout",
     "output_type": "stream",
     "text": [
      "Users/username/Documents/file.txt\n"
     ]
    }
   ],
   "source": [
    "import os\n",
    "\n",
    "filepath = os.path.join('Users', 'username', 'Documents', 'file.txt')\n",
    "print(filepath)  # 在 Windows 中將輸出 'Users\\username\\Documents\\file.txt'，在 MacOS/Linux 中將輸出 'Users/username/Documents/file.txt'"
   ]
  },
  {
   "attachments": {},
   "cell_type": "markdown",
   "metadata": {},
   "source": [
    "---END---"
   ]
  }
 ],
 "metadata": {
  "kernelspec": {
   "display_name": "base",
   "language": "python",
   "name": "python3"
  },
  "language_info": {
   "codemirror_mode": {
    "name": "ipython",
    "version": 3
   },
   "file_extension": ".py",
   "mimetype": "text/x-python",
   "name": "python",
   "nbconvert_exporter": "python",
   "pygments_lexer": "ipython3",
   "version": "3.10.9"
  },
  "orig_nbformat": 4
 },
 "nbformat": 4,
 "nbformat_minor": 2
}
