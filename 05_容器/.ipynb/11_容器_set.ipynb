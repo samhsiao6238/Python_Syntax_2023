{
 "cells": [
  {
   "attachments": {},
   "cell_type": "markdown",
   "metadata": {},
   "source": [
    "# set 集合\n",
    "\n",
    ">>成員不可重複且不可變\n",
    "\n",
    ">>可變變數，但其成員為不可變\n",
    "\n",
    ">>無序，不可透過索引訪問\n",
    "\n",
    ">>雜湊，可雜湊不可變類型資料如整數、浮點數、字串、數組\n",
    "\n",
    ">>類似於數學中的集合，可進行聯集、交集、差集操作"
   ]
  },
  {
   "attachments": {},
   "cell_type": "markdown",
   "metadata": {},
   "source": [
    "1. 初始化 & 添加成員"
   ]
  },
  {
   "cell_type": "code",
   "execution_count": 10,
   "metadata": {},
   "outputs": [
    {
     "name": "stdout",
     "output_type": "stream",
     "text": [
      "{'AAA', 'BBB'}\n",
      "{'DDD', 'BBB', 'EEE', 'CCC', 'AAA'}\n"
     ]
    }
   ],
   "source": [
    "# 初始化一個空集合\n",
    "my_set = set()\n",
    "\n",
    "# 添加元素\n",
    "my_set.add('AAA')\n",
    "my_set.add('BBB')\n",
    "print(my_set)\n",
    "\n",
    "# 重複添加元素\n",
    "my_set.add('AAA')\n",
    "my_set.add('BBB')\n",
    "my_set.add('CCC')\n",
    "my_set.add('DDD')\n",
    "my_set.add('EEE')\n",
    "# 輸出，無序\n",
    "print(my_set)"
   ]
  },
  {
   "attachments": {},
   "cell_type": "markdown",
   "metadata": {},
   "source": [
    "2. 移除成員"
   ]
  },
  {
   "cell_type": "code",
   "execution_count": 11,
   "metadata": {},
   "outputs": [
    {
     "name": "stdout",
     "output_type": "stream",
     "text": [
      "{'CCC', 'BBB'}\n"
     ]
    }
   ],
   "source": [
    "# 初始化一個集合\n",
    "my_set = {'AAA', 'BBB', 'CCC'}\n",
    "# 移除元素\n",
    "my_set.remove('AAA')\n",
    "print(my_set) "
   ]
  },
  {
   "attachments": {},
   "cell_type": "markdown",
   "metadata": {},
   "source": [
    "3. 長度"
   ]
  },
  {
   "cell_type": "code",
   "execution_count": 12,
   "metadata": {},
   "outputs": [
    {
     "name": "stdout",
     "output_type": "stream",
     "text": [
      "3\n"
     ]
    }
   ],
   "source": [
    "# 初始化一個集合\n",
    "my_set = {'AAA', 'BBB', 'CCC'}\n",
    "\n",
    "# 查看集合長度\n",
    "print(len(my_set))  # Output: 3"
   ]
  },
  {
   "attachments": {},
   "cell_type": "markdown",
   "metadata": {},
   "source": [
    "4. 成員運算子"
   ]
  },
  {
   "cell_type": "code",
   "execution_count": 13,
   "metadata": {},
   "outputs": [
    {
     "name": "stdout",
     "output_type": "stream",
     "text": [
      "True\n",
      "False\n"
     ]
    }
   ],
   "source": [
    "# 初始化一個集合\n",
    "my_set = {'AAA', 'BBB', 'CCC'}\n",
    "\n",
    "# 測試元素是否在集合中\n",
    "print('AAA' in my_set)  # Output: True\n",
    "print('DDD' in my_set)  # Output: False"
   ]
  },
  {
   "attachments": {},
   "cell_type": "markdown",
   "metadata": {},
   "source": [
    "5. 集合的數學操作"
   ]
  },
  {
   "cell_type": "code",
   "execution_count": 7,
   "metadata": {},
   "outputs": [
    {
     "name": "stdout",
     "output_type": "stream",
     "text": [
      "{1, 2, 3, 4, 5, 6}\n",
      "{3, 4}\n",
      "{1, 2}\n",
      "{5, 6}\n"
     ]
    }
   ],
   "source": [
    "# 初始化兩個集合\n",
    "set1 = {1, 2, 3, 4}\n",
    "set2 = {3, 4, 5, 6}\n",
    "\n",
    "# 聯集\n",
    "print(set1.union(set2))  # Output: {1, 2, 3, 4, 5, 6}\n",
    "\n",
    "# 交集\n",
    "print(set1.intersection(set2))  # Output: {3, 4}\n",
    "\n",
    "# 差集， se1 - set2 （與 symmetric_difference 不同）\n",
    "print(set1.difference(set2))  # Output: {1, 2}\n",
    "print(set2.difference(set1))  # Output: {5, 6}\n",
    "\n",
    "# 對稱差集\n",
    "print(set1.symmetric_difference(set2))  # Output: {1, 2, 5, 6}\n",
    "\n",
    "# isdisjoint()\n",
    "# 判斷兩個集合是否包含相同的元素，如果沒有返回 True，否則返回 False\n",
    "print(set1.isdisjoint(set2))  # Output: False\n",
    "\n",
    "# issubset() \n",
    "# 判斷集合的所有元素是否都包含在指定集合中，如果是則返回 True，否則返回 False\n",
    "print(set1.issubset(set2))  # Output: False\n",
    "\n",
    "# issuperset()\n",
    "# 判斷指定集合的所有元素是否都包含在原始的集合中，如果是則返回 True，否則返回 False\n",
    "print(set1.issuperset(set2))  # Output: False\n"
   ]
  },
  {
   "attachments": {},
   "cell_type": "markdown",
   "metadata": {},
   "source": [
    "6. discard(elem) 從集合中刪除元素\n",
    "\n",
    ">>如果元素不存在，則不進行任何操作。"
   ]
  },
  {
   "cell_type": "code",
   "execution_count": 14,
   "metadata": {},
   "outputs": [
    {
     "name": "stdout",
     "output_type": "stream",
     "text": [
      "{'AAA', 'CCC'}\n",
      "{'AAA', 'CCC'}\n"
     ]
    }
   ],
   "source": [
    "# 初始化一個集合\n",
    "my_set = {'AAA', 'BBB', 'CCC'}\n",
    "#\n",
    "my_set.discard('BBB')\n",
    "print(my_set)\n",
    "\n",
    "#\n",
    "my_set.discard('DDD')\n",
    "print(my_set)"
   ]
  },
  {
   "attachments": {},
   "cell_type": "markdown",
   "metadata": {},
   "source": [
    "7. pop() 刪除並返回集合中的一個隨機元素\n",
    "\n",
    ">>如果集合沒有成員（空），則拋出 KeyError。"
   ]
  },
  {
   "cell_type": "code",
   "execution_count": 20,
   "metadata": {},
   "outputs": [
    {
     "name": "stdout",
     "output_type": "stream",
     "text": [
      "AAA\n",
      "{'BBB'}\n",
      "BBB\n",
      "set()\n",
      "集合已經空了\n"
     ]
    }
   ],
   "source": [
    "# 初始化一個集合\n",
    "my_set = {'AAA', 'BBB'}\n",
    "#\n",
    "elem = my_set.pop()\n",
    "print(elem)\n",
    "print(my_set)\n",
    "\n",
    "# 再取一次\n",
    "elem = my_set.pop()\n",
    "print(elem)\n",
    "print(my_set)\n",
    "\n",
    "# 已經空，捕捉錯誤\n",
    "try:\n",
    "    my_set.pop()\n",
    "except KeyError:\n",
    "    print('集合已經空了')\n"
   ]
  },
  {
   "attachments": {},
   "cell_type": "markdown",
   "metadata": {},
   "source": [
    "8. clear() 刪除集合中的所有元素"
   ]
  },
  {
   "cell_type": "code",
   "execution_count": 21,
   "metadata": {},
   "outputs": [
    {
     "name": "stdout",
     "output_type": "stream",
     "text": [
      "set()\n"
     ]
    }
   ],
   "source": [
    "# 初始化一個集合\n",
    "my_set = {'AAA', 'BBB', 'CCC'}\n",
    "#\n",
    "my_set.clear()\n",
    "print(my_set)"
   ]
  },
  {
   "attachments": {},
   "cell_type": "markdown",
   "metadata": {},
   "source": [
    "---END---"
   ]
  }
 ],
 "metadata": {
  "kernelspec": {
   "display_name": "base",
   "language": "python",
   "name": "python3"
  },
  "language_info": {
   "codemirror_mode": {
    "name": "ipython",
    "version": 3
   },
   "file_extension": ".py",
   "mimetype": "text/x-python",
   "name": "python",
   "nbconvert_exporter": "python",
   "pygments_lexer": "ipython3",
   "version": "3.10.9"
  },
  "orig_nbformat": 4
 },
 "nbformat": 4,
 "nbformat_minor": 2
}
