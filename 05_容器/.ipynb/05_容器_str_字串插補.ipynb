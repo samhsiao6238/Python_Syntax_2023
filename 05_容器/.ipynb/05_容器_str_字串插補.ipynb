{
 "cells": [
  {
   "attachments": {},
   "cell_type": "markdown",
   "metadata": {},
   "source": [
    "1. 使用 f-string（在Python 3.6以上的版本可用）"
   ]
  },
  {
   "cell_type": "code",
   "execution_count": 1,
   "metadata": {},
   "outputs": [
    {
     "name": "stdout",
     "output_type": "stream",
     "text": [
      "Hello, John!\n"
     ]
    }
   ],
   "source": [
    "name = \"John\"\n",
    "print(f\"Hello, {name}!\")"
   ]
  },
  {
   "attachments": {},
   "cell_type": "markdown",
   "metadata": {},
   "source": [
    "2. 使用.format()"
   ]
  },
  {
   "cell_type": "code",
   "execution_count": 2,
   "metadata": {},
   "outputs": [
    {
     "name": "stdout",
     "output_type": "stream",
     "text": [
      "Hello, John!\n"
     ]
    }
   ],
   "source": [
    "name = \"John\"\n",
    "print(\"Hello, {}!\".format(name))"
   ]
  },
  {
   "attachments": {},
   "cell_type": "markdown",
   "metadata": {},
   "source": [
    "3. 使用%"
   ]
  },
  {
   "cell_type": "code",
   "execution_count": 3,
   "metadata": {},
   "outputs": [
    {
     "name": "stdout",
     "output_type": "stream",
     "text": [
      "Hello, John!\n"
     ]
    }
   ],
   "source": [
    "name = \"John\"\n",
    "print(\"Hello, %s!\" % name)"
   ]
  },
  {
   "attachments": {},
   "cell_type": "markdown",
   "metadata": {},
   "source": [
    "4. !r\n",
    "\n",
    ">- 在 f-string 語法中，<font color='red'>「!r」用於指定在插入值之前要對其調用 repr() 函數</font>。\n",
    "\n",
    ">- repr() 函數會返回該物件的「官方字串表達句」，也就是說，該「官方字串表達句」應該足以讓 Python 能夠使用該「官方字串表達句」來重新創建或復刻該物件。(為求詳盡寫得有點咬舌)\n",
    "\n",
    ">- 如果在類中定義了 __repr__() 方法，那麼 repr() 函數就會調用這個方法來獲得「字串表示」。\n",
    "\n",
    ">- 這種表示方式的特點是，當你將這個字串傳給內建的 eval() 函數時，理論上應該可以重新生成該物件。\n",
    "\n",
    ">- 我們會嘗試讓 __repr__() 方法返回一個字串，這個字串能夠表達出如何創建一個與當前對象相同的新對象。"
   ]
  },
  {
   "cell_type": "code",
   "execution_count": 5,
   "metadata": {},
   "outputs": [
    {
     "name": "stdout",
     "output_type": "stream",
     "text": [
      "The object is: Example(5)\n"
     ]
    }
   ],
   "source": [
    "class Example:\n",
    "    def __init__(self, value):\n",
    "        self.value = value\n",
    "\n",
    "    def __repr__(self):\n",
    "        return f\"Example({self.value})\"\n",
    "\n",
    "example = Example(5)\n",
    "\n",
    "# 使用 f-string 和 !r 語法\n",
    "print(f\"The object is: {example!r}\") \n"
   ]
  },
  {
   "cell_type": "code",
   "execution_count": 3,
   "metadata": {},
   "outputs": [
    {
     "name": "stdout",
     "output_type": "stream",
     "text": [
      "Vector(1, 2) 140510001281456\n",
      "Vector(1, 2) 140510001280240\n",
      "Vector(1, 2) 140510000952176\n"
     ]
    }
   ],
   "source": [
    "class Vector:\n",
    "    def __init__(self, x, y):\n",
    "        self.x = x\n",
    "        self.y = y\n",
    "\n",
    "    def __repr__(self):\n",
    "        return f\"Vector({self.x}, {self.y})\"\n",
    "    \n",
    "v = Vector(1, 2)\n",
    "v1 = repr(v)\n",
    "print(v1, id(v1))\n",
    "v2 = repr(v)\n",
    "print(v2, id(v2))\n",
    "v3 = eval(repr(v))\n",
    "print(v3, id(v3))\n"
   ]
  },
  {
   "attachments": {},
   "cell_type": "markdown",
   "metadata": {},
   "source": [
    "---END---"
   ]
  }
 ],
 "metadata": {
  "kernelspec": {
   "display_name": "base",
   "language": "python",
   "name": "python3"
  },
  "language_info": {
   "codemirror_mode": {
    "name": "ipython",
    "version": 3
   },
   "file_extension": ".py",
   "mimetype": "text/x-python",
   "name": "python",
   "nbconvert_exporter": "python",
   "pygments_lexer": "ipython3",
   "version": "3.10.9"
  },
  "orig_nbformat": 4
 },
 "nbformat": 4,
 "nbformat_minor": 2
}
