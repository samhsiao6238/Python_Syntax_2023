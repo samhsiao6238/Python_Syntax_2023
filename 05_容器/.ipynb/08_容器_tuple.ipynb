{
 "cells": [
  {
   "attachments": {},
   "cell_type": "markdown",
   "metadata": {},
   "source": [
    "# 數組 或 元組 tuple \n",
    "\n",
    ">>不可變的(Immutable)\n",
    "\n",
    ">>有序序列，可通過索引訪問\n",
    "\n",
    ">>成員可以是不同資料類型，成員也可以是數組\n",
    "\n",
    ">>因為不可變，所以可用做字典(dict)的鍵(key)\n",
    "\n",
    ">>可作為集合(set)的成員，但列表(list)不行\n",
    "\n",
    ">>可使用一個數組來打包一個函數同時傳出的多的回傳值。"
   ]
  },
  {
   "attachments": {},
   "cell_type": "markdown",
   "metadata": {},
   "source": [
    "1. 初始化\n",
    "\n",
    ">>因為不可變，所以初始化後重新指定數組的內容等同是建立新的數組\n",
    "\n",
    ">>可用小括號「( )」建立\n",
    "\n",
    ">>可用「,」相隔來建立，也稱為「打包」，反向動作稱為「解包」"
   ]
  },
  {
   "cell_type": "code",
   "execution_count": 13,
   "metadata": {},
   "outputs": [
    {
     "name": "stdout",
     "output_type": "stream",
     "text": [
      "() <class 'tuple'>\n",
      "(1, 2, 3) <class 'tuple'>\n",
      "(1, 2, 3) 140401150822848\n",
      "(1, 2, 3) 140401151079872\n",
      "1\n",
      "(1, 2, 3, 'Hello', True)\n",
      "發生錯誤，錯誤訊息： 'tuple' object does not support item assignment\n"
     ]
    }
   ],
   "source": [
    "# 初始化一個空元組\n",
    "my_tuple = ()\n",
    "print(my_tuple, type(my_tuple))\n",
    "\n",
    "# 使用「,」初始化一個元組\n",
    "my_tuple = 1, 2, 3\n",
    "print(my_tuple, type(my_tuple))\n",
    "\n",
    "# 原本的 id\n",
    "print(my_tuple, id(my_tuple))   # 結果：(1, 2, 3) 140704816316800\n",
    "# 重新指定數組的成員\n",
    "my_tuple = (1, 2, 3)\n",
    "# 重新指定後的 id\n",
    "print(my_tuple, id(my_tuple))   # 結果：(1, 2, 3) 140704816316800\n",
    "\n",
    "# 訪問元組的成員\n",
    "print(my_tuple[0]) # 1\n",
    "\n",
    "# 成員可以是不同的資料型態\n",
    "my_tuple = (1, 2, 3, 'Hello', True)\n",
    "print(my_tuple)\n",
    "\n",
    "# 元組的成員不可以被修改\n",
    "# 透過 try-except 來捕捉錯誤\n",
    "try:\n",
    "    # 嘗試修改元組的成員\n",
    "    my_tuple[0] = 100\n",
    "except TypeError as e:\n",
    "    # 顯示錯誤訊息\n",
    "    print(f'發生錯誤，錯誤訊息： {e}')"
   ]
  },
  {
   "attachments": {},
   "cell_type": "markdown",
   "metadata": {},
   "source": [
    "2. 只有一個成員的數組"
   ]
  },
  {
   "cell_type": "code",
   "execution_count": 9,
   "metadata": {},
   "outputs": [
    {
     "name": "stdout",
     "output_type": "stream",
     "text": [
      "(1,)\n"
     ]
    }
   ],
   "source": [
    "# 定義一個只包含一個元素的元組\n",
    "# 需要添加逗號來防止被誤認為數學表達式(加減乘除的括號)\n",
    "my_single_tuple = (1,)  \n",
    "print(my_single_tuple)  # Output: (1,)"
   ]
  },
  {
   "attachments": {},
   "cell_type": "markdown",
   "metadata": {},
   "source": [
    "3. index 索引"
   ]
  },
  {
   "cell_type": "code",
   "execution_count": 15,
   "metadata": {},
   "outputs": [
    {
     "name": "stdout",
     "output_type": "stream",
     "text": [
      "('AAA', 'BBB', 'CCC', 'DDD', 'EEE')\n",
      "AAA\n",
      "EEE\n",
      "('BBB', 'CCC')\n",
      "('AAA', 'BBB')\n",
      "('BBB', 'CCC', 'DDD', 'EEE')\n",
      "('AAA', 'BBB', 'CCC', 'DDD', 'EEE')\n"
     ]
    }
   ],
   "source": [
    "# 初始化一個元組\n",
    "my_tuple = ('AAA', 'BBB', 'CCC', 'DDD', 'EEE')\n",
    "print(my_tuple)  # ('AAA', 'BBB', 'CCC', 'DDD', 'EEE')\n",
    "\n",
    "# 單一索引\n",
    "print(my_tuple[0])  # AAA\n",
    "# 負索引，從最後開始計算，-1 表示最後一個元素\n",
    "print(my_tuple[-1])  # EEE\n",
    "\n",
    "# 範圍索引，或稱切片\n",
    "print(my_tuple[1:3])  # ('BBB', 'CCC')\n",
    "# 範圍索引，從0開始，到索引2(不包含)的元素\n",
    "print(my_tuple[:2])  # ('AAA', 'BBB')\n",
    "# 範圍索引，從索引1開始，到最後一個元素\n",
    "print(my_tuple[1:])  # ('BBB', 'CCC', 'DDD', 'EEE')\n",
    "# 範圍索引，從頭到尾\n",
    "print(my_tuple[:])  # ('AAA', 'BBB', 'CCC', 'DDD', 'EEE')"
   ]
  },
  {
   "attachments": {},
   "cell_type": "markdown",
   "metadata": {},
   "source": [
    "4. len 長度"
   ]
  },
  {
   "cell_type": "code",
   "execution_count": 21,
   "metadata": {},
   "outputs": [
    {
     "name": "stdout",
     "output_type": "stream",
     "text": [
      "數組的長度是 5\n"
     ]
    }
   ],
   "source": [
    "# 初始化一個元組\n",
    "my_tuple = ('AAA', 'BBB', 'CCC', 'DDD', 'EEE')\n",
    "# 使用 len() 函式取得元組的長度，有傳出值\n",
    "_len = len(my_tuple)\n",
    "print(f'數組的長度是 {_len}')"
   ]
  },
  {
   "attachments": {},
   "cell_type": "markdown",
   "metadata": {},
   "source": [
    "5. count 計算"
   ]
  },
  {
   "cell_type": "code",
   "execution_count": 18,
   "metadata": {},
   "outputs": [
    {
     "name": "stdout",
     "output_type": "stream",
     "text": [
      "AAA 出現的次數 2\n"
     ]
    }
   ],
   "source": [
    "# count(element): 返回元组中出现的指定元素的次数\n",
    "my_tuple = ('AAA', 'BBB', 'CCC', 'DDD', 'EEE', 'AAA')\n",
    "# 計算 AAA 出現的次數\n",
    "_count = my_tuple.count('AAA')\n",
    "# 輸出結果\n",
    "print(f'AAA 出現的次數 {_count}')  # AAA 出現的次數2"
   ]
  },
  {
   "attachments": {},
   "cell_type": "markdown",
   "metadata": {},
   "source": [
    "6. 解包（相對於打包）"
   ]
  },
  {
   "cell_type": "code",
   "execution_count": 24,
   "metadata": {},
   "outputs": [
    {
     "name": "stdout",
     "output_type": "stream",
     "text": [
      "a=AAA, b=BBB, c=CCC, d=DDD, e=EEE\n"
     ]
    }
   ],
   "source": [
    "# 初始化一個元組\n",
    "my_tuple = ('AAA', 'BBB', 'CCC', 'DDD', 'EEE')\n",
    "\n",
    "# 元組解包\n",
    "a, b, c, d, e = my_tuple\n",
    "print(f'a={a}, b={b}, c={c}, d={d}, e={e}')\n"
   ]
  },
  {
   "attachments": {},
   "cell_type": "markdown",
   "metadata": {},
   "source": [
    "---END---"
   ]
  }
 ],
 "metadata": {
  "kernelspec": {
   "display_name": "base",
   "language": "python",
   "name": "python3"
  },
  "language_info": {
   "codemirror_mode": {
    "name": "ipython",
    "version": 3
   },
   "file_extension": ".py",
   "mimetype": "text/x-python",
   "name": "python",
   "nbconvert_exporter": "python",
   "pygments_lexer": "ipython3",
   "version": "3.10.9"
  },
  "orig_nbformat": 4
 },
 "nbformat": 4,
 "nbformat_minor": 2
}
