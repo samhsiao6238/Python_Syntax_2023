{
 "cells": [
  {
   "attachments": {},
   "cell_type": "markdown",
   "metadata": {},
   "source": [
    "# *args 和 **kwargs\n"
   ]
  },
  {
   "attachments": {},
   "cell_type": "markdown",
   "metadata": {},
   "source": [
    ">>1. 「*args」和「**kwargs」是Python正式的語法，被用在函數定義中，以允許函數接收<font color='red'>彈性數量</font>的參數。\n",
    "\n",
    ">>2. 「args」是「arguments」的縮寫，表示<font color='red'>位置參數列表</font>，而「kwargs」是「keyword arguments」的縮寫，表示<font color='red'>關鍵字參數字典</font>。\n",
    "\n",
    ">>3. 「args」和「kwargs」只是約定俗成的名稱，並非保留字或語法。"
   ]
  },
  {
   "attachments": {},
   "cell_type": "markdown",
   "metadata": {},
   "source": []
  },
  {
   "attachments": {},
   "cell_type": "markdown",
   "metadata": {},
   "source": [
    "1. *args"
   ]
  },
  {
   "attachments": {},
   "cell_type": "markdown",
   "metadata": {},
   "source": [
    "使用 *args 讓函數可以接收任意數量的<font color='red'>位置參數</font>，並將它們儲存在一個名為「args」的 tuple 中，使用在不確定函數會接收多少個參數的情境。"
   ]
  },
  {
   "cell_type": "code",
   "execution_count": 4,
   "metadata": {},
   "outputs": [
    {
     "name": "stdout",
     "output_type": "stream",
     "text": [
      "<class 'tuple'>\n",
      "------------------\n",
      "<class 'int'>\n",
      "1\n",
      "<class 'int'>\n",
      "2\n",
      "<class 'int'>\n",
      "3\n",
      "<class 'str'>\n",
      "four\n"
     ]
    }
   ],
   "source": [
    "# 定義一個函式，接收任意數量的參數，並印出參數的型別與值\n",
    "def print_args(*args):\n",
    "    # args是一個tuple\n",
    "    print(type(args))\n",
    "    print('------------------')\n",
    "    # 逐一印出args的元素\n",
    "    for arg in args:\n",
    "        print(type(arg))\n",
    "        print(arg)\n",
    "\n",
    "# 呼叫函式，傳入1, 2, 3, 'four'四個引數\n",
    "print_args(1, 2, 3, 'four')\n"
   ]
  },
  {
   "attachments": {},
   "cell_type": "markdown",
   "metadata": {},
   "source": [
    "2. **kwargs"
   ]
  },
  {
   "attachments": {},
   "cell_type": "markdown",
   "metadata": {},
   "source": [
    "**kwargs 的使用方式類似於 *args，它允許接收任意數量的<font color='red'>關鍵字參數</font>，並將它們儲存在一個名為「kwargs」的字典中，讓函數可以操作key-value組成的對。"
   ]
  },
  {
   "cell_type": "code",
   "execution_count": 5,
   "metadata": {},
   "outputs": [
    {
     "name": "stdout",
     "output_type": "stream",
     "text": [
      "AAA = aaa\n",
      "BBB = bbb\n",
      "CCC = 999\n"
     ]
    }
   ],
   "source": [
    "# 定義一個函式，接收任意數量的關鍵字參數，並印出參數的名稱與值\n",
    "def print_kwargs(**kwargs):\n",
    "    for key, value in kwargs.items():\n",
    "        print(f'{key} = {value}')\n",
    "#\n",
    "print_kwargs(AAA='aaa', BBB='bbb', CCC=999)\n"
   ]
  },
  {
   "attachments": {},
   "cell_type": "markdown",
   "metadata": {},
   "source": [
    "3. 同時接收\n",
    " \n",
    ">>函數可以同時接收 \\*args 和 \\**kwargs。在這種情況下，*args 必須出現在 **kwargs 之前。"
   ]
  },
  {
   "cell_type": "code",
   "execution_count": 8,
   "metadata": {},
   "outputs": [
    {
     "name": "stdout",
     "output_type": "stream",
     "text": [
      "1\n",
      "2\n",
      "3\n",
      "name = John\n",
      "age = 30\n"
     ]
    }
   ],
   "source": [
    "# 定義一個函式，接收任意數量的引數與關鍵字參數，並印出參數的名稱與值\n",
    "def print_args_and_kwargs(*args, **kwargs):\n",
    "    for arg in args:\n",
    "        print(arg)\n",
    "    for key, value in kwargs.items():\n",
    "        print(f'{key} = {value}')\n",
    "# 呼叫函式，傳入1, 2, 3, name='John', age=30五個引數\n",
    "print_args_and_kwargs(1, 2, 3, name='John', age=30)\n"
   ]
  },
  {
   "attachments": {},
   "cell_type": "markdown",
   "metadata": {},
   "source": [
    "---END---"
   ]
  }
 ],
 "metadata": {
  "kernelspec": {
   "display_name": "base",
   "language": "python",
   "name": "python3"
  },
  "language_info": {
   "codemirror_mode": {
    "name": "ipython",
    "version": 3
   },
   "file_extension": ".py",
   "mimetype": "text/x-python",
   "name": "python",
   "nbconvert_exporter": "python",
   "pygments_lexer": "ipython3",
   "version": "3.10.9"
  },
  "orig_nbformat": 4
 },
 "nbformat": 4,
 "nbformat_minor": 2
}
