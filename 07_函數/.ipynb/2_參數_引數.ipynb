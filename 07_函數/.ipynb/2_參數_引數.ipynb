{
 "cells": [
  {
   "attachments": {},
   "cell_type": "markdown",
   "metadata": {},
   "source": [
    "# 在 Python 中，參數（Parameter）和引數（Argument）雖然在一些場合可以交換使用，但是它們通常有著微妙的區別："
   ]
  },
  {
   "attachments": {},
   "cell_type": "markdown",
   "metadata": {},
   "source": [
    "參數（Parameter）：在定義函數或方法時，我們在括號內列出的變數被稱為「參數」。它們是函數或方法的輸入規範。"
   ]
  },
  {
   "cell_type": "code",
   "execution_count": 1,
   "metadata": {},
   "outputs": [],
   "source": [
    "def add(a, b):  # 'a' and 'b' are parameters\n",
    "    return a + b\n"
   ]
  },
  {
   "attachments": {},
   "cell_type": "markdown",
   "metadata": {},
   "source": [
    "引數（Argument）：當我們調用函數或方法時，我們在括號內提供的值被稱為「引數」。它們是實際傳遞給函數或方法的具體值。"
   ]
  },
  {
   "cell_type": "code",
   "execution_count": 2,
   "metadata": {},
   "outputs": [],
   "source": [
    "result = add(2, 3)  # 2 and 3 are arguments\n"
   ]
  },
  {
   "attachments": {},
   "cell_type": "markdown",
   "metadata": {},
   "source": [
    "在這個例子中，我們定義了一個名為 add 的函數，它接受兩個參數 a 和 b。然後，我們調用這個函數，並傳遞了兩個引數 2 和 3 給它。\n",
    "\n",
    "此外，Python 還支持一些更進階的參數和引數處理方式，如預設參數（default parameters）、關鍵字引數（keyword arguments）、可變長度引數（variable-length arguments）等。"
   ]
  }
 ],
 "metadata": {
  "kernelspec": {
   "display_name": "base",
   "language": "python",
   "name": "python3"
  },
  "language_info": {
   "codemirror_mode": {
    "name": "ipython",
    "version": 3
   },
   "file_extension": ".py",
   "mimetype": "text/x-python",
   "name": "python",
   "nbconvert_exporter": "python",
   "pygments_lexer": "ipython3",
   "version": "3.9.7"
  },
  "orig_nbformat": 4
 },
 "nbformat": 4,
 "nbformat_minor": 2
}
