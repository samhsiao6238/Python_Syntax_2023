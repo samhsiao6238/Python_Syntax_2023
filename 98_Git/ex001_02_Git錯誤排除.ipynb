{
 "cells": [
  {
   "attachments": {},
   "cell_type": "markdown",
   "metadata": {},
   "source": [
    "### 1. 排除 LF would be replaced by CRLF\n",
    "[參考網址](https://linuxhint.com/fix-lf-will-replaced-by-crlf-warning-in-gif/)\n",
    "\n",
    "指令：\n",
    "\n",
    "git config --global core.autocrlf false"
   ]
  }
 ],
 "metadata": {
  "language_info": {
   "name": "python"
  },
  "orig_nbformat": 4
 },
 "nbformat": 4,
 "nbformat_minor": 2
}
