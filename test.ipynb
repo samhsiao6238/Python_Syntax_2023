{
 "cells": [
  {
   "cell_type": "code",
   "execution_count": null,
   "metadata": {},
   "outputs": [],
   "source": [
    "# a 是一個陣列\n",
    "a = [1, 2, 3, 4, 5]\n",
    "# b 是一個陣列\n",
    "b = [6, 7, 8, 9, 10]\n",
    "# \n",
    "c = [11, 12, 13, 14, 15]\n",
    "d = [16, 17, 18, 19, 20]"
   ]
  }
 ],
 "metadata": {
  "language_info": {
   "name": "python"
  }
 },
 "nbformat": 4,
 "nbformat_minor": 2
}
