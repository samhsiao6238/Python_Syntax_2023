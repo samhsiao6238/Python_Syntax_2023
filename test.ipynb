{
 "cells": [
  {
   "cell_type": "code",
   "execution_count": null,
   "metadata": {},
   "outputs": [],
   "source": [
    "# a 是一個陣列\n",
    "a = [1, 2, 3, 4, 5]\n",
    "# b 是一個陣列\n",
    "b = [6, 7, 8, 9, 10]\n",
    "# \n",
    "c = [11, 12, 13, 14, 15]\n",
    "d = [16, 17, 18, 19, 20]"
   ]
  }
 ],
 "metadata": {
  "kernelspec": {
   "display_name": "env396",
   "language": "python",
   "name": "python3"
  },
  "language_info": {
   "name": "python",
   "version": "3.9.6"
  }
 },
 "nbformat": 4,
 "nbformat_minor": 2
}
