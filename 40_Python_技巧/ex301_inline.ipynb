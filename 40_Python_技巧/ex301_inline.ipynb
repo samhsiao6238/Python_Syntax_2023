{
 "cells": [
  {
   "attachments": {},
   "cell_type": "markdown",
   "metadata": {},
   "source": [
    "### 條件表達式（或稱三元運算符）"
   ]
  },
  {
   "cell_type": "code",
   "execution_count": 3,
   "metadata": {},
   "outputs": [
    {
     "data": {
      "text/plain": [
       "20"
      ]
     },
     "execution_count": 3,
     "metadata": {},
     "output_type": "execute_result"
    }
   ],
   "source": [
    "x = 10\n",
    "y = 20\n",
    "# 如果 x > y，則回傳 x，否則回傳 y\n",
    "result = x if x > y else y  \n",
    "result"
   ]
  },
  {
   "attachments": {},
   "cell_type": "markdown",
   "metadata": {},
   "source": [
    "### 列表生成式（List Comprehension）"
   ]
  },
  {
   "cell_type": "code",
   "execution_count": null,
   "metadata": {},
   "outputs": [],
   "source": [
    "numbers = [1, 2, 3, 4, 5]\n",
    "# 將 numbers 中的每個元素平方後，再將結果放入 squares\n",
    "# 產生一個新列表(List)，其中的元素為 numbers 列表中數字的平方\n",
    "squares = [x**2 for x in numbers]  "
   ]
  },
  {
   "attachments": {},
   "cell_type": "markdown",
   "metadata": {},
   "source": [
    "### 函式定義與lambda表達式"
   ]
  },
  {
   "attachments": {},
   "cell_type": "markdown",
   "metadata": {},
   "source": [
    "單一參數"
   ]
  },
  {
   "cell_type": "code",
   "execution_count": null,
   "metadata": {},
   "outputs": [],
   "source": [
    "# 這是一個接受一個參數，並回傳該參數加 10 的 lambda 函數\n",
    "add_ten = lambda x: x + 10\n",
    "print(add_ten(5))  # 輸出: 15\n"
   ]
  },
  {
   "attachments": {},
   "cell_type": "markdown",
   "metadata": {},
   "source": [
    "多個參數"
   ]
  },
  {
   "cell_type": "code",
   "execution_count": 5,
   "metadata": {},
   "outputs": [
    {
     "data": {
      "text/plain": [
       "30"
      ]
     },
     "execution_count": 5,
     "metadata": {},
     "output_type": "execute_result"
    }
   ],
   "source": [
    "# 定義一個函式，將兩個數字相加後回傳結果\n",
    "add = lambda x, y: x + y  \n",
    "# result為30\n",
    "result = add(10, 20) \n",
    "result"
   ]
  },
  {
   "cell_type": "code",
   "execution_count": null,
   "metadata": {},
   "outputs": [],
   "source": [
    "# 這是一個接受兩個參數，並回傳兩者相乘結果的 lambda 函數\n",
    "multiply = lambda x, y: x * y\n",
    "print(multiply(3, 7))  # 輸出: 21"
   ]
  },
  {
   "attachments": {},
   "cell_type": "markdown",
   "metadata": {},
   "source": [
    "lambda 函數經常與 Python 的內置函數如 filter(), map(), 和 sorted() 等一起使用，下面範例裡的 key 參數決定了排序的方式，lambda x: x[1] 表示根據每個元素的第二個字符來排序。"
   ]
  },
  {
   "cell_type": "code",
   "execution_count": null,
   "metadata": {},
   "outputs": [],
   "source": [
    "# 用 lambda 函數將列表中的數字加倍\n",
    "nums = [1, 2, 3, 4, 5]\n",
    "doubled = list(map(lambda x: x * 2, nums))\n",
    "print(doubled)  # 輸出: [2, 4, 6, 8, 10]\n",
    "\n",
    "# 用 lambda 函數過濾出列表中的偶數\n",
    "nums = [1, 2, 3, 4, 5]\n",
    "evens = list(filter(lambda x: x % 2 == 0, nums))\n",
    "print(evens)  # 輸出: [2, 4]\n",
    "\n",
    "# 使用 lambda 函數根據元素的第二個字符進行排序\n",
    "words = [\"apple\", \"banana\", \"cherry\"]\n",
    "sorted_words = sorted(words, key=lambda x: x[1])\n",
    "print(sorted_words)  # 輸出: ['banana', 'apple', 'cherry']\n"
   ]
  },
  {
   "attachments": {},
   "cell_type": "markdown",
   "metadata": {},
   "source": [
    "除了這些，lambda 表達式還可以與 reduce() 函數一起使用，這是一種常見的在列表上進行累積操作的方法。例如，我們可以使用 reduce() 和 lambda 函數來計算一個列表的所有元素的乘積："
   ]
  },
  {
   "cell_type": "code",
   "execution_count": 1,
   "metadata": {},
   "outputs": [
    {
     "name": "stdout",
     "output_type": "stream",
     "text": [
      "120\n"
     ]
    }
   ],
   "source": [
    "from functools import reduce\n",
    "# 使用 lambda 函數計算列表中所有數字的乘積\n",
    "nums = [1, 2, 3, 4, 5]\n",
    "product = reduce(lambda x, y: x * y, nums)\n",
    "print(product)  # 輸出: 120"
   ]
  },
  {
   "attachments": {},
   "cell_type": "markdown",
   "metadata": {},
   "source": [
    "此外，lambda 表達式也可以用在一些 Python 函數的參數中，這些函數接受一個函數作為參數。例如，max() 函數和 min() 函數可以接受一個 key 參數來決定如何比較元素，這裡，lambda x: abs(x) 函數用於計算每個數字的絕對值，並將其用於比較。"
   ]
  },
  {
   "cell_type": "code",
   "execution_count": 3,
   "metadata": {},
   "outputs": [
    {
     "name": "stdout",
     "output_type": "stream",
     "text": [
      "-5\n"
     ]
    }
   ],
   "source": [
    "# 找出列表中數字的絕對值最大的數\n",
    "nums = [1, -2, 3, -4, -5]\n",
    "max_num = max(nums, key=lambda x: abs(x))\n",
    "print(max_num)  # 輸出: -5\n"
   ]
  }
 ],
 "metadata": {
  "kernelspec": {
   "display_name": "base",
   "language": "python",
   "name": "python3"
  },
  "language_info": {
   "codemirror_mode": {
    "name": "ipython",
    "version": 3
   },
   "file_extension": ".py",
   "mimetype": "text/x-python",
   "name": "python",
   "nbconvert_exporter": "python",
   "pygments_lexer": "ipython3",
   "version": "3.10.11"
  },
  "orig_nbformat": 4
 },
 "nbformat": 4,
 "nbformat_minor": 2
}
