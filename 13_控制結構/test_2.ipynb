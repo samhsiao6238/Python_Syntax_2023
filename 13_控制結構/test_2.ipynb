{
 "cells": [
  {
   "cell_type": "code",
   "execution_count": 1,
   "metadata": {},
   "outputs": [
    {
     "name": "stdout",
     "output_type": "stream",
     "text": [
      "成年\n"
     ]
    }
   ],
   "source": [
    "age = 20\n",
    "status = \"成年\" if age >= 18 else \"未成年\"\n",
    "print(status)"
   ]
  },
  {
   "cell_type": "code",
   "execution_count": 2,
   "metadata": {},
   "outputs": [
    {
     "name": "stdout",
     "output_type": "stream",
     "text": [
      "優秀\n"
     ]
    }
   ],
   "source": [
    "score = 85\n",
    "performance = \"優秀\" if score > 80 else \"良好\" if score > 60 else \"一般\"\n",
    "print(performance)"
   ]
  },
  {
   "cell_type": "code",
   "execution_count": 3,
   "metadata": {},
   "outputs": [
    {
     "name": "stdout",
     "output_type": "stream",
     "text": [
      "5月20日\n",
      "日期不完整\n"
     ]
    }
   ],
   "source": [
    "def format_date(month, day):\n",
    "    return f\"{month}月{day}日\" if month and day else \"日期不完整\"\n",
    "print(format_date(5, 20))\n",
    "print(format_date(None, 23))"
   ]
  },
  {
   "cell_type": "code",
   "execution_count": 4,
   "metadata": {},
   "outputs": [
    {
     "name": "stdout",
     "output_type": "stream",
     "text": [
      "No data\n"
     ]
    }
   ],
   "source": [
    "data = None\n",
    "processed_data = data if data is not None else \"No data\"\n",
    "print(processed_data)"
   ]
  },
  {
   "cell_type": "code",
   "execution_count": 5,
   "metadata": {},
   "outputs": [
    {
     "name": "stdout",
     "output_type": "stream",
     "text": [
      "[1, 2, 3, 4, 5]\n"
     ]
    }
   ],
   "source": [
    "numbers = [1, 2, 3, -4, -5]\n",
    "adjusted = [x if x >= 0 else -x for x in numbers]\n",
    "print(adjusted)"
   ]
  }
 ],
 "metadata": {
  "kernelspec": {
   "display_name": ".venv",
   "language": "python",
   "name": "python3"
  },
  "language_info": {
   "codemirror_mode": {
    "name": "ipython",
    "version": 3
   },
   "file_extension": ".py",
   "mimetype": "text/x-python",
   "name": "python",
   "nbconvert_exporter": "python",
   "pygments_lexer": "ipython3",
   "version": "3.10.11"
  }
 },
 "nbformat": 4,
 "nbformat_minor": 2
}
