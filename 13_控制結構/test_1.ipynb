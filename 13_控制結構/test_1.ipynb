{
 "cells": [
  {
   "cell_type": "code",
   "execution_count": 5,
   "metadata": {},
   "outputs": [
    {
     "name": "stdout",
     "output_type": "stream",
     "text": [
      "1\n",
      "2\n",
      "3\n",
      "4\n",
      "跳出迴圈\n",
      "引發 StopIteration：<class 'StopIteration'>\n"
     ]
    }
   ],
   "source": [
    "my_list = [1, 2, 3, 4]\n",
    "my_iter = iter(my_list)\n",
    "my_iter\n",
    "for i in my_iter:\n",
    "    print(i)\n",
    "#\n",
    "print('跳出迴圈')\n",
    "try:\n",
    "    print(next(my_iter))\n",
    "except StopIteration:\n",
    "    print(f\"引發 StopIteration：{StopIteration}\")"
   ]
  },
  {
   "cell_type": "code",
   "execution_count": 1,
   "metadata": {},
   "outputs": [
    {
     "name": "stdout",
     "output_type": "stream",
     "text": [
      "2\n"
     ]
    }
   ],
   "source": [
    "class SimpleClass:\n",
    "    \n",
    "    def __getitem__(self, index):\n",
    "        return index\n",
    "\n",
    "# 建立實體\n",
    "obj = SimpleClass()\n",
    "\n",
    "# 使用 __getitem__ 方法\n",
    "print(obj[2]) "
   ]
  },
  {
   "cell_type": "code",
   "execution_count": 2,
   "metadata": {},
   "outputs": [
    {
     "name": "stdout",
     "output_type": "stream",
     "text": [
      "進入內部函數\n",
      "內部函數返回結果: 從內部函數返回\n",
      "外部函數繼續執行\n"
     ]
    }
   ],
   "source": [
    "def outer_function():\n",
    "    \n",
    "    def inner_function():\n",
    "        print(\"進入內部函數\")\n",
    "        return \"從內部函數返回\"\n",
    "        print(\"這條語句不會被執行\")\n",
    "    \n",
    "    result = inner_function()\n",
    "    print(\"內部函數返回結果:\", result)\n",
    "    print(\"外部函數繼續執行\")\n",
    "    \n",
    "outer_function()\n"
   ]
  }
 ],
 "metadata": {
  "kernelspec": {
   "display_name": ".venv",
   "language": "python",
   "name": "python3"
  },
  "language_info": {
   "codemirror_mode": {
    "name": "ipython",
    "version": 3
   },
   "file_extension": ".py",
   "mimetype": "text/x-python",
   "name": "python",
   "nbconvert_exporter": "python",
   "pygments_lexer": "ipython3",
   "version": "3.12.0"
  }
 },
 "nbformat": 4,
 "nbformat_minor": 2
}
