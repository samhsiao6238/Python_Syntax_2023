{
 "cells": [
  {
   "cell_type": "code",
   "execution_count": 15,
   "metadata": {},
   "outputs": [
    {
     "name": "stdout",
     "output_type": "stream",
     "text": [
      "Alice has access\n",
      "Bob does not have access because of age 17\n",
      "Charlie has access\n",
      "Invalid user data\n"
     ]
    }
   ],
   "source": [
    "def check_user_access(user):\n",
    "    match user:\n",
    "        case {\"name\": name, \"age\": age} if age >= 18:\n",
    "            print(f\"{name} has access\")\n",
    "        case {\"name\": name, \"age\": age}:\n",
    "            print(f\"{name} does not have access because of age {age}\")\n",
    "        case _:\n",
    "            print(\"Invalid user data\")\n",
    "\n",
    "#\n",
    "users = [\n",
    "    {\"name\": \"Alice\", \"age\": 22},\n",
    "    {\"name\": \"Bob\", \"age\": 17},\n",
    "    {\"name\": \"Charlie\", \"age\": 18},\n",
    "    {\"name\": \"Daisy\"}  # 缺少年龄信息\n",
    "]\n",
    "for user in users:\n",
    "    check_user_access(user)"
   ]
  }
 ],
 "metadata": {
  "kernelspec": {
   "display_name": ".venv",
   "language": "python",
   "name": "python3"
  },
  "language_info": {
   "codemirror_mode": {
    "name": "ipython",
    "version": 3
   },
   "file_extension": ".py",
   "mimetype": "text/x-python",
   "name": "python",
   "nbconvert_exporter": "python",
   "pygments_lexer": "ipython3",
   "version": "3.10.11"
  }
 },
 "nbformat": 4,
 "nbformat_minor": 2
}
