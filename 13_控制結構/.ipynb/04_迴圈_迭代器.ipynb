{
 "cells": [
  {
   "attachments": {},
   "cell_type": "markdown",
   "metadata": {},
   "source": [
    "# 迭代器介紹 iterator generator\n",
    "\n",
    ">- 迭代器（iterator）是一種可以記住遍歷位置的物件。\n",
    "\n",
    ">- 迭代器從集合的第一個元素開始訪問，直到所有的元素被訪問完結束。\n",
    "\n",
    ">- 一個迭代器的特點在於它會記住上一次返回時在函數體中的位置，對迭代器的下一次調用將從上次停止的地方繼續執行，這點與普通函數不同。普通函數開始時，每次都會從頭開始執行。\n",
    "\n",
    ">- 迭代器只能前進，不能後退。\n",
    "\n",
    ">- 每一種<font color='red'>可返回迭代器（iterator）的物件皆稱為可迭代物件（iterable）</font>，在 Python 內建的數據類型中如 list、tuple、dict、set、str 等都是可迭代（iterable）的。\n",
    "\n",
    ">- 可以自定義可迭代物件，只要在物件上定義兩個方法 __iter__() 和 __next__() 即可。\n",
    "\n",
    ">- 迭代器在迭代過程中不斷調用 __next__() 方法來獲取下一個值，直到遇到 StopIteration 異常為止。\n",
    "\n",
    ">- generator(生成器)是 Python 中特殊類型的迭代器（iterator），它不是 list 也不是 tuple，但是可以將其視為一種特殊的函數，可以產生一系列的結果，而不只是一個單一的值。"
   ]
  },
  {
   "cell_type": "code",
   "execution_count": 1,
   "metadata": {},
   "outputs": [
    {
     "name": "stdout",
     "output_type": "stream",
     "text": [
      "<class 'generator'>\n",
      "0\n",
      "1\n",
      "4\n",
      "9\n",
      "16\n",
      "25\n",
      "36\n",
      "49\n",
      "64\n",
      "81\n"
     ]
    }
   ],
   "source": [
    "squares =(x**2 for x in range(10))\n",
    "print(type(squares))\n",
    "for i in squares:\n",
    "    print(i)"
   ]
  },
  {
   "attachments": {},
   "cell_type": "markdown",
   "metadata": {},
   "source": [
    "這範例的 squares 是一個 generator，它將 range(10)（即0到9）中的每個數字平方。當你遍歷 squares 時，generator 每次會產生一個新的平方數，而不是一次產生所有的平方數。這種方式相對於建立一個包含所有平方數的 list 更為節省記憶體，尤其在處理大數據時。\n",
    "\n",
    "請注意，一個 generator 只能被迭代一次。當你遍歷完所有的值之後，generator 就會被清空，如果你需要再次遍歷這些值，就必須重新建立 generator。"
   ]
  },
  {
   "attachments": {},
   "cell_type": "markdown",
   "metadata": {},
   "source": [
    "可以使用 iter() 函數來建立一個迭代器"
   ]
  },
  {
   "cell_type": "code",
   "execution_count": 2,
   "metadata": {},
   "outputs": [
    {
     "name": "stdout",
     "output_type": "stream",
     "text": [
      "4\n",
      "7\n",
      "0\n",
      "3\n",
      "引發 StopIteration：<class 'StopIteration'>\n"
     ]
    }
   ],
   "source": [
    "my_list = [4, 7, 0, 3]\n",
    "my_iter = iter(my_list)\n",
    "\n",
    "# 現在，my_iter 是一個迭代器，我們可以使用 next() 函數來訪問它的下一個元素：\n",
    "print(next(my_iter))  # 輸出：4\n",
    "print(next(my_iter))  # 輸出：7\n",
    "\n",
    "# 當我們達到末尾並嘗試訪問下一個元素時，Python 會引發一個 StopIteration 異常：\n",
    "print(next(my_iter))  # 輸出：0\n",
    "print(next(my_iter)) # 輸出：3\n",
    "\n",
    "# 引發 StopIteration 異常\n",
    "try:\n",
    "    print(next(my_iter))\n",
    "except StopIteration:\n",
    "    print(f\"引發 StopIteration：{StopIteration}\")\n"
   ]
  },
  {
   "attachments": {},
   "cell_type": "markdown",
   "metadata": {},
   "source": [
    "我們還可以使用 for 迴圈來遍歷迭代器，這是因為 for 迴圈會自動處理 StopIteration 異常"
   ]
  },
  {
   "cell_type": "code",
   "execution_count": 4,
   "metadata": {},
   "outputs": [
    {
     "name": "stdout",
     "output_type": "stream",
     "text": [
      "4\n",
      "7\n",
      "0\n",
      "3\n"
     ]
    }
   ],
   "source": [
    "my_iter = iter(my_list)\n",
    "for i in my_iter:\n",
    "    print(i)\n"
   ]
  }
 ],
 "metadata": {
  "kernelspec": {
   "display_name": "Python 3",
   "language": "python",
   "name": "python3"
  },
  "language_info": {
   "codemirror_mode": {
    "name": "ipython",
    "version": 3
   },
   "file_extension": ".py",
   "mimetype": "text/x-python",
   "name": "python",
   "nbconvert_exporter": "python",
   "pygments_lexer": "ipython3",
   "version": "3.10.9"
  },
  "orig_nbformat": 4
 },
 "nbformat": 4,
 "nbformat_minor": 2
}
