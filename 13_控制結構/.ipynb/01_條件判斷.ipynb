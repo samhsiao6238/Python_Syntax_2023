{
 "cells": [
  {
   "attachments": {},
   "cell_type": "markdown",
   "metadata": {},
   "source": [
    "# if - elif - else"
   ]
  },
  {
   "cell_type": "code",
   "execution_count": 1,
   "metadata": {},
   "outputs": [
    {
     "name": "stdout",
     "output_type": "stream",
     "text": [
      "x 是一個正數\n"
     ]
    }
   ],
   "source": [
    "x = 10\n",
    "\n",
    "if x < 0:\n",
    "    print(\"x 是一個負數\")\n",
    "elif x == 0:\n",
    "    print(\"x 是零\")\n",
    "else:\n",
    "    print(\"x 是一個正數\")\n"
   ]
  },
  {
   "attachments": {},
   "cell_type": "markdown",
   "metadata": {},
   "source": [
    "### 可以加上括號"
   ]
  },
  {
   "cell_type": "code",
   "execution_count": 2,
   "metadata": {},
   "outputs": [
    {
     "name": "stdout",
     "output_type": "stream",
     "text": [
      "x 是一個負數\n"
     ]
    }
   ],
   "source": [
    "x = -10\n",
    "\n",
    "if(x < 0):\n",
    "    print(\"x 是一個負數\")\n",
    "elif(x == 0):\n",
    "    print(\"x 是零\")\n",
    "else:\n",
    "    print(\"x 是一個正數\")"
   ]
  },
  {
   "attachments": {},
   "cell_type": "markdown",
   "metadata": {},
   "source": [
    "# 搭配 and、or、not"
   ]
  },
  {
   "cell_type": "code",
   "execution_count": 4,
   "metadata": {},
   "outputs": [
    {
     "name": "stdout",
     "output_type": "stream",
     "text": [
      "兩個數字都是正數\n",
      "至少有一個數字是正數\n",
      "x 不是負數\n"
     ]
    }
   ],
   "source": [
    "x = 10\n",
    "y = 5\n",
    "\n",
    "if x > 0 and y > 0:\n",
    "    print(\"兩個數字都是正數\")\n",
    "\n",
    "if x > 0 or y > 0:\n",
    "    print(\"至少有一個數字是正數\")\n",
    "\n",
    "if not x < 0:\n",
    "    print(\"x 不是負數\")\n"
   ]
  },
  {
   "attachments": {},
   "cell_type": "markdown",
   "metadata": {},
   "source": [
    "# 特別說明\n",
    "\n",
    ">下面這個例子，看似與上面這個例子相同，但實際上判斷式中比較的並不是x>0所代表的True，而是True這個保留字所代表的二進位數值"
   ]
  },
  {
   "cell_type": "code",
   "execution_count": 2,
   "metadata": {},
   "outputs": [
    {
     "name": "stdout",
     "output_type": "stream",
     "text": [
      "兩個數字都是正數\n",
      "至少有一個數字是正數\n",
      "x 不是負數\n"
     ]
    }
   ],
   "source": [
    "x = 10\n",
    "y = 5\n",
    "\n",
    "if (x > 0) & (y > 0):\n",
    "    print(\"兩個數字都是正數\")\n",
    "\n",
    "if x > 0 | y > 0:\n",
    "    print(\"至少有一個數字是正數\")\n",
    "\n",
    "if ~ x < 0:\n",
    "    print(\"x 不是負數\")"
   ]
  }
 ],
 "metadata": {
  "kernelspec": {
   "display_name": "base",
   "language": "python",
   "name": "python3"
  },
  "language_info": {
   "codemirror_mode": {
    "name": "ipython",
    "version": 3
   },
   "file_extension": ".py",
   "mimetype": "text/x-python",
   "name": "python",
   "nbconvert_exporter": "python",
   "pygments_lexer": "ipython3",
   "version": "3.10.9"
  },
  "orig_nbformat": 4
 },
 "nbformat": 4,
 "nbformat_minor": 2
}
