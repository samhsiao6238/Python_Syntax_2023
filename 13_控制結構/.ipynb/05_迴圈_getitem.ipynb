{
 "cells": [
  {
   "attachments": {},
   "cell_type": "markdown",
   "metadata": {},
   "source": [
    "# __getitem__\n",
    "\n",
    ">- 在 Python 的類中實作__getitem__() 方法並<font color='red'>不會</font>使該類的實體成為迭代器。\n",
    "\n",
    ">- Python 會在一個物件沒有實作 __iter__() 方法，但實作了 __getitem__() 方法時，試圖將其<font color='red'>當作一個序列來迭代</font>。在這種情況下，Python 會從 0 開始調用 __getitem__() 來獲取值，然後依次增加索引<font color='red'>直到遇到 IndexError 異常為止</font>。\n",
    "\n",
    ">- 因此，即使一個物件不是真正的迭代器，但<font color='red'>只要實作了 __getitem__() 方法，也可以用 for 迴圈來迭代</font>。"
   ]
  },
  {
   "attachments": {},
   "cell_type": "markdown",
   "metadata": {},
   "source": [
    "---END---"
   ]
  }
 ],
 "metadata": {
  "language_info": {
   "name": "python"
  },
  "orig_nbformat": 4
 },
 "nbformat": 4,
 "nbformat_minor": 2
}
