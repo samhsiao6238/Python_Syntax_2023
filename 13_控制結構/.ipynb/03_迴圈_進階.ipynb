{
 "cells": [
  {
   "attachments": {},
   "cell_type": "markdown",
   "metadata": {},
   "source": [
    "# 迴圈 進階"
   ]
  },
  {
   "attachments": {},
   "cell_type": "markdown",
   "metadata": {},
   "source": [
    "1. enumerate()\n",
    "\n",
    ">- 使用 enumerate() 函數，可以在每次迴圈時獲得元素以及它的索引。"
   ]
  },
  {
   "cell_type": "code",
   "execution_count": 1,
   "metadata": {},
   "outputs": [
    {
     "name": "stdout",
     "output_type": "stream",
     "text": [
      "Word 0 is AAA\n",
      "Word 1 is BBB\n",
      "Word 2 is CCC\n"
     ]
    }
   ],
   "source": [
    "# 初始化一個 list\n",
    "words = [\"AAA\", \"BBB\", \"CCC\"]\n",
    "# 用 enumerate() 函式來取得索引值與元素值\n",
    "for i, word in enumerate(words):\n",
    "    print(f\"Word {i} is {word}\")\n"
   ]
  },
  {
   "attachments": {},
   "cell_type": "markdown",
   "metadata": {},
   "source": [
    "2. dict + items()\n",
    "\n",
    ">- 遍歷一個字典的鍵和值"
   ]
  },
  {
   "cell_type": "code",
   "execution_count": 2,
   "metadata": {},
   "outputs": [
    {
     "name": "stdout",
     "output_type": "stream",
     "text": [
      "The AAA is aaa\n",
      "The BBB is bbb\n",
      "The CCC is 999\n"
     ]
    }
   ],
   "source": [
    "# 初始化一個字典\n",
    "dictionary = {\"AAA\": \"aaa\", \"BBB\": \"bbb\", \"CCC\": 999}\n",
    "# 用 items() 函式來取得索引值與元素值\n",
    "for key, value in dictionary.items():\n",
    "    print(f\"The {key} is {value}\")\n"
   ]
  },
  {
   "attachments": {},
   "cell_type": "markdown",
   "metadata": {},
   "source": [
    "3. dict + keys()、values() 或 直接遍歷"
   ]
  },
  {
   "cell_type": "code",
   "execution_count": 3,
   "metadata": {},
   "outputs": [
    {
     "name": "stdout",
     "output_type": "stream",
     "text": [
      "AAA\n",
      "BBB\n",
      "CCC\n",
      "------------------\n",
      "aaa\n",
      "bbb\n",
      "999\n",
      "------------------\n",
      "AAA\n",
      "BBB\n",
      "CCC\n"
     ]
    }
   ],
   "source": [
    "# 初始化一個字典\n",
    "dictionary = {\"AAA\": \"aaa\", \"BBB\": \"bbb\", \"CCC\": 999}\n",
    "# 假如只想要取得 dictionary 的 key \n",
    "for key in dictionary.keys():\n",
    "    print(key)\n",
    "print('------------------')\n",
    "# 假如只想要取得 dictionary 的 value\n",
    "for value in dictionary.values():\n",
    "    print(value)\n",
    "print('------------------')\n",
    "# 假如沒有說明，預設就是取得 key\n",
    "for _data in dictionary:\n",
    "    print(_data)"
   ]
  },
  {
   "attachments": {},
   "cell_type": "markdown",
   "metadata": {},
   "source": [
    "4. 列表推導式（list comprehension）\n",
    "\n",
    ">- 在 for 迴圈中以列表推導式（list comprehension）創建 list"
   ]
  },
  {
   "cell_type": "code",
   "execution_count": 4,
   "metadata": {},
   "outputs": [
    {
     "name": "stdout",
     "output_type": "stream",
     "text": [
      "[0, 1, 4, 9, 16, 25, 36, 49, 64, 81]\n",
      "squares的資料型態為: <class 'list'>\n"
     ]
    }
   ],
   "source": [
    "# 建立 0~9 的平方數 list\n",
    "squares = [x**2 for x in range(10)]\n",
    "print(squares)\n",
    "print(f'squares的資料型態為: {type(squares)}')"
   ]
  },
  {
   "cell_type": "code",
   "execution_count": 5,
   "metadata": {},
   "outputs": [
    {
     "name": "stdout",
     "output_type": "stream",
     "text": [
      "[0, 4, 16, 36, 64]\n",
      "squares的資料型態為: <class 'list'>\n"
     ]
    }
   ],
   "source": [
    "# 建立 0~9 的平方數 list，但只取得偶數的平方數\n",
    "squares = [x**2 for x in range(10) if x % 2 == 0]\n",
    "print(squares)\n",
    "print(f'squares的資料型態為: {type(squares)}')"
   ]
  },
  {
   "attachments": {},
   "cell_type": "markdown",
   "metadata": {},
   "source": [
    "---END---"
   ]
  }
 ],
 "metadata": {
  "kernelspec": {
   "display_name": "Python 3",
   "language": "python",
   "name": "python3"
  },
  "language_info": {
   "codemirror_mode": {
    "name": "ipython",
    "version": 3
   },
   "file_extension": ".py",
   "mimetype": "text/x-python",
   "name": "python",
   "nbconvert_exporter": "python",
   "pygments_lexer": "ipython3",
   "version": "3.10.9"
  },
  "orig_nbformat": 4
 },
 "nbformat": 4,
 "nbformat_minor": 2
}
