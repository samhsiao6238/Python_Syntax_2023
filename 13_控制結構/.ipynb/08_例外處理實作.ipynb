{
 "cells": [
  {
   "cell_type": "code",
   "execution_count": 4,
   "metadata": {},
   "outputs": [
    {
     "ename": "ZeroDivisionError",
     "evalue": "division by zero",
     "output_type": "error",
     "traceback": [
      "\u001b[0;31m---------------------------------------------------------------------------\u001b[0m",
      "\u001b[0;31mZeroDivisionError\u001b[0m                         Traceback (most recent call last)",
      "\u001b[1;32m/Volumes/SSD_01/00_Python課程專用/Python_Syntax_2023/13_控制結構/.ipynb/08_例外處理實作.ipynb 儲存格 1\u001b[0m line \u001b[0;36m2\n\u001b[1;32m      <a href='vscode-notebook-cell:/Volumes/SSD_01/00_Python%E8%AA%B2%E7%A8%8B%E5%B0%88%E7%94%A8/Python_Syntax_2023/13_%E6%8E%A7%E5%88%B6%E7%B5%90%E6%A7%8B/.ipynb/08_%E4%BE%8B%E5%A4%96%E8%99%95%E7%90%86%E5%AF%A6%E4%BD%9C.ipynb#W0sZmlsZQ%3D%3D?line=0'>1</a>\u001b[0m \u001b[39m# 這將導致 ZeroDivisionError\u001b[39;00m\n\u001b[0;32m----> <a href='vscode-notebook-cell:/Volumes/SSD_01/00_Python%E8%AA%B2%E7%A8%8B%E5%B0%88%E7%94%A8/Python_Syntax_2023/13_%E6%8E%A7%E5%88%B6%E7%B5%90%E6%A7%8B/.ipynb/08_%E4%BE%8B%E5%A4%96%E8%99%95%E7%90%86%E5%AF%A6%E4%BD%9C.ipynb#W0sZmlsZQ%3D%3D?line=1'>2</a>\u001b[0m x \u001b[39m=\u001b[39m \u001b[39m10\u001b[39;49m \u001b[39m/\u001b[39;49m \u001b[39m0\u001b[39;49m \n",
      "\u001b[0;31mZeroDivisionError\u001b[0m: division by zero"
     ]
    }
   ],
   "source": [
    "# 這將導致 ZeroDivisionError\n",
    "x = 10 / 0 "
   ]
  },
  {
   "cell_type": "code",
   "execution_count": 5,
   "metadata": {},
   "outputs": [
    {
     "ename": "ValueError",
     "evalue": "這是一個無效的值",
     "output_type": "error",
     "traceback": [
      "\u001b[0;31m---------------------------------------------------------------------------\u001b[0m",
      "\u001b[0;31mValueError\u001b[0m                                Traceback (most recent call last)",
      "\u001b[1;32m/Volumes/SSD_01/00_Python課程專用/Python_Syntax_2023/13_控制結構/.ipynb/08_例外處理實作.ipynb 儲存格 2\u001b[0m line \u001b[0;36m2\n\u001b[1;32m      <a href='vscode-notebook-cell:/Volumes/SSD_01/00_Python%E8%AA%B2%E7%A8%8B%E5%B0%88%E7%94%A8/Python_Syntax_2023/13_%E6%8E%A7%E5%88%B6%E7%B5%90%E6%A7%8B/.ipynb/08_%E4%BE%8B%E5%A4%96%E8%99%95%E7%90%86%E5%AF%A6%E4%BD%9C.ipynb#W1sZmlsZQ%3D%3D?line=0'>1</a>\u001b[0m \u001b[39m# 主動引發例外\u001b[39;00m\n\u001b[0;32m----> <a href='vscode-notebook-cell:/Volumes/SSD_01/00_Python%E8%AA%B2%E7%A8%8B%E5%B0%88%E7%94%A8/Python_Syntax_2023/13_%E6%8E%A7%E5%88%B6%E7%B5%90%E6%A7%8B/.ipynb/08_%E4%BE%8B%E5%A4%96%E8%99%95%E7%90%86%E5%AF%A6%E4%BD%9C.ipynb#W1sZmlsZQ%3D%3D?line=1'>2</a>\u001b[0m \u001b[39mraise\u001b[39;00m \u001b[39mValueError\u001b[39;00m(\u001b[39m\"\u001b[39m\u001b[39m這是一個無效的值\u001b[39m\u001b[39m\"\u001b[39m)\n",
      "\u001b[0;31mValueError\u001b[0m: 這是一個無效的值"
     ]
    }
   ],
   "source": [
    "# 主動引發例外\n",
    "raise ValueError(\"這是一個無效的值\")"
   ]
  },
  {
   "cell_type": "code",
   "execution_count": 6,
   "metadata": {},
   "outputs": [
    {
     "name": "stdout",
     "output_type": "stream",
     "text": [
      "這不是一個有效的數字!\n"
     ]
    }
   ],
   "source": [
    "# 透過 try-except\n",
    "try:\n",
    "    x = int(input(\"請輸入一個數字: \"))\n",
    "except ValueError:\n",
    "    print(\"這不是一個有效的數字!\")"
   ]
  },
  {
   "cell_type": "code",
   "execution_count": 7,
   "metadata": {},
   "outputs": [
    {
     "name": "stdout",
     "output_type": "stream",
     "text": [
      "invalid literal for int() with base 10: 'good'\n",
      "這不是一個有效的數字!\n"
     ]
    }
   ],
   "source": [
    "# 透過 try-exception 捕捉例外\n",
    "try:\n",
    "    x = int(input(\"請輸入一個數字: \"))\n",
    "except ValueError as e:\n",
    "    print(e)\n",
    "    print(\"這不是一個有效的數字!\")"
   ]
  },
  {
   "cell_type": "code",
   "execution_count": 8,
   "metadata": {},
   "outputs": [
    {
     "name": "stdout",
     "output_type": "stream",
     "text": [
      "除以零!\n"
     ]
    }
   ],
   "source": [
    "# 多個 except\n",
    "try:\n",
    "    y = 10 / int(input())\n",
    "except ZeroDivisionError:\n",
    "    print(\"除以零!\")\n",
    "except ValueError:\n",
    "    print(\"這不是一個數字!\")"
   ]
  },
  {
   "cell_type": "code",
   "execution_count": 9,
   "metadata": {},
   "outputs": [
    {
     "name": "stdout",
     "output_type": "stream",
     "text": [
      "這不是一個數字!\n",
      "程式碼執行完畢！\n"
     ]
    }
   ],
   "source": [
    "# 加入 else、finnaly\n",
    "try:\n",
    "    y = 10 / int(input())\n",
    "except ZeroDivisionError:\n",
    "    print(\"除以零!\")\n",
    "except ValueError:\n",
    "    print(\"這不是一個數字!\")\n",
    "else:\n",
    "    print(f'y 值等於 {y}')\n",
    "finally:\n",
    "    print('程式碼執行完畢！')"
   ]
  },
  {
   "cell_type": "code",
   "execution_count": 10,
   "metadata": {},
   "outputs": [
    {
     "ename": "MyCustomError",
     "evalue": "這是自定義的例外",
     "output_type": "error",
     "traceback": [
      "\u001b[0;31m---------------------------------------------------------------------------\u001b[0m",
      "\u001b[0;31mMyCustomError\u001b[0m                             Traceback (most recent call last)",
      "\u001b[1;32m/Volumes/SSD_01/00_Python課程專用/Python_Syntax_2023/13_控制結構/.ipynb/08_例外處理實作.ipynb 儲存格 7\u001b[0m line \u001b[0;36m6\n\u001b[1;32m      <a href='vscode-notebook-cell:/Volumes/SSD_01/00_Python%E8%AA%B2%E7%A8%8B%E5%B0%88%E7%94%A8/Python_Syntax_2023/13_%E6%8E%A7%E5%88%B6%E7%B5%90%E6%A7%8B/.ipynb/08_%E4%BE%8B%E5%A4%96%E8%99%95%E7%90%86%E5%AF%A6%E4%BD%9C.ipynb#W6sZmlsZQ%3D%3D?line=2'>3</a>\u001b[0m     \u001b[39mpass\u001b[39;00m\n\u001b[1;32m      <a href='vscode-notebook-cell:/Volumes/SSD_01/00_Python%E8%AA%B2%E7%A8%8B%E5%B0%88%E7%94%A8/Python_Syntax_2023/13_%E6%8E%A7%E5%88%B6%E7%B5%90%E6%A7%8B/.ipynb/08_%E4%BE%8B%E5%A4%96%E8%99%95%E7%90%86%E5%AF%A6%E4%BD%9C.ipynb#W6sZmlsZQ%3D%3D?line=4'>5</a>\u001b[0m \u001b[39m# 引發自訂義例外\u001b[39;00m\n\u001b[0;32m----> <a href='vscode-notebook-cell:/Volumes/SSD_01/00_Python%E8%AA%B2%E7%A8%8B%E5%B0%88%E7%94%A8/Python_Syntax_2023/13_%E6%8E%A7%E5%88%B6%E7%B5%90%E6%A7%8B/.ipynb/08_%E4%BE%8B%E5%A4%96%E8%99%95%E7%90%86%E5%AF%A6%E4%BD%9C.ipynb#W6sZmlsZQ%3D%3D?line=5'>6</a>\u001b[0m \u001b[39mraise\u001b[39;00m MyCustomError(\u001b[39m\"\u001b[39m\u001b[39m這是自定義的例外\u001b[39m\u001b[39m\"\u001b[39m)\n",
      "\u001b[0;31mMyCustomError\u001b[0m: 這是自定義的例外"
     ]
    }
   ],
   "source": [
    "# 自訂義例外，繼承 Exception\n",
    "class MyCustomError(Exception):\n",
    "    pass\n",
    "\n",
    "# 引發自訂義例外\n",
    "raise MyCustomError(\"這是自定義的例外\")"
   ]
  },
  {
   "cell_type": "code",
   "execution_count": 11,
   "metadata": {},
   "outputs": [
    {
     "name": "stdout",
     "output_type": "stream",
     "text": [
      "嘗試提款無效的金額：-150\n"
     ]
    }
   ],
   "source": [
    "# 自訂義例外類型\n",
    "class InsufficientFundsError(Exception):\n",
    "    \"\"\"當賬戶操作會導致餘額為負時引發此例外。\"\"\"\n",
    "    pass\n",
    "\n",
    "class InvalidAmountError(Exception):\n",
    "    \"\"\"當提供的金額無效時（例如為負數）引發此例外。\"\"\"\n",
    "    pass\n",
    "\n",
    "class BankAccount:\n",
    "    def __init__(self, initial_balance):\n",
    "        self.balance = initial_balance\n",
    "\n",
    "    def withdraw(self, amount):\n",
    "        if amount < 0:\n",
    "            raise InvalidAmountError(\"提款金額必須為正數！\")\n",
    "        \n",
    "        if self.balance - amount < 0:\n",
    "            raise InsufficientFundsError(\"您的賬戶餘額不足！\")\n",
    "        \n",
    "        self.balance -= amount\n",
    "        return self.balance\n",
    "\n",
    "# 使用範例\n",
    "account = BankAccount(100)\n",
    "\n",
    "try:\n",
    "    amount_to_withdraw = -150\n",
    "    account.withdraw(amount_to_withdraw)\n",
    "except InsufficientFundsError:\n",
    "    print(f\"您的提款金額 {amount_to_withdraw} 超出了您的目前餘額！\")\n",
    "except InvalidAmountError:\n",
    "    print(f\"嘗試提款無效的金額：{amount_to_withdraw}\")\n"
   ]
  },
  {
   "cell_type": "code",
   "execution_count": 12,
   "metadata": {},
   "outputs": [
    {
     "name": "stdout",
     "output_type": "stream",
     "text": [
      "提款金額必須為正數！\n"
     ]
    }
   ],
   "source": [
    "# 自訂義例外類型，繼承 Exception\n",
    "class InsufficientFundsError(Exception):\n",
    "    \"\"\"當賬戶操作會導致餘額為負時引發此例外。\"\"\"\n",
    "\n",
    "    def __init__(self, amount, balance):\n",
    "        super().__init__(f\"提款金額 {amount} 超出了您的目前餘額 {balance}！\")\n",
    "        self.amount = amount\n",
    "        self.balance = balance\n",
    "\n",
    "    def friendly_message(self):\n",
    "        return f\"很抱歉，您目前只有 {self.balance} 元，但您希望提取 {self.amount} 元。\"\n",
    "\n",
    "# 使用範例\n",
    "account = BankAccount(100)\n",
    "\n",
    "try:\n",
    "    amount_to_withdraw = -150\n",
    "    account.withdraw(amount_to_withdraw)\n",
    "except InsufficientFundsError as e:\n",
    "    print(e.friendly_message())\n",
    "except InvalidAmountError as e:\n",
    "    print(e)\n"
   ]
  }
 ],
 "metadata": {
  "kernelspec": {
   "display_name": "env05",
   "language": "python",
   "name": "python3"
  },
  "language_info": {
   "codemirror_mode": {
    "name": "ipython",
    "version": 3
   },
   "file_extension": ".py",
   "mimetype": "text/x-python",
   "name": "python",
   "nbconvert_exporter": "python",
   "pygments_lexer": "ipython3",
   "version": "3.12.0"
  },
  "orig_nbformat": 4
 },
 "nbformat": 4,
 "nbformat_minor": 2
}
