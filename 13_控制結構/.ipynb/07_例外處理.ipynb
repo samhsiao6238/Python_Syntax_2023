{
 "cells": [
  {
   "attachments": {},
   "cell_type": "markdown",
   "metadata": {},
   "source": [
    "# Python 中的例外處理\n",
    "\n",
    ">try、except、finally 和 raise"
   ]
  },
  {
   "attachments": {},
   "cell_type": "markdown",
   "metadata": {},
   "source": [
    "# 1. try 和 except\n",
    "   \n",
    "   >可以將可能會引發錯誤的代碼塊放在 try 語句中，然後在 except 語句中處理特定的錯誤。"
   ]
  },
  {
   "cell_type": "code",
   "execution_count": 1,
   "metadata": {},
   "outputs": [
    {
     "name": "stdout",
     "output_type": "stream",
     "text": [
      "除數不可為 0\n"
     ]
    }
   ],
   "source": [
    "try:\n",
    "    # 嘗試執行的程式碼\n",
    "    x = 1 / 0\n",
    "except ZeroDivisionError:\n",
    "    # 當發生 ZeroDivisionError 時執行的程式碼\n",
    "    print(\"除數不可為 0\")\n"
   ]
  },
  {
   "attachments": {},
   "cell_type": "markdown",
   "metadata": {},
   "source": [
    "### 多個 except\n",
    "\n",
    ">可以在一個 try 語句中包含多個 except 語句來捕捉和處理不同的錯誤類型。\n",
    "\n",
    ">如果不確定可能會發生什麼錯誤，也可以捕捉所有的例外"
   ]
  },
  {
   "cell_type": "code",
   "execution_count": 4,
   "metadata": {},
   "outputs": [
    {
     "name": "stdout",
     "output_type": "stream",
     "text": [
      "其他例外\n"
     ]
    }
   ],
   "source": [
    "try:\n",
    "    # 嘗試執行的程式碼\n",
    "    x = 1 / 0\n",
    "    \n",
    "except TypeError:\n",
    "    # 當 TypeError 異常發生時執行的程式碼\n",
    "    print(TypeError)\n",
    "    \n",
    "except ValueError:\n",
    "    # 當 ValueError 異常發生時執行的程式碼\n",
    "    print(ValueError)\n",
    "    \n",
    "# 捕捉其他全部例外\n",
    "except:\n",
    "    print(\"其他例外\")\n",
    "    "
   ]
  },
  {
   "attachments": {},
   "cell_type": "markdown",
   "metadata": {},
   "source": [
    "### TypeError\n",
    "\n",
    ">TypeError 是嘗試對某個值進行不支援的操作時引發的異常。舉例來說，如果嘗試將一個整數與一個字串相加，Python 就會引發 TypeError，因為這個操作在 Python 中是無法進行的。"
   ]
  },
  {
   "cell_type": "code",
   "execution_count": 5,
   "metadata": {},
   "outputs": [
    {
     "name": "stdout",
     "output_type": "stream",
     "text": [
      "<class 'TypeError'>\n"
     ]
    }
   ],
   "source": [
    "try:\n",
    "    # 嘗試執行的程式碼\n",
    "    x = 5 + 'hello'\n",
    "    \n",
    "except TypeError:\n",
    "    # 當 TypeError 異常發生時執行的程式碼\n",
    "    print(TypeError)\n",
    "    \n",
    "except ValueError:\n",
    "    # 當 ValueError 異常發生時執行的程式碼\n",
    "    print(ValueError)\n",
    "    \n",
    "# 捕捉其他全部例外\n",
    "except:\n",
    "    print(\"其他例外\")\n",
    "    "
   ]
  },
  {
   "attachments": {},
   "cell_type": "markdown",
   "metadata": {},
   "source": [
    "### ValueError\n",
    "\n",
    ">ValueError 是當嘗試對一個函數或操作提供一個正確類型但是值不合法的參救時引發的異常。例如，如果嘗試將一個非數字的字串轉換成整數，Python 就會引發 ValueError。"
   ]
  },
  {
   "cell_type": "code",
   "execution_count": 6,
   "metadata": {},
   "outputs": [
    {
     "name": "stdout",
     "output_type": "stream",
     "text": [
      "<class 'ValueError'>\n"
     ]
    }
   ],
   "source": [
    "try:\n",
    "    # 嘗試執行的程式碼\n",
    "    x = int('hello')\n",
    "    \n",
    "except TypeError:\n",
    "    # 當 TypeError 異常發生時執行的程式碼\n",
    "    print(TypeError)\n",
    "    \n",
    "except ValueError:\n",
    "    # 當 ValueError 異常發生時執行的程式碼\n",
    "    print(ValueError)\n",
    "    \n",
    "# 捕捉其他全部例外\n",
    "except:\n",
    "    print(\"其他例外\")"
   ]
  },
  {
   "attachments": {},
   "cell_type": "markdown",
   "metadata": {},
   "source": [
    "# 2. try + except + finally\n",
    "   \n",
    "   >這個語句讓你可以指定無論是否發生錯誤，都應該在最後執行的代碼塊。"
   ]
  },
  {
   "cell_type": "code",
   "execution_count": 8,
   "metadata": {},
   "outputs": [
    {
     "name": "stdout",
     "output_type": "stream",
     "text": [
      "除數不可為零\n",
      "完成這個例外處理程式碼\n"
     ]
    }
   ],
   "source": [
    "try:\n",
    "    # 嘗試執行的程式碼\n",
    "    x = 1 / 0\n",
    "except ZeroDivisionError:\n",
    "    # 當發生 ZeroDivisionError 時執行的程式碼\n",
    "    print(\"除數不可為零\")\n",
    "finally:\n",
    "    # 無論是否發生錯誤都會執行的程式碼\n",
    "    print(\"無論是否發生錯誤，完成例外處理時都會執行此區塊\")\n"
   ]
  },
  {
   "attachments": {},
   "cell_type": "markdown",
   "metadata": {},
   "source": [
    "# 3. raise\n",
    "\n",
    ">可以使用 raise 來 ***主動觸發*** 一個特定的錯誤或例外。"
   ]
  },
  {
   "cell_type": "code",
   "execution_count": 7,
   "metadata": {},
   "outputs": [
    {
     "ename": "ValueError",
     "evalue": "發生錯誤了!",
     "output_type": "error",
     "traceback": [
      "\u001b[0;31m---------------------------------------------------------------------------\u001b[0m",
      "\u001b[0;31mValueError\u001b[0m                                Traceback (most recent call last)",
      "Cell \u001b[0;32mIn[7], line 1\u001b[0m\n\u001b[0;32m----> 1\u001b[0m \u001b[39mraise\u001b[39;00m \u001b[39mValueError\u001b[39;00m(\u001b[39m\"\u001b[39m\u001b[39m發生錯誤了!\u001b[39m\u001b[39m\"\u001b[39m)\n",
      "\u001b[0;31mValueError\u001b[0m: 發生錯誤了!"
     ]
    }
   ],
   "source": [
    "raise ValueError(\"發生錯誤了!\")\n"
   ]
  },
  {
   "attachments": {},
   "cell_type": "markdown",
   "metadata": {},
   "source": [
    "## try + else + finally"
   ]
  },
  {
   "cell_type": "code",
   "execution_count": 11,
   "metadata": {},
   "outputs": [
    {
     "name": "stdout",
     "output_type": "stream",
     "text": [
      "沒有發生錯誤時，其他要做的事，比如說輸出結果：0.5\n",
      "無論是否發生錯誤，完成例外處理時都會執行此區塊\n"
     ]
    }
   ],
   "source": [
    "try:\n",
    "    # 嘗試執行的程式碼\n",
    "    x = 1 / 2\n",
    "except Exception:\n",
    "    # 當發生任何錯誤時執行的程式碼\n",
    "    print(\"發生錯誤了!\")\n",
    "else:\n",
    "    # 當沒有發生錯誤時執行的程式碼\n",
    "    print(f\"沒有發生錯誤時，其他要做的事，比如說輸出結果：{x}\")\n",
    "    \n",
    "finally:\n",
    "    # 無論是否發生錯誤都會執行的程式碼\n",
    "    print(\"無論是否發生錯誤，完成例外處理時都會執行此區塊\")\n"
   ]
  }
 ],
 "metadata": {
  "kernelspec": {
   "display_name": "base",
   "language": "python",
   "name": "python3"
  },
  "language_info": {
   "codemirror_mode": {
    "name": "ipython",
    "version": 3
   },
   "file_extension": ".py",
   "mimetype": "text/x-python",
   "name": "python",
   "nbconvert_exporter": "python",
   "pygments_lexer": "ipython3",
   "version": "3.10.9"
  },
  "orig_nbformat": 4
 },
 "nbformat": 4,
 "nbformat_minor": 2
}
