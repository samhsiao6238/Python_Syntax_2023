{
 "cells": [
  {
   "attachments": {},
   "cell_type": "markdown",
   "metadata": {},
   "source": [
    "# 迴圈 基礎\n",
    "\n",
    ">- for\n",
    "\n",
    ">- while"
   ]
  },
  {
   "attachments": {},
   "cell_type": "markdown",
   "metadata": {},
   "source": [
    "1. for 循環\n",
    "\n",
    ">- 用於對一個可迭代物件（iterable，如列表、數組、字典、集合、字串等）中的元素進行遍歷。\n",
    "\n",
    ">- 可自定義一個<font color='red'>可迭代物件</font>，該類中必須實作 __iter__() 或 __getitem__() 方法。\n",
    "\n",
    ">- __iter__() 會返回一個迭代器，它是一個包含 __next__() 方法的物件，而 __next__() 方法會在每次迭代時返回下一個值。\n",
    "\n",
    ">- __getitem__() 方法是讓程式碼可通過索引來訪問元素。"
   ]
  },
  {
   "cell_type": "code",
   "execution_count": 5,
   "metadata": {},
   "outputs": [
    {
     "name": "stdout",
     "output_type": "stream",
     "text": [
      "H\n",
      "e\n",
      "l\n",
      "l\n",
      "o\n"
     ]
    }
   ],
   "source": [
    "# for 遍歷一個字串\n",
    "for char in \"Hello\":\n",
    "    print(char)"
   ]
  },
  {
   "cell_type": "code",
   "execution_count": 1,
   "metadata": {},
   "outputs": [
    {
     "name": "stdout",
     "output_type": "stream",
     "text": [
      "AAA\n",
      "BBB\n",
      "CCC\n"
     ]
    }
   ],
   "source": [
    "# for 遍歷一個 list\n",
    "# 建立一個 list，內容為 [\"AAA\", \"BBB\", \"CCC\"]\n",
    "elements = [\"AAA\", \"BBB\", \"CCC\"]\n",
    "# 使用 for 迴圈，印出 list 中的每一個元素\n",
    "for _e in elements:\n",
    "    print(_e)"
   ]
  },
  {
   "cell_type": "code",
   "execution_count": 7,
   "metadata": {},
   "outputs": [
    {
     "name": "stdout",
     "output_type": "stream",
     "text": [
      "0\n",
      "1\n",
      "2\n",
      "3\n",
      "4\n",
      "-------\n",
      "5\n",
      "6\n",
      "7\n",
      "8\n",
      "9\n",
      "-------\n",
      "5\n",
      "7\n",
      "9\n",
      "-------\n",
      "5\n",
      "8\n"
     ]
    }
   ],
   "source": [
    "# 使用 for 遍歷一個 range\n",
    "for i in range(5):\n",
    "    print(i)\n",
    "\n",
    "print(\"-------\")\n",
    "# 使用 for 遍歷一個 range，並指定起始值\n",
    "for i in range(5, 10):\n",
    "    print(i)\n",
    "\n",
    "print(\"-------\")\n",
    "# 使用 for 遍歷一個 range，並指定起始值、間隔值\n",
    "for i in range(5, 10, 2):\n",
    "    print(i)\n",
    "\n",
    "print(\"-------\")\n",
    "# 使用 for 遍歷一個 range，並指定起始值、間隔值、結束值\n",
    "for i in range(5, 10, 3):\n",
    "    print(i)"
   ]
  },
  {
   "attachments": {},
   "cell_type": "markdown",
   "metadata": {},
   "source": [
    "2. while 迴圈\n",
    "\n",
    ">- 在某個條件成立（True）的情況下，不斷地執行一段程式碼。當該條件不再成立（False）時，迴圈就會結束。"
   ]
  },
  {
   "cell_type": "code",
   "execution_count": 2,
   "metadata": {},
   "outputs": [
    {
     "name": "stdout",
     "output_type": "stream",
     "text": [
      "當前 count = 0\n",
      "當前 count = 1\n",
      "當前 count = 2\n",
      "當前 count = 3\n",
      "當前 count = 4\n"
     ]
    }
   ],
   "source": [
    "# \n",
    "count = 0\n",
    "# 使用 while 迴圈，當 count < 5 時，印出 count 的值\n",
    "# 「count < 5」的本身是一個布林運算式\n",
    "# 當 count < 5 時，運算式的值為 True，當 count >= 5 時，運算式的值為 False\n",
    "while count < 5:\n",
    "    print(f'當前 count = {count}')\n",
    "    # \n",
    "    count += 1 "
   ]
  },
  {
   "attachments": {},
   "cell_type": "markdown",
   "metadata": {},
   "source": [
    "3. 使用 if 判斷式模擬 Switch\n",
    "\n",
    ">- Python 沒有 Switch，但可以自己實作相同功能"
   ]
  },
  {
   "cell_type": "code",
   "execution_count": 3,
   "metadata": {},
   "outputs": [
    {
     "name": "stdout",
     "output_type": "stream",
     "text": [
      "Option A\n"
     ]
    }
   ],
   "source": [
    "# 定義一個函數來模擬 switch 的功能\n",
    "# 這裡只是打印，實際應用可以改成其他功能，也可以使用 return 傳出值\n",
    "def process(x):\n",
    "    if x == 'a':\n",
    "        print('Option A')\n",
    "    elif x == 'b':\n",
    "        print('Option B')\n",
    "    elif x == 'c':\n",
    "        print('Option C')\n",
    "    else:\n",
    "        print('Other option')\n",
    "\n",
    "#  調用函數\n",
    "process('a')\n"
   ]
  },
  {
   "attachments": {},
   "cell_type": "markdown",
   "metadata": {},
   "source": [
    "1. 使用 dict 模擬 switch \n",
    "\n",
    ">- 這種方式的優點是可將函數或方法與特定的值相關聯"
   ]
  },
  {
   "cell_type": "code",
   "execution_count": 4,
   "metadata": {},
   "outputs": [
    {
     "name": "stdout",
     "output_type": "stream",
     "text": [
      "Option A\n"
     ]
    }
   ],
   "source": [
    "def process_a():\n",
    "    print('Option A')\n",
    "\n",
    "def process_b():\n",
    "    print('Option B')\n",
    "\n",
    "def process_c():\n",
    "    print('Option C')\n",
    "\n",
    "def default_process():\n",
    "    print('Other option')\n",
    "\n",
    "# 定義一個字典，用來對應不同的函式\n",
    "switch = {\n",
    "    'a': process_a,\n",
    "    'b': process_b,\n",
    "    'c': process_c\n",
    "}\n",
    "\n",
    "# 定義一個函式來模擬 switch 的功能\n",
    "def process(x):\n",
    "    # 在這個函數內透過字典 switch 調用 dict 的 get() 方法\n",
    "    # 將函數傳入的 x 給 get\n",
    "    # 如果沒有對應的值，就會調用 default_process() 函式\n",
    "    switch.get(x, default_process)()\n",
    "\n",
    "# 調用函數\n",
    "process('a')"
   ]
  },
  {
   "attachments": {},
   "cell_type": "markdown",
   "metadata": {},
   "source": [
    "---END---"
   ]
  }
 ],
 "metadata": {
  "kernelspec": {
   "display_name": "base",
   "language": "python",
   "name": "python3"
  },
  "language_info": {
   "codemirror_mode": {
    "name": "ipython",
    "version": 3
   },
   "file_extension": ".py",
   "mimetype": "text/x-python",
   "name": "python",
   "nbconvert_exporter": "python",
   "pygments_lexer": "ipython3",
   "version": "3.10.9"
  },
  "orig_nbformat": 4
 },
 "nbformat": 4,
 "nbformat_minor": 2
}
