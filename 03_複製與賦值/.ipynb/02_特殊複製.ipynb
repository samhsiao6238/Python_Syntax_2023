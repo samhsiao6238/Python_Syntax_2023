{
 "cells": [
  {
   "attachments": {},
   "cell_type": "markdown",
   "metadata": {},
   "source": [
    "# <font color='red'>特殊複製</font>\n",
    "\n",
    ">-  eval()"
   ]
  },
  {
   "attachments": {},
   "cell_type": "markdown",
   "metadata": {},
   "source": [
    "##  eval()"
   ]
  },
  {
   "attachments": {},
   "cell_type": "markdown",
   "metadata": {},
   "source": [
    ">- 調用 Python 的內建函數 eval() 可進行<font color='red'>表達式的評估</font>。\n",
    "\n",
    ">- eval() 會解析並執行傳入字串所代表的 <font color='red'>Python 代碼</font>，而非僅展示字串本身。\n",
    "\n",
    ">- 換句話說，雖 eval() 並非設計來複製物件的，但如果傳入的是物件的字面量表達式或建立物件的表達式，那麼它可以被用來創建該物件的一個新實體，效果等效於對物件的淺複製。\n",
    "\n",
    ">- 對於魔法方法 eval() 的詳細介紹請參考「魔法方法一節」，這裡僅就如何應用它來複製物件做介紹。"
   ]
  },
  {
   "attachments": {},
   "cell_type": "markdown",
   "metadata": {},
   "source": [
    "### 檢視 eval() 的複製"
   ]
  },
  {
   "cell_type": "code",
   "execution_count": 40,
   "metadata": {},
   "outputs": [
    {
     "name": "stdout",
     "output_type": "stream",
     "text": [
      "複製的物件與援物件內容相同，但不是同一個物件\n",
      "內容是否一致： True\n",
      "是否為同一物件： False\n"
     ]
    }
   ],
   "source": [
    "# 原始物件\n",
    "original = [1, 2, 3]\n",
    "# 用 eval() 來「複製」物件\n",
    "copy = eval(repr(original))\n",
    "# 複製的物件與援物件內容相同，但不是同一個物件\n",
    "print('複製的物件與援物件內容相同，但不是同一個物件')\n",
    "# 檢查「複製」後的物件與原始物件是否相等\n",
    "print('內容是否一致：', copy == original)\n",
    "# 檢查「複製」後的物件與原始物件是否是同一個物件\n",
    "print('是否為同一物件：', copy is original)"
   ]
  },
  {
   "attachments": {},
   "cell_type": "markdown",
   "metadata": {},
   "source": [
    "### 補充：透過 repr() 傳值給 eval()"
   ]
  },
  {
   "attachments": {},
   "cell_type": "markdown",
   "metadata": {},
   "source": [
    ">- 由上一段的操作可以查看到 eval() 函數是接收了 repr() 所傳入的物件，以下將對此進行說明。\n",
    "\n",
    ">- \\_\\_repr\\_\\_ 是 Python 的一個魔法方法，用於返回物件內所定義的一個可以被 Python 解析的字符串表達式。\n",
    "\n",
    ">- 當調用 repr(object) 函數時，就會調用該物件的 \\_\\_repr\\_\\_ 方法。這個方法的返回值應是一個可由 Python 解析的字串，也就是說，如果將該字串傳入 eval() 函數，那麼該函數應該要能返回一個與原始物件等價的新物件。\n",
    "\n",
    ">- 以上所謂的「應是」代表這具有例外狀況，詳情請見「魔法方法」一節。"
   ]
  },
  {
   "cell_type": "code",
   "execution_count": 32,
   "metadata": {},
   "outputs": [
    {
     "name": "stdout",
     "output_type": "stream",
     "text": [
      "original = [1, 2, 3] id = 140335783968000\n",
      "透過 repr 解析 original = [1, 2, 3] id = 140335783845488\n",
      "透過 eval 複製 repr = [1, 2, 3] id = 140335249962944\n"
     ]
    }
   ],
   "source": [
    "# 建立物件\n",
    "original = [1, 2, 3]\n",
    "print('original =', original, 'id =', id(original))\n",
    "# 用 repr() 來取得物件的字串表示\n",
    "repr_str = repr(original)\n",
    "print('透過 repr 解析 original =', repr_str, 'id =', id(repr_str))\n",
    "# 用 eval() 來「複製」物件\n",
    "copy = eval(repr_str)\n",
    "print('透過 eval 複製 repr =', copy, 'id =', id(copy))"
   ]
  },
  {
   "attachments": {},
   "cell_type": "markdown",
   "metadata": {},
   "source": [
    "### 建立物件：字面量＋不可變數的快取"
   ]
  },
  {
   "cell_type": "code",
   "execution_count": 33,
   "metadata": {},
   "outputs": [
    {
     "name": "stdout",
     "output_type": "stream",
     "text": [
      "140335237857808\n",
      "140335237857808\n"
     ]
    }
   ],
   "source": [
    "# 在快取的範圍內，Python 會將物件指向同一個記憶體位置\n",
    "x = 10\n",
    "y = 10\n",
    "print(id(x))\n",
    "print(id(y))"
   ]
  },
  {
   "attachments": {},
   "cell_type": "markdown",
   "metadata": {},
   "source": [
    "### 建立物件：透過 eval() + repr()"
   ]
  },
  {
   "cell_type": "code",
   "execution_count": 45,
   "metadata": {},
   "outputs": [
    {
     "name": "stdout",
     "output_type": "stream",
     "text": [
      "(1)透過 eval 複製物件「1」\n",
      "140335237857520\n",
      "140335237857520\n",
      "140335237857520\n",
      "(2)透過 eval 複製物件「1000」\n",
      "140335250285616\n",
      "140335250284752\n",
      "140335250285008\n"
     ]
    }
   ],
   "source": [
    "# 建立一個字面量 \n",
    "# 透過 eval() 函式，將 x1 的值複製給 x2\n",
    "# 直接使用 eval() 加上相同字面量 1 建立一個新的物件\n",
    "# 然後查看結果\n",
    "print('(1)透過 eval 複製物件「1」')\n",
    "# 建立一個字面量\n",
    "x1 = 1\n",
    "# 查看 x1 的 id\n",
    "print(id(x1))\n",
    "# 透過 eval() 函式，將 x1 的值複製給 x2\n",
    "x2 = eval(repr(x1))\n",
    "# 直接使用eval()加上字面量 1，建立一個新的物件\n",
    "x3 = eval(repr(1))\n",
    "# 查看 x2 的 id\n",
    "print(id(x2))\n",
    "# 查看 x3 的 id\n",
    "print(id(x3))\n",
    "\n",
    "print('(2)透過 eval 複製物件「1000」')\n",
    "x1 = 1000\n",
    "print(id(x1))\n",
    "x2 = eval(repr(x1))\n",
    "x3 = eval(repr(1000))\n",
    "print(id(x2))\n",
    "print(id(x3))"
   ]
  },
  {
   "attachments": {},
   "cell_type": "markdown",
   "metadata": {},
   "source": [
    "### 將字串傳給 eval()"
   ]
  },
  {
   "cell_type": "code",
   "execution_count": 52,
   "metadata": {},
   "outputs": [
    {
     "name": "stdout",
     "output_type": "stream",
     "text": [
      "x1 是程式碼的內容：1+2, <class 'str'>\n",
      "x2 是程式碼執行的結果：3, <class 'int'>\n"
     ]
    }
   ],
   "source": [
    "# x1 是一個字串物件\n",
    "x1 = '1+2'\n",
    "# eval 必須是個 string、bytes 或 code object\n",
    "# 透過 eval 會解析傳入的字串，也就是將字串當成程式碼執行\n",
    "# 先執行程式碼才傳回結果，也就是 3\n",
    "x2 = eval(x1)\n",
    "# 輸出\n",
    "print(f'x1 是程式碼的內容：{x1}, {type(x1)}') \n",
    "print(f'x2 是程式碼執行的結果：{x2}, {type(x2)}') "
   ]
  },
  {
   "attachments": {},
   "cell_type": "markdown",
   "metadata": {},
   "source": [
    "### 非 string、bytes 或 code object 的運算式 + repr()"
   ]
  },
  {
   "cell_type": "code",
   "execution_count": 53,
   "metadata": {},
   "outputs": [
    {
     "name": "stdout",
     "output_type": "stream",
     "text": [
      "x1 是程式碼的內容：3, <class 'int'>\n",
      "x2 是程式碼執行的結果：3, <class 'int'>\n"
     ]
    }
   ],
   "source": [
    "# 若 x1 不是一個字串時\n",
    "# 為了確保 eval 可以正確執行，必須先將 x1 轉成字串\n",
    "x1 = 1 + 2\n",
    "# eval 必須是個 string、bytes 或 code object\n",
    "x2 = eval(repr(x1))\n",
    "print(f'x1 是程式碼的內容：{x1}, {type(x1)}') \n",
    "print(f'x2 是程式碼執行的結果：{x2}, {type(x2)}') "
   ]
  },
  {
   "attachments": {},
   "cell_type": "markdown",
   "metadata": {},
   "source": [
    "### 進一步測試 eval()"
   ]
  },
  {
   "cell_type": "code",
   "execution_count": 36,
   "metadata": {},
   "outputs": [
    {
     "name": "stdout",
     "output_type": "stream",
     "text": [
      "eval(\"list_1\") 的 id = 140335249889920\n",
      "eval(\"list_1\") 的 id = 140335249889920\n",
      "--------------------------------------------------\n",
      "eval(\"[1, 2, 3]\") 的 id = 140335249891136\n",
      "eval(\"[1, 2, 3]\") 的 id = 140334164323392\n"
     ]
    }
   ],
   "source": [
    "# 透過 eval() 函數\n",
    "# 建立一個列表\n",
    "list_1 = [1, 2, 3]\n",
    "\n",
    "# 透過 eval() 函數建立一個新的列表，因為要測試所以重複執行兩次\n",
    "# 每次 eval() 函數都會執行一次「list_1」並且取出 id\n",
    "# 也就是每次都是輸出這個引用的 id，因此輸出的 id 都相同\n",
    "print(f'eval(\"list_1\") 的 id = {id(eval(\"list_1\"))}')\n",
    "print(f'eval(\"list_1\") 的 id = {id(eval(\"list_1\"))}')\n",
    "print('-' * 50)\n",
    "# 每次都會透過 eval() 函數建立一個內容為 [1, 2, 3] 的列表\n",
    "# 然後再對該列表輸出 id，因此每次都會輸出不同的 id\n",
    "print(f'eval(\"[1, 2, 3]\") 的 id = {id(eval(\"[1, 2, 3]\"))}')\n",
    "print(f'eval(\"[1, 2, 3]\") 的 id = {id(eval(\"[1, 2, 3]\"))}')"
   ]
  },
  {
   "attachments": {},
   "cell_type": "markdown",
   "metadata": {},
   "source": [
    "---END---"
   ]
  }
 ],
 "metadata": {
  "kernelspec": {
   "display_name": "base",
   "language": "python",
   "name": "python3"
  },
  "language_info": {
   "codemirror_mode": {
    "name": "ipython",
    "version": 3
   },
   "file_extension": ".py",
   "mimetype": "text/x-python",
   "name": "python",
   "nbconvert_exporter": "python",
   "pygments_lexer": "ipython3",
   "version": "3.10.9"
  },
  "orig_nbformat": 4
 },
 "nbformat": 4,
 "nbformat_minor": 2
}
