{
 "cells": [
  {
   "attachments": {},
   "cell_type": "markdown",
   "metadata": {},
   "source": [
    "# <font color='red'>dict 自定義深層複製函數</font>\n",
    "\n",
    ">- 因為 Python 的 dict 無法使用 copy.deepcopy()，也沒有自帶深複製方法，所以自定義功能提供給字典使用。"
   ]
  },
  {
   "cell_type": "code",
   "execution_count": 5,
   "metadata": {},
   "outputs": [],
   "source": [
    "# 自定義函數 deepcopy_dict()，用來深拷貝字典\n",
    "def deepcopy_dict(original_dict):\n",
    "    # 建立一個新的字典\n",
    "    new_dict = {}\n",
    "    # 逐一複製原始字典的 key-value\n",
    "    for key, value in original_dict.items():\n",
    "        # 如果值是字典，則遞迴複製\n",
    "        if isinstance(value, dict):\n",
    "            new_dict[key] = deepcopy_dict(value)\n",
    "        # 如果值是列表，建立一個新的列表並遞迴複製其中的字典\n",
    "        elif isinstance(value, list):\n",
    "            new_dict[key] = [deepcopy_dict(item) if isinstance(item, dict) else item for item in value]\n",
    "        # 其他類型的值直接複製\n",
    "        else:\n",
    "            new_dict[key] = value\n",
    "    # 回傳新的字典\n",
    "    return new_dict\n",
    "\n",
    "\n"
   ]
  },
  {
   "attachments": {},
   "cell_type": "markdown",
   "metadata": {},
   "source": [
    ">- 以下測試一下自定義函數 deepcopy_dict()"
   ]
  },
  {
   "cell_type": "code",
   "execution_count": 12,
   "metadata": {},
   "outputs": [
    {
     "name": "stdout",
     "output_type": "stream",
     "text": [
      "建立一個字典：\n",
      "140266262865024 {'a': [1, 2, 3], 'b': 2, 'c': 3}\n",
      "調用自定義函數 deepcopy_dict() 複製字典：\n",
      "【說明】這會是一個完全獨立的複製，與原字典內容完全一致，但互不影響\n",
      "140266262861120 {'a': [1, 2, 3], 'b': 2, 'c': 3}\n",
      "--------------------------------------------------\n",
      "【說明】改變 dict1 中 dict1['a'][0] 資料的值：\n",
      "140266262865024 {'a': [100, 2, 3], 'b': 2, 'c': 3}\n",
      "【說明】dict2 不會同步改變：\n",
      "140266262861120 {'a': [1, 2, 3], 'b': 2, 'c': 3}\n"
     ]
    }
   ],
   "source": [
    "# 建立一個二維的字典 dict1\n",
    "print('建立一個字典：')\n",
    "dict1 = {'a': [1, 2, 3], 'b': 2, 'c': 3}\n",
    "# 透過 deepcopy_dict() 方法複製 dict1 的內容到 dict2\n",
    "dict2 = deepcopy_dict(dict1)\n",
    "# 這是深拷貝，dict1 與 dict2 的 id 不同\n",
    "print(id(dict1), dict1)\n",
    "#\n",
    "print('調用自定義函數 deepcopy_dict() 複製字典：')\n",
    "print('【說明】這會是一個完全獨立的複製，與原字典內容完全一致，但互不影響')\n",
    "print(id(dict2), dict2)\n",
    "\n",
    "#######################################\n",
    "print('-' * 50)\n",
    "# 改變 dict1 中高維度資料的值\n",
    "print(\"【說明】改變 dict1 中 dict1['a'][0] 資料的值：\")\n",
    "dict1['a'][0] = 100\n",
    "# dict1 與 dict2 不會同步改變\n",
    "print(id(dict1), dict1)\n",
    "print('【說明】dict2 不會同步改變：')\n",
    "print(id(dict2), dict2)"
   ]
  },
  {
   "attachments": {},
   "cell_type": "markdown",
   "metadata": {},
   "source": [
    "---END---"
   ]
  }
 ],
 "metadata": {
  "kernelspec": {
   "display_name": "base",
   "language": "python",
   "name": "python3"
  },
  "language_info": {
   "codemirror_mode": {
    "name": "ipython",
    "version": 3
   },
   "file_extension": ".py",
   "mimetype": "text/x-python",
   "name": "python",
   "nbconvert_exporter": "python",
   "pygments_lexer": "ipython3",
   "version": "3.10.9"
  },
  "orig_nbformat": 4
 },
 "nbformat": 4,
 "nbformat_minor": 2
}
