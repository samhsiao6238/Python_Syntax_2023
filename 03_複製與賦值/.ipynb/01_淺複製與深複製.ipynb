{
 "cells": [
  {
   "attachments": {},
   "cell_type": "markdown",
   "metadata": {},
   "source": [
    "# 淺複製、深複製"
   ]
  },
  {
   "attachments": {},
   "cell_type": "markdown",
   "metadata": {},
   "source": [
    "## <font color='red'>淺複製</font>"
   ]
  },
  {
   "attachments": {},
   "cell_type": "markdown",
   "metadata": {},
   "source": [
    "### 淺複製的方式"
   ]
  },
  {
   "attachments": {},
   "cell_type": "markdown",
   "metadata": {},
   "source": [
    ">- 調用 Python 內建模組 copy 中的 copy() 方法。\n",
    "\n",
    ">- 列表（list）除了可調用 copy.copy() 進行淺複製，還可透過類別自帶的方法 copy() 進行物件淺複製。\n",
    "\n",
    ">- 對序列類型物件（如 list、tuple、str）進行切片也會進行淺複製（關於切片詳見指定章節）。\n",
    "\n",
    ">- 透過列表生成式進行淺複製。"
   ]
  },
  {
   "attachments": {},
   "cell_type": "markdown",
   "metadata": {},
   "source": [
    "### 淺複製的說明"
   ]
  },
  {
   "attachments": {},
   "cell_type": "markdown",
   "metadata": {},
   "source": [
    ">- <font color='red'>無論物件的本身是可變或是不可變類型</font>，淺複製都會完整複製一個全新物件，複製後的內容相同但 id 不同。\n",
    "\n",
    ">- <font color='red'>無論容器內的元素是可變或不可變</font>，淺複製將會完全複製並保有對原物件所有元素的引用。\n",
    "\n",
    ">- 當<font color='red'>試圖修改淺複製物件中不可變元素的值</font>，因為不可變特性將<font color='red'>會建立新的元素</font>，並且不影響原物件與其元素。\n",
    "\n",
    ">- 當<font color='red'>試圖修改淺複製物件中的可變元素</font>，因為可變特性將<font color='red'>不會建立新物件</font>，所以兩個物件將會同步改變。"
   ]
  },
  {
   "attachments": {},
   "cell_type": "markdown",
   "metadata": {},
   "source": [
    "### 淺複製的範例"
   ]
  },
  {
   "cell_type": "code",
   "execution_count": 135,
   "metadata": {},
   "outputs": [
    {
     "name": "stdout",
     "output_type": "stream",
     "text": [
      "(1) numbers_1 和 numbers_2 的 id 及內容：\n",
      "140644349177280 [1, 2, 3, [4, 5, 6], (7, 8, 9)]\n",
      "140644349177984 [1, 2, 3, [4, 5, 6], (7, 8, 9)]\n",
      "\n",
      "(2) 容器內的不可變物件的 id 與內容：\n",
      "140644341416176 1\n",
      "140644341416176 1\n",
      "\n",
      "(3) 容器內的可變物件的 id 與內容：\n",
      "140644349179392 [4, 5, 6]\n",
      "140644349179392 [4, 5, 6]\n"
     ]
    }
   ],
   "source": [
    "# 建立一個列表\n",
    "numbers_1 = [1, 2, 3, [4, 5, 6], (7, 8, 9)]\n",
    "# 淺複製\n",
    "numbers_2 = numbers_1.copy()\n",
    "# 查看 numbers_1 和 numbers_2 的 id 及內容\n",
    "print('(1) numbers_1 和 numbers_2 的 id 及內容：')\n",
    "print(id(numbers_1), numbers_1)\n",
    "print(id(numbers_2), numbers_2)\n",
    "# 容器內的不可變物件的 id 與內容\n",
    "print('\\n(2) 容器內的不可變物件的 id 與內容：')\n",
    "print(id(numbers_1[0]), numbers_1[0])\n",
    "print(id(numbers_2[0]), numbers_2[0])\n",
    "# 容器內的可變物件的 id 與內容\n",
    "print('\\n(3) 容器內的可變物件的 id 與內容：')\n",
    "print(id(numbers_1[3]), numbers_1[3])\n",
    "print(id(numbers_2[3]), numbers_2[3])"
   ]
  },
  {
   "cell_type": "code",
   "execution_count": 136,
   "metadata": {},
   "outputs": [
    {
     "name": "stdout",
     "output_type": "stream",
     "text": [
      "【說明】無論容器內的元素是可變或不可變，淺複製將會完全複製並保有對原物件所有元素的引用。\n",
      "(1) 逐一比較兩物件全部元素的 id 是否相同：\n",
      "True \n",
      "True \n",
      "True \n",
      "True : True True True \n",
      "True : True True True \n"
     ]
    }
   ],
   "source": [
    "# 建立一個列表，包含整數、列表、數組\n",
    "numbers_1 = [1, 2, 3, [4, 5, 6], (7, 8, 9)]\n",
    "# 淺複製\n",
    "numbers_2 = numbers_1.copy()\n",
    "\n",
    "print('【說明】無論容器內的元素是可變或不可變，淺複製將會完全複製並保有對原物件所有元素的引用。')\n",
    "print('(1) 逐一比較兩物件全部元素的 id 是否相同：')\n",
    "# 遍歷每一個元素\n",
    "for i in range(len(numbers_1)):\n",
    "    # 檢查頂層元素的 id 是否相同\n",
    "    print(id(numbers_1[i]) == id(numbers_2[i]), end=' ')\n",
    "\n",
    "    # 如果元素是列表或數組，則檢查其內部元素的 id 是否相同\n",
    "    if isinstance(numbers_1[i], (list, tuple)):\n",
    "        # 加入分隔符號來分隔頂層元素與內部元素的比較結果\n",
    "        print(':', end=' ')  \n",
    "        for j in range(len(numbers_1[i])):\n",
    "            print(id(numbers_1[i][j]) == id(numbers_2[i][j]), end=' ')\n",
    "    # 換行以區隔不同的元素\n",
    "    print('')  "
   ]
  },
  {
   "cell_type": "code",
   "execution_count": 137,
   "metadata": {},
   "outputs": [
    {
     "name": "stdout",
     "output_type": "stream",
     "text": [
      "(1) 複製後，輸出兩物件的 id 與內容：\n",
      "140644348814592 [1, 2, 3, [4, 5, 6], (7, 8, 9)]\n",
      "140643943639296 [1, 2, 3, [4, 5, 6], (7, 8, 9)]\n",
      "\n",
      "(2) 後續要對第一個元素 numbers_1[0] 進行修改，因此輸出其 id 與內容進行觀察：\n",
      "【說明】id 相同，內容相同\n",
      "140644341416176 1\n",
      "140644341416176 1\n",
      "\n",
      "(3) 修改第一個元素 numbers_1[0] 並觀察兩物件的 id 與 內容變化：\n",
      "【說明】id 與原本相同\n",
      "140644348814592 [999, 2, 3, [4, 5, 6], (7, 8, 9)]\n",
      "140643943639296 [1, 2, 3, [4, 5, 6], (7, 8, 9)]\n",
      "\n",
      "(4) 觀察所修改的元素的 id 與內容：\n",
      "【說明】被修改的元素 id 與值皆改變\n",
      "140643405067376 999\n",
      "140644341416176 1\n"
     ]
    }
   ],
   "source": [
    "# 建立一個列表，包含整數、列表、數組\n",
    "numbers_1 = [1, 2, 3, [4, 5, 6], (7, 8, 9)]\n",
    "# 淺複製\n",
    "numbers_2 = numbers_1.copy()\n",
    "# 複製後，輸出兩物件的 id 與內容\n",
    "print('(1) 複製後，輸出兩物件的 id 與內容：')\n",
    "print(id(numbers_1), numbers_1)\n",
    "print(id(numbers_2), numbers_2)\n",
    "# 後續要對第一個元素 numbers_1[0] 進行修改，因此輸出其 id 與內容進行觀察\n",
    "print('\\n(2) 後續要對第一個元素 numbers_1[0] 進行修改，因此輸出其 id 與內容進行觀察：')\n",
    "print('【說明】id 相同，內容相同')\n",
    "print(id(numbers_1[0]), numbers_1[0])\n",
    "print(id(numbers_2[0]), numbers_2[0])\n",
    "\n",
    "# 修改第一個元素 numbers_1[0] 並觀察兩物件的 id 與 內容變化\n",
    "# 物件本身為可變物件，因此其 id 不變，\n",
    "numbers_1[0] = 999\n",
    "print('\\n(3) 修改第一個元素 numbers_1[0] 並觀察兩物件的 id 與 內容變化：')\n",
    "print('【說明】id 與原本相同')\n",
    "print(id(numbers_1), numbers_1)\n",
    "print(id(numbers_2), numbers_2)\n",
    "# 觀察所修改的元素的 id 與內容\n",
    "print('\\n(4) 觀察所修改的元素的 id 與內容：')\n",
    "print('【說明】被修改的元素 id 與值皆改變')\n",
    "print(id(numbers_1[0]), numbers_1[0])\n",
    "print(id(numbers_2[0]), numbers_2[0])\n"
   ]
  },
  {
   "cell_type": "code",
   "execution_count": 138,
   "metadata": {},
   "outputs": [
    {
     "name": "stdout",
     "output_type": "stream",
     "text": [
      "【說明】對列表進行淺複製，並修改其中可變物件的元素\n",
      "\n",
      "(1) 複製後，輸出兩物件的 id 與內容：\n",
      "140643943936704 [1, 2, 3, [4, 5, 6], (7, 8, 9)]\n",
      "140643281009664 [1, 2, 3, [4, 5, 6], (7, 8, 9)]\n",
      "\n",
      "(2) 修改第四個元素 numbers_1[3] 並觀察兩物件的 id 與 內容變化：\n",
      "【說明】淺複製會複製全部的引用，當修改可變元素時，兩物件的值都會改變\n",
      "140643943936704 [1, 2, 3, [999, 5, 6], (7, 8, 9)]\n",
      "140643281009664 [1, 2, 3, [999, 5, 6], (7, 8, 9)]\n"
     ]
    }
   ],
   "source": [
    "# 對列表進行淺複製，並修改其中可變物件的元素\n",
    "print('【說明】對列表進行淺複製，並修改其中可變物件的元素')\n",
    "# 建立一個列表，包含整數、列表、數組\n",
    "numbers_1 = [1, 2, 3, [4, 5, 6], (7, 8, 9)]\n",
    "# 淺複製\n",
    "numbers_2 = numbers_1.copy()\n",
    "\n",
    "# 複製後，輸出兩物件的 id 與內容\n",
    "print('\\n(1) 複製後，輸出兩物件的 id 與內容：')\n",
    "print(id(numbers_1), numbers_1)\n",
    "print(id(numbers_2), numbers_2)\n",
    "\n",
    "# 修改第四個元素 numbers_1[3] 並觀察兩物件的 id 與 內容變化\n",
    "print('\\n(2) 修改第四個元素 numbers_1[3] 並觀察兩物件的 id 與 內容變化：')\n",
    "print('【說明】淺複製會複製全部的引用，當修改可變元素時，兩物件的值都會改變')\n",
    "numbers_1[3][0] = 999\n",
    "print(id(numbers_1), numbers_1)\n",
    "print(id(numbers_2), numbers_2)\n",
    "\n"
   ]
  },
  {
   "cell_type": "code",
   "execution_count": 139,
   "metadata": {},
   "outputs": [
    {
     "name": "stdout",
     "output_type": "stream",
     "text": [
      "【說明】改用 copy.copy() 進行淺複製：\n",
      "\n",
      "(1) 複製後，輸出兩物件的 id 與內容：\n",
      "【說明】id 不同，但內容相同\n",
      "140643943938432 [1, 2, 3, [4, 5, 6], (7, 8, 9)]\n",
      "140643405746368 [1, 2, 3, [4, 5, 6], (7, 8, 9)]\n",
      "\n",
      "(2) 後續要對第一個元素 numbers_1[0] 進行修改，因此輸出其 id 與內容進行觀察：\n",
      "【說明】id 相同，內容相同\n",
      "140644341416176 1\n",
      "140644341416176 1\n",
      "\n",
      "(3) 修改第一個元素 numbers_1[0] 並觀察兩物件的 id 與 內容變化：\n",
      "【說明】id 與原本相同\n",
      "140643943938432 [999, 2, 3, [4, 5, 6], (7, 8, 9)]\n",
      "140643405746368 [1, 2, 3, [4, 5, 6], (7, 8, 9)]\n",
      "\n",
      "(4) 觀察所修改的元素的 id 與內容：\n",
      "【說明】被修改的元素 id 與值皆改變\n",
      "140643405054352 999\n",
      "140644341416176 1\n"
     ]
    }
   ],
   "source": [
    "# 改用 copy.copy() 進行淺複製\n",
    "print('【說明】改用 copy.copy() 進行淺複製：')\n",
    "# 導入 copy 模組\n",
    "import copy\n",
    "# 建立一個列表，包含整數、列表、數組\n",
    "numbers_1 = [1, 2, 3, [4, 5, 6], (7, 8, 9)]\n",
    "# 淺複製\n",
    "numbers_2 = copy.copy(numbers_1)\n",
    "\n",
    "# 複製後，輸出兩物件的 id 與內容\n",
    "print('\\n(1) 複製後，輸出兩物件的 id 與內容：')\n",
    "print('【說明】id 不同，但內容相同')\n",
    "print(id(numbers_1), numbers_1)\n",
    "print(id(numbers_2), numbers_2)\n",
    "\n",
    "# 後續要對第一個元素 numbers_1[0] 進行修改，因此輸出其 id 與內容進行觀察\n",
    "print('\\n(2) 後續要對第一個元素 numbers_1[0] 進行修改，因此輸出其 id 與內容進行觀察：')\n",
    "print('【說明】id 相同，內容相同')\n",
    "print(id(numbers_1[0]), numbers_1[0])\n",
    "print(id(numbers_2[0]), numbers_2[0])\n",
    "\n",
    "# 修改第一個元素 numbers_1[0] 並觀察兩物件的 id 與 內容變化\n",
    "# 物件本身為可變物件，因此其 id 不變\n",
    "numbers_1[0] = 999\n",
    "print('\\n(3) 修改第一個元素 numbers_1[0] 並觀察兩物件的 id 與 內容變化：')\n",
    "print('【說明】id 與原本相同')\n",
    "print(id(numbers_1), numbers_1)\n",
    "print(id(numbers_2), numbers_2)\n",
    "\n",
    "# 觀察所修改的元素的 id 與內容\n",
    "print('\\n(4) 觀察所修改的元素的 id 與內容：')\n",
    "print('【說明】被修改的元素 id 與值皆改變')\n",
    "print(id(numbers_1[0]), numbers_1[0])\n",
    "print(id(numbers_2[0]), numbers_2[0])"
   ]
  },
  {
   "attachments": {},
   "cell_type": "markdown",
   "metadata": {},
   "source": [
    "## <font color='red'>深複製</font>"
   ]
  },
  {
   "attachments": {},
   "cell_type": "markdown",
   "metadata": {},
   "source": [
    "### 深複製的方法"
   ]
  },
  {
   "attachments": {},
   "cell_type": "markdown",
   "metadata": {},
   "source": [
    ">- 調用 Python 內建模組 copy 中的 deepcopy() 方法深複製物件。"
   ]
  },
  {
   "attachments": {},
   "cell_type": "markdown",
   "metadata": {},
   "source": [
    "### 深複製的說明"
   ]
  },
  {
   "attachments": {},
   "cell_type": "markdown",
   "metadata": {},
   "source": [
    ">- 進行深複製時會完整複製原物件內容。\n",
    "\n",
    ">- 新舊物件及其所有元素都是完全獨立的，但特別注意，所謂的完全獨立並不代表複製完成時他們是完全沒有關連，其中在 id 的部分會依照資料類型不同而有不同處理規則。\n",
    "\n",
    ">- 新物件中的不可變類型資料仍將參考原物件，這是因為不可變物件在下一次被修改時本就會建立新物件，所以在尚未變更時，基於效能與系統資源考量並無立即建立新物件的必要。\n",
    "\n",
    ">- 新物件中的可變類型元素的會是全新物件並擁有不同參考(id)，但其高維度內的不可變類型資料仍將保有援物件的參考。"
   ]
  },
  {
   "attachments": {},
   "cell_type": "markdown",
   "metadata": {},
   "source": [
    "### 深複製的範例"
   ]
  },
  {
   "cell_type": "code",
   "execution_count": 140,
   "metadata": {},
   "outputs": [
    {
     "name": "stdout",
     "output_type": "stream",
     "text": [
      "\n",
      "(1) 深複製後，輸出兩物件的 id 與內容：\n",
      "【說明】深複製會複製完整全新物件，所以物件的 id 不同，但內容相同\n",
      "140643943961920 [1, 2, 3, [[4, 4, 4], 5, 6], (7, 8, 9)]\n",
      "140643280766016 [1, 2, 3, [[4, 4, 4], 5, 6], (7, 8, 9)]\n",
      "\n",
      "(2) 逐一比較兩物件全部元素的 id 是否相同：\n",
      "【說明】無論物件內的元素是可變或不可變，都會被完整複製\n",
      "【說明】其中可變元素將擁有新的 id，比較結果如下：\n",
      "True \n",
      "True \n",
      "True \n",
      "False : False True True \n",
      "True : True True True \n"
     ]
    }
   ],
   "source": [
    "import copy\n",
    "# 建立一個列表，包含整數、列表、數組\n",
    "numbers_1 = [1, 2, 3, [[4, 4, 4], 5, 6], (7, 8, 9)]\n",
    "# 深複製\n",
    "numbers_2 = copy.deepcopy(numbers_1)\n",
    "\n",
    "# 複製後，輸出兩物件的 id 與內容\n",
    "print('\\n(1) 深複製後，輸出兩物件的 id 與內容：')\n",
    "print('【說明】深複製會複製完整全新物件，所以物件的 id 不同，但內容相同')\n",
    "print(id(numbers_1), numbers_1)\n",
    "print(id(numbers_2), numbers_2)\n",
    "\n",
    "\n",
    "print('\\n(2) 逐一比較兩物件全部元素的 id 是否相同：')\n",
    "print('【說明】無論物件內的元素是可變或不可變，都會被完整複製')\n",
    "print('【說明】其中可變元素將擁有新的 id，比較結果如下：')\n",
    "# 遍歷每一個元素\n",
    "for i in range(len(numbers_1)):\n",
    "    # 檢查頂層元素的 id 是否相同\n",
    "    print(id(numbers_1[i]) == id(numbers_2[i]), end=' ')\n",
    "\n",
    "    # 如果元素是列表或數組，則檢查其內部元素的 id 是否相同\n",
    "    if isinstance(numbers_1[i], (list, tuple)):\n",
    "        # 加入分隔符號來分隔頂層元素與內部元素的比較結果\n",
    "        print(':', end=' ')  \n",
    "        for j in range(len(numbers_1[i])):\n",
    "            print(id(numbers_1[i][j]) == id(numbers_2[i][j]), end=' ')\n",
    "    # 換行以區隔不同的元素\n",
    "    print('')  "
   ]
  },
  {
   "cell_type": "code",
   "execution_count": 141,
   "metadata": {},
   "outputs": [
    {
     "name": "stdout",
     "output_type": "stream",
     "text": [
      "\n",
      "(1) 輸出第四個元素 numbers_1[3] 的 id 與內容：\n",
      "【說明】這是可變元素，所以深複製後 id 不同，但內容相同\n",
      "140644349179392 [[4, 4, 4], 5, 6]\n",
      "140643279231872 [[4, 4, 4], 5, 6]\n",
      "\n",
      "(2) 輸出第三個元素 numbers_1[2] 的 id 與內容：\n",
      "【說明】這是不可變元素，所以深複製後 id 相同，內容相同\n",
      "140644341416240 3\n",
      "140644341416240 3\n",
      "\n",
      "(3) 對第四個元素 numbers_1[3] 進行修改，並觀察兩物件的 id 與 內容變化：\n",
      "【說明】深複製會複製完整全新物件，所以物件的 id 不同，但內容相同\n",
      "140643943624832 [1, 2, 3, [[999, 4, 4], 5, 6], (7, 8, 9)]\n",
      "140644349176832 [1, 2, 3, [[4, 4, 4], 5, 6], (7, 8, 9)]\n"
     ]
    }
   ],
   "source": [
    "# 建立一個列表，包含整數、列表、數組\n",
    "numbers_1 = [1, 2, 3, [[4, 4, 4], 5, 6], (7, 8, 9)]\n",
    "# 深複製\n",
    "numbers_2 = copy.deepcopy(numbers_1)\n",
    "\n",
    "# 輸出第四個元素 numbers_1[3] 的 id 與內容\n",
    "print('\\n(1) 輸出第四個元素 numbers_1[3] 的 id 與內容：')\n",
    "print('【說明】這是可變元素，所以深複製後 id 不同，但內容相同')\n",
    "print(id(numbers_1[3]), numbers_1[3])\n",
    "print(id(numbers_2[3]), numbers_2[3])\n",
    "\n",
    "# 輸出第三個元素 numbers_1[2] 的 id 與內容\n",
    "print('\\n(2) 輸出第三個元素 numbers_1[2] 的 id 與內容：')\n",
    "print('【說明】這是不可變元素，所以深複製後 id 相同，內容相同')\n",
    "print(id(numbers_1[2]), numbers_1[2])\n",
    "print(id(numbers_2[2]), numbers_2[2])\n",
    "\n",
    "# 對第四個元素 numbers_1[3] 進行修改，並觀察兩物件的 id 與 內容變化\n",
    "print('\\n(3) 對第四個元素 numbers_1[3] 進行修改，並觀察兩物件的 id 與 內容變化：')\n",
    "print('【說明】深複製會複製完整全新物件，所以物件的 id 不同，但內容相同')\n",
    "numbers_1[3][0][0] = 999\n",
    "print(id(numbers_1), numbers_1)\n",
    "print(id(numbers_2), numbers_2)"
   ]
  },
  {
   "attachments": {},
   "cell_type": "markdown",
   "metadata": {},
   "source": [
    "---END---"
   ]
  }
 ],
 "metadata": {
  "kernelspec": {
   "display_name": "base",
   "language": "python",
   "name": "python3"
  },
  "language_info": {
   "codemirror_mode": {
    "name": "ipython",
    "version": 3
   },
   "file_extension": ".py",
   "mimetype": "text/x-python",
   "name": "python",
   "nbconvert_exporter": "python",
   "pygments_lexer": "ipython3",
   "version": "3.10.9"
  },
  "orig_nbformat": 4
 },
 "nbformat": 4,
 "nbformat_minor": 2
}
