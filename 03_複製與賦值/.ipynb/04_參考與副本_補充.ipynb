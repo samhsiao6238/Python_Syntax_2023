{
 "cells": [
  {
   "attachments": {},
   "cell_type": "markdown",
   "metadata": {},
   "source": [
    "# <font color='red'>參考</font> 與 <font color='red'>副本</font>\n",
    "\n",
    ">- 這小節應該要移到「淺複製與深複製」前面，但內容的說明太過於嚴謹，屬於定義面的描述，所以放在後面作為補充，不想瞭解太深入的定義問題可以略過無妨。"
   ]
  },
  {
   "attachments": {},
   "cell_type": "markdown",
   "metadata": {},
   "source": [
    "## 參考"
   ]
  },
  {
   "attachments": {},
   "cell_type": "markdown",
   "metadata": {},
   "source": [
    "### 參考的說明"
   ]
  },
  {
   "attachments": {},
   "cell_type": "markdown",
   "metadata": {},
   "source": [
    ">- 或稱為引用。參考或引用在 Python 中指的是物件的 id（唯一識別碼），也就是物件所在的記憶體位址。\n",
    "\n",
    ">- 換句話說，Python 中的變數所指向的便是這個參考，這個參考的標識符是由 id 函數所返回，而該 id 代表的位置內的資料就是物件本身。\n",
    "\n",
    ">- 在 Python 中，當建立一個變數並將其賦值時，實際上是建立一個變數並使其指向該物件的參考，也可以說該變數是參考到該物件；同理，若是使用變數對變數賦值，那新的變數便是參考到原本變數所參考的參考上，當然，這個參考就是一個 id。\n",
    "\n",
    ">- 特別說明，Python 中沒有指標（pointer）。"
   ]
  },
  {
   "attachments": {},
   "cell_type": "markdown",
   "metadata": {},
   "source": [
    "## 副本"
   ]
  },
  {
   "attachments": {},
   "cell_type": "markdown",
   "metadata": {},
   "source": [
    "### 副本的說明"
   ]
  },
  {
   "attachments": {},
   "cell_type": "markdown",
   "metadata": {},
   "source": [
    ">- 在 Python 中，副本指的是對原始物件（object）的完整複製（復刻），這個複製會產生一個新的物件，其內容與原始物件相同，特別注意，因為是全新物件，所以兩物件在記憶體中的位置（ id）是不同的。\n",
    "\n",
    ">- Python 中的淺複製、深複製都是建立副本，目的是建立全新的物件，但兩者在如何處理原始物件的內部結構上有所不同。\n",
    "\n",
    ">- 此處不細說淺複製或深複製的具體內容，請詳見相關的章節。"
   ]
  },
  {
   "attachments": {},
   "cell_type": "markdown",
   "metadata": {},
   "source": [
    "---END---"
   ]
  }
 ],
 "metadata": {
  "kernelspec": {
   "display_name": "base",
   "language": "python",
   "name": "python3"
  },
  "language_info": {
   "codemirror_mode": {
    "name": "ipython",
    "version": 3
   },
   "file_extension": ".py",
   "mimetype": "text/x-python",
   "name": "python",
   "nbconvert_exporter": "python",
   "pygments_lexer": "ipython3",
   "version": "3.10.9"
  },
  "orig_nbformat": 4
 },
 "nbformat": 4,
 "nbformat_minor": 2
}
